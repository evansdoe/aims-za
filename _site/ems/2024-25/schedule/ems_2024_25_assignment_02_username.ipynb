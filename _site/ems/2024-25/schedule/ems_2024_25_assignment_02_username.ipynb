{
 "cells": [
  {
   "cell_type": "markdown",
   "metadata": {},
   "source": [
    "<img src=\"./images/aims-za-logo.jpeg\" alt=\"drawing\" style=\"width:400px;\"/>\n",
    "<h1 style=\"text-align: center;\"><a title=\"EMS-AIMS-ZA-2024-25\" href=\"https://evansdoe.github.io/aims-za/ems/2024-25\">Experimental Mathematics Using SageMath — AIMS-ZA-2024-25</a></h1>\n",
    "\n",
    "\n",
    "## Instructors: \n",
    "\n",
    "* <a href=\"http://evansdoe.github.io\">**Evans Ocansey**</a>"
   ]
  },
  {
   "cell_type": "markdown",
   "metadata": {},
   "source": [
    "## Homework Assignment (due Saturday 16th November 2024, 13:00 GMT+2)  <a class=\"anchor\" id=\"homework-assignment-02\"></a>\n",
    "\n",
    "\n",
    "Instructions for homework assignments: \n",
    "- Make sure to rename this notebook by replacing the word `username` with your AIMS username. For example, if my name is `Evans`, then I will rename this notebook to be `ems_2024_25_assignment_02_evans`.\n",
    "- You must write, type, use Jupyter notebook, or use $\\LaTeX$ to submit homework. **ALL CODE MUST BE EXPLAINED**. That means you should have at least one English sentence to explain each line of code that you write. This may be in a form of a comments or in a paragraph after each computation in your upyter notebook.\n",
    "- Similarly, do not simply write your explorations as lists of numbers, but write explanations of what you tried, and what didn’t work.\n",
    "- Do **NOT** use internet resources, or GPT-like models for the exploration; for help with _SageMath_ or _Python_ you may search the internet, of course. You are also welcome to ask me or any of the tutors.\n",
    "- The starred (*) exercises are more important; you should be working on them early and often. To pass the course you should try to do all the starred exercises.\n",
    "\n",
    "The outline of this notebook is as follows:\n",
    "\n",
    "## Table of Contents: <a class=\"anchor\" id=\"assignment-01-toc\"></a>\n",
    "* [<font color=green>Exercise 01</font>](#exercise-01)\n",
    "* [<font color=green>Exercise 02</font>](#exercise-02)\n",
    "* [<font color=green>Exercise 03</font>](#exercise-03)\n",
    "* [<font color=green>Exercise 04</font>](#exercise-04)\n",
    "* [<font color=green>Exercise 05</font>](#exercise-05)\n",
    "* [<font color=green>Exercise 06</font>](#exercise-06)\n",
    "* [<font color=green>Exercise 07</font>](#exercise-07)\n",
    "* [<font color=green>Exercise 08</font>](#exercise-08)\n",
    "* [<font color=green>Exercise 09</font>](#exercise-09)\n",
    "* [<font color=green>Exercise 10</font>](#exercise-10)\n",
    "* [<font color=green>Exercise 11</font>](#exercise-11)\n",
    "* [<font color=green>Exercise 12</font>](#exercise-11)"
   ]
  },
  {
   "cell_type": "markdown",
   "metadata": {},
   "source": [
    "## <font color=green>Exercise 01</font> <a class = \"anchor\" id=\"exercise-01\"></a>\n",
    "\n",
    "(*) Pick one of the following topics or any topic of your interest. Write a small tutorial (in English) about this topic to introduce a beginner to doing this topic with Sage. You should use your own words and it should have at least three paragraphs, along with at least four longer Sage examples. \n",
    "- Multivariable Calculus\n",
    "- Graph Theory\n",
    "- Number Theory\n",
    "- Differential Equations\n",
    "- Linear Algebra\n",
    "- Statistics\n",
    "- Abstract Algebra\n",
    "- Operation Research\n",
    "- Optimization\n",
    "- Communications\n",
    "- Financial Mathematics"
   ]
  },
  {
   "cell_type": "code",
   "execution_count": null,
   "metadata": {},
   "outputs": [],
   "source": []
  },
  {
   "cell_type": "code",
   "execution_count": null,
   "metadata": {},
   "outputs": [],
   "source": []
  },
  {
   "cell_type": "markdown",
   "metadata": {},
   "source": [
    "## <font color=green>Exercise 02</font> <a class = \"anchor\" id=\"exercise-02\"></a>  \n",
    "\n",
    "(*) Make a complicated plot, with the following criteria.  \n",
    "It should have at least three separate plots you combine, one of which is not just plotting a function (it could be data, implicit, a shape, etc.).\n",
    "\n",
    "You should use at least TEN different optional graphics keywords properly (and meaningfully).\n",
    "\n",
    "As usual, explain what you did!\n",
    "\n",
    "For a bonus, you can animate it (the animation must be meaningful, though). See the Sage function animate. You can also read the help file [here](https://doc.sagemath.org/html/en/reference/plotting/sage/plot/animate.html).\n",
    "\n"
   ]
  },
  {
   "cell_type": "code",
   "execution_count": null,
   "metadata": {},
   "outputs": [],
   "source": []
  },
  {
   "cell_type": "code",
   "execution_count": null,
   "metadata": {},
   "outputs": [],
   "source": []
  },
  {
   "cell_type": "code",
   "execution_count": null,
   "metadata": {},
   "outputs": [],
   "source": []
  },
  {
   "cell_type": "markdown",
   "metadata": {},
   "source": [
    "## <font color=green>Exercise 03</font> <a class = \"anchor\" id=\"exercise-03\"></a>  \n",
    "\n",
    "(*) Write up your code and explorations of $n=a^2+b^2$.  I want to know all the patterns you found.  Do you have any ideas about formulas?  You can discuss prime numbers, remainders/modulo, the number of ways to write $n$ in this form, geometric insights, or anything else.  Show your creativity!  Also explain what you did; do not just give results."
   ]
  },
  {
   "cell_type": "code",
   "execution_count": null,
   "metadata": {},
   "outputs": [],
   "source": []
  },
  {
   "cell_type": "code",
   "execution_count": null,
   "metadata": {},
   "outputs": [],
   "source": []
  },
  {
   "cell_type": "code",
   "execution_count": null,
   "metadata": {},
   "outputs": [],
   "source": []
  },
  {
   "cell_type": "markdown",
   "metadata": {},
   "source": [
    "## <font color=green>Exercise 04</font> <a class = \"anchor\" id=\"exercise-04\"></a>  \n",
    "\n",
    "(*) Investigate one other (binary) quadratic form that you have picked.  Explore it in the same way as the previous one.  Tell me about all the patterns you found, just like in the previous question.  Are there any interesting equivalent quadratic forms you found?"
   ]
  },
  {
   "cell_type": "code",
   "execution_count": null,
   "metadata": {},
   "outputs": [],
   "source": []
  },
  {
   "cell_type": "code",
   "execution_count": null,
   "metadata": {},
   "outputs": [],
   "source": []
  },
  {
   "cell_type": "code",
   "execution_count": null,
   "metadata": {},
   "outputs": [],
   "source": []
  },
  {
   "cell_type": "markdown",
   "metadata": {},
   "source": [
    "## <font color=green>Exercise 05</font> <a class = \"anchor\" id=\"exercise-04\"></a>  \n",
    "\n",
    "(*) By looking at the values of $n$ possible (by hand or by using Sage), observe that the quadratic forms $x^2+2\\,y^2$ and $x^2+2\\,x\\,y +3\\,y^2$ seem to represent the same values; record your experimentation. Check that these forms have the same discriminant, and then find an algebraic transformation (or matrix) that will convert one into the other."
   ]
  },
  {
   "cell_type": "code",
   "execution_count": 26,
   "metadata": {},
   "outputs": [
    {
     "data": {
      "text/plain": [
       "True"
      ]
     },
     "execution_count": 26,
     "metadata": {},
     "output_type": "execute_result"
    }
   ],
   "source": [
    "# Sage code to compute values represented by the forms\n",
    "Q1 = lambda x, y: x^2 + 2*y^2\n",
    "Q2 = lambda x, y: x^2 + 2*x*y + 3*y^2\n",
    "\n",
    "# Generate values for small integers\n",
    "values_Q1 = sorted({Q1(x, y) for x in range(-10, 11) for y in range(-10, 11)})\n",
    "values_Q2 = sorted({Q2(x, y) for x in range(-10, 11) for y in range(-10, 11)})\n",
    "\n",
    "all([i in set(values_Q1).intersection(set(values_Q2)) for i in values_Q1])"
   ]
  },
  {
   "cell_type": "code",
   "execution_count": null,
   "metadata": {},
   "outputs": [],
   "source": []
  },
  {
   "cell_type": "code",
   "execution_count": 81,
   "metadata": {},
   "outputs": [
    {
     "data": {
      "application/vnd.jupyter.widget-view+json": {
       "model_id": "a704eea6d7d84ef6b64315e9ccc7592a",
       "version_major": 2,
       "version_minor": 0
      },
      "text/plain": [
       "Interactive function <function _ at 0x7f8eaf5c37e0> with 1 widget\n",
       "  n: IntSlider(value=68, description='n', max=204, min=-68)"
      ]
     },
     "metadata": {},
     "output_type": "display_data"
    }
   ],
   "source": [
    "f(x,y) = x^2 + 2*y^2\n",
    "g(x,y) = x^2 + 2*x*y + 3*y^2\n",
    "\n",
    "@interact\n",
    "def _(n=68):\n",
    "    max = floor(3*sqrt(n))\n",
    "    F = implicit_plot(f==n,(x,-max,max),(y,-max,max),color='blue')\n",
    "    G = implicit_plot(g==n,(x,-max,max),(y,-max,max),color='red')\n",
    "    pts = [(a,b) for a in range(-max,max+1) for b in range(-max,max+1)]\n",
    "    int_pts = []\n",
    "    for pt in pts:\n",
    "        for func in [f,g]:\n",
    "            if func(*pt)==n:\n",
    "                int_pts.append(pt)\n",
    "                break\n",
    "    \n",
    "    (F+G+point(int_pts,color='black',size=20)).show(gridlines=[range(-max,max+1),range(-max,max+1)])"
   ]
  },
  {
   "cell_type": "code",
   "execution_count": 116,
   "metadata": {},
   "outputs": [],
   "source": [
    "def generate_sum_of_squares_data(\n",
    "    a: int = 1,\n",
    "    b: int = 0,\n",
    "    c: int = 1,\n",
    "    x_bound: int = 6,\n",
    "    y_bound: int = 6\n",
    ") -> dict[int, list[tuple[int, int]]]:\n",
    "    \n",
    "    sum_of_squares_data = {}\n",
    "    for x in [-x_bound..x_bound]:\n",
    "        for y in [-y_bound..y_bound]:\n",
    "            form_val = a*x**2 + b*x*y + c*y**2\n",
    "            if form_val not in sum_of_squares_data:\n",
    "                sum_of_squares_data[form_val] = [(x, y)]\n",
    "            else:\n",
    "                sum_of_squares_data[form_val].append((x, y))\n",
    "    return dict(sorted(sum_of_squares_data.items()))"
   ]
  },
  {
   "cell_type": "code",
   "execution_count": 117,
   "metadata": {},
   "outputs": [],
   "source": [
    "form_data_1 = generate_sum_of_squares_data(a=1, b=0, c=2, x_bound=5, y_bound=5)\n",
    "form_data_2 = generate_sum_of_squares_data(a=1, b=2, c=3, x_bound=5, y_bound=5)"
   ]
  },
  {
   "cell_type": "code",
   "execution_count": 119,
   "metadata": {},
   "outputs": [
    {
     "data": {
      "text/plain": [
       "True"
      ]
     },
     "execution_count": 119,
     "metadata": {},
     "output_type": "execute_result"
    }
   ],
   "source": [
    "Set(form_data_1.keys()).issubset(Set(form_data_1.keys()))"
   ]
  },
  {
   "cell_type": "code",
   "execution_count": 112,
   "metadata": {},
   "outputs": [
    {
     "data": {
      "text/plain": [
       "set()"
      ]
     },
     "execution_count": 112,
     "metadata": {},
     "output_type": "execute_result"
    }
   ],
   "source": [
    "set(form_data_1.keys()).difference(set(form_data_2.keys()))"
   ]
  },
  {
   "cell_type": "code",
   "execution_count": 113,
   "metadata": {},
   "outputs": [],
   "source": [
    "form_1_not_writable_data = set(range(max(form_data_1.keys()))).difference(set(form_data_1.keys()))\n",
    "form_2_not_writable_data = set(range(max(form_data_2.keys()))).difference(set(form_data_2.keys()))"
   ]
  },
  {
   "cell_type": "code",
   "execution_count": 114,
   "metadata": {},
   "outputs": [
    {
     "data": {
      "text/plain": [
       "{38, 44, 67, 68}"
      ]
     },
     "execution_count": 114,
     "metadata": {},
     "output_type": "execute_result"
    }
   ],
   "source": [
    "form_1_not_writable_data.difference(form_2_not_writable_data)"
   ]
  },
  {
   "cell_type": "code",
   "execution_count": 115,
   "metadata": {},
   "outputs": [
    {
     "data": {
      "text/plain": [
       "{5,\n",
       " 7,\n",
       " 10,\n",
       " 13,\n",
       " 14,\n",
       " 15,\n",
       " 20,\n",
       " 21,\n",
       " 23,\n",
       " 26,\n",
       " 28,\n",
       " 29,\n",
       " 30,\n",
       " 31,\n",
       " 35,\n",
       " 37,\n",
       " 38,\n",
       " 39,\n",
       " 40,\n",
       " 42,\n",
       " 44,\n",
       " 45,\n",
       " 46,\n",
       " 47,\n",
       " 49,\n",
       " 52,\n",
       " 53,\n",
       " 55,\n",
       " 56,\n",
       " 58,\n",
       " 60,\n",
       " 61,\n",
       " 62,\n",
       " 63,\n",
       " 64,\n",
       " 65,\n",
       " 67,\n",
       " 68,\n",
       " 69,\n",
       " 70,\n",
       " 71,\n",
       " 72,\n",
       " 73,\n",
       " 74}"
      ]
     },
     "execution_count": 115,
     "metadata": {},
     "output_type": "execute_result"
    }
   ],
   "source": [
    "form_1_not_writable_data"
   ]
  },
  {
   "cell_type": "code",
   "execution_count": 92,
   "metadata": {},
   "outputs": [
    {
     "data": {
      "text/plain": [
       "{0, 1, 2, 3, 4, 6}"
      ]
     },
     "execution_count": 92,
     "metadata": {},
     "output_type": "execute_result"
    }
   ],
   "source": [
    "set([mod(key, 8) for key in form_data_1])"
   ]
  },
  {
   "cell_type": "code",
   "execution_count": 93,
   "metadata": {},
   "outputs": [
    {
     "data": {
      "text/plain": [
       "{0, 1, 2, 3, 4, 6}"
      ]
     },
     "execution_count": 93,
     "metadata": {},
     "output_type": "execute_result"
    }
   ],
   "source": [
    "set([mod(key, 8) for key in form_data_2])"
   ]
  },
  {
   "cell_type": "code",
   "execution_count": 105,
   "metadata": {},
   "outputs": [
    {
     "data": {
      "text/plain": [
       "{0, 1, 2, 3, 4, 5, 6, 7, 8, 9, 10}"
      ]
     },
     "execution_count": 105,
     "metadata": {},
     "output_type": "execute_result"
    }
   ],
   "source": [
    "set([mod(val, 11) for val in form_1_not_writable_data])"
   ]
  },
  {
   "cell_type": "markdown",
   "metadata": {},
   "source": [
    "## <font color=green>Exercise 06</font> <a class = \"anchor\" id=\"exercise-05\"></a> \n",
    "\n",
    "The form $2\\,x^2+3\\,y^2$ has discriminant $-24$.  Find another binary quadratic form of the form $a\\,x^2+b\\,y^2$ which has the same discriminant, but which can represent a number that $2\\,x^2+3\\,y^2$ cannot, and hence is not equivalent. Explain what you did to find this form."
   ]
  },
  {
   "cell_type": "code",
   "execution_count": null,
   "metadata": {},
   "outputs": [],
   "source": []
  },
  {
   "cell_type": "code",
   "execution_count": null,
   "metadata": {},
   "outputs": [],
   "source": []
  },
  {
   "cell_type": "code",
   "execution_count": null,
   "metadata": {},
   "outputs": [],
   "source": []
  },
  {
   "cell_type": "markdown",
   "metadata": {},
   "source": [
    "## <font color=green> Exercise 07 </font> <a class = \"anchor\" id=\"exercise-07\"></a>\n",
    "\n",
    "In the proof that for $n$ odd: \n",
    "\n",
    "$$\n",
    "3\\,Q(n) = Q(2n)\n",
    "$$ \n",
    "\n",
    "in Wednesday's lecture, fill in the details for two of the steps so that you could explain it to someone else."
   ]
  },
  {
   "cell_type": "code",
   "execution_count": null,
   "metadata": {},
   "outputs": [],
   "source": []
  },
  {
   "cell_type": "code",
   "execution_count": null,
   "metadata": {},
   "outputs": [],
   "source": []
  },
  {
   "cell_type": "code",
   "execution_count": null,
   "metadata": {},
   "outputs": [],
   "source": []
  },
  {
   "cell_type": "markdown",
   "metadata": {},
   "source": [
    "## <font color=green> Exercise 08 </font> <a class = \"anchor\" id=\"exercise-08\"></a> \n",
    "\n",
    "Show that $23$ is not writable as a sum of only eight perfect positive cube numbers.  Can you write it as a sum of fewer than eight perfect cubes, negative or positive?  What is the other number which requires nine cubes?  Be sure to show your code or reasoning!"
   ]
  },
  {
   "cell_type": "markdown",
   "metadata": {},
   "source": [
    "A perfect cube is a number of the form $n^3$ where nn is a positive integer. The first few positive cubes are:\n",
    "$$1^3=1,  2^3=8,  3^3=27,  4^3=64$$\n",
    "\n",
    "To express $23$ as the sum of $8$ cubes, we attempt to maximize the largest cube that fits and decompose the remainder. Since $2^3=8$ is the largest cube less than $2^3$, we explore sums of cubes with values $\\leq 8$.\n",
    "\n",
    "**Upper Bound on $8$ Cubes**\n",
    "\n",
    "If all $8$ cubes were $1^3=1$, the sum is $8$. Replacing some $1^3$ values with $2^3=8$, the largest sum achievable with $8$ cubes is:\n",
    "\n",
    "$$7\\cdot 1+1 \\cdot 8=15,  \\quad 6\\cdot 1+2\\cdot 8=16, \\quad  8 \\cdot 8=64$$\n",
    "\n",
    "Clearly, $23$ is between $15$ and $64$, so it may be possible. However, a careful search reveals no way to partition $23$ as a sum of eight positive cubes. Here's the reasoning programmatically."
   ]
  },
  {
   "cell_type": "markdown",
   "metadata": {},
   "source": [
    "**Part 2: Fewer than 8 Perfect Cubes (Allowing Negative Cubes)**\n",
    "\n",
    "If we allow fewer cubes and include negative cubes, we solve:\n",
    "\n",
    "$$23=\\sum_{i=1}^{n}a_{i}^3$$\n",
    "\n",
    "\n",
    "where $a_{i}$ can be positive or negative integers."
   ]
  },
  {
   "cell_type": "code",
   "execution_count": 121,
   "metadata": {},
   "outputs": [
    {
     "data": {
      "text/plain": [
       "(-1000, -1, 512, 512)"
      ]
     },
     "execution_count": 121,
     "metadata": {},
     "output_type": "execute_result"
    }
   ],
   "source": [
    "from itertools import product as prdt\n",
    "\n",
    "# Define a range for cubes\n",
    "cubes = [n**3 for n in range(-10, 11) if n != 0]  # Perfect cubes (positive and negative)\n",
    "\n",
    "def find_cube_sum(target, max_cubes):\n",
    "    \"\"\"Finds a way to write target as a sum of cubes using at most max_cubes cubes.\"\"\"\n",
    "    for num_cubes in range(1, max_cubes + 1):\n",
    "        for combination in prdt(cubes, repeat=num_cubes):\n",
    "            if sum(combination) == target:\n",
    "                return combination\n",
    "    return None\n",
    "\n",
    "# Check for 23 as a sum of cubes\n",
    "target = 23\n",
    "max_cubes = 8\n",
    "result_fewer_cubes = find_cube_sum(target, max_cubes)\n",
    "\n",
    "result_fewer_cubes"
   ]
  },
  {
   "cell_type": "code",
   "execution_count": 120,
   "metadata": {},
   "outputs": [
    {
     "data": {
      "text/plain": [
       "(None, [1, 1, 1, 27, 27, 27, 27, 64, 64])"
      ]
     },
     "execution_count": 120,
     "metadata": {},
     "output_type": "execute_result"
    }
   ],
   "source": [
    "# Optimized approach to verify 239 with fewer than 9 positive cubes\n",
    "from functools import lru_cache\n",
    "\n",
    "@lru_cache(None)\n",
    "def find_cube_sum_optimized(target, max_cubes):\n",
    "    \"\"\"Optimized recursive function to find cube sums.\"\"\"\n",
    "    if max_cubes == 0:\n",
    "        return None if target != 0 else []\n",
    "    positive_cubes = [n**3 for n in range(1, 20) if n**3 <= target]\n",
    "    for cube in positive_cubes:\n",
    "        result = find_cube_sum_optimized(target - cube, max_cubes - 1)\n",
    "        if result is not None:\n",
    "            return [cube] + result\n",
    "    return None\n",
    "\n",
    "target_239 = 239\n",
    "\n",
    "# Check for up to 8 cubes\n",
    "result_239_fewer_cubes = find_cube_sum_optimized(target_239, 8)\n",
    "\n",
    "# Check for exactly 9 cubes\n",
    "result_239_nine_cubes = find_cube_sum_optimized(target_239, 9)\n",
    "\n",
    "(result_239_fewer_cubes, result_239_nine_cubes)\n"
   ]
  },
  {
   "cell_type": "markdown",
   "metadata": {},
   "source": [
    "The number $239$ cannot be expressed as a sum of fewer than $9$ positive perfect cubes. However, it can be expressed as a sum of exactly $9$ positive cubes:\n",
    "\n",
    "$$239=1^3+1^3+1^3+3^3+3^3+3^3+3^3+4^3+4^3$$\n",
    "\n",
    "\n",
    "This confirms that $239$ is one of the two numbers requiring exactly $9$ positive cubes, with the other being $23$."
   ]
  },
  {
   "cell_type": "markdown",
   "metadata": {},
   "source": [
    "## <font color=green>Exercise 09</font> <a class = \"anchor\" id=\"exercise-09\"></a> \n",
    "\n",
    "Prove that $a\\,(a+1)\\,(2a+1)$ is always divisible by $6$.  \n",
    "\n",
    "**Hint**: Use cases for the possibilities of what $a$ can be modulo $6$."
   ]
  },
  {
   "cell_type": "code",
   "execution_count": null,
   "metadata": {},
   "outputs": [],
   "source": []
  },
  {
   "cell_type": "code",
   "execution_count": null,
   "metadata": {},
   "outputs": [],
   "source": []
  },
  {
   "cell_type": "code",
   "execution_count": null,
   "metadata": {},
   "outputs": [],
   "source": []
  },
  {
   "cell_type": "markdown",
   "metadata": {},
   "source": [
    "## <font color=green>Exercise 10</font> <a class = \"anchor\" id=\"exercise-10\"></a> \n",
    "\n",
    "Implement the prime counting function:\n",
    "\n",
    "$$\n",
    "    \\pi(n)=-1+\\sum_{j=3}^{n}\\left((j-2)!-j\\left\\lfloor\\frac{(j-2)!}{j}\\right\\rfloor\\right)\n",
    "$$\n",
    "\n",
    "in Sage and check that it works for small values.  (Don't try big ones because of the factorials unless you want to crash your computer!) As always, comment and explain your code."
   ]
  },
  {
   "cell_type": "code",
   "execution_count": null,
   "metadata": {},
   "outputs": [],
   "source": []
  },
  {
   "cell_type": "code",
   "execution_count": null,
   "metadata": {},
   "outputs": [],
   "source": []
  },
  {
   "cell_type": "code",
   "execution_count": null,
   "metadata": {},
   "outputs": [],
   "source": []
  },
  {
   "cell_type": "markdown",
   "metadata": {},
   "source": [
    "The last two exercises:\n",
    "\n",
    "- [Exercise 11](#exercise-11)\n",
    "- [Exercise 12](#exercise-12)\n",
    "\n",
    "are optional. They are designed to encourage and challenge students who wish to further develop and strengthen their programming skills."
   ]
  },
  {
   "cell_type": "markdown",
   "metadata": {},
   "source": [
    "## <font color=green>Exercise 11</font> <a class = \"anchor\" id=\"exercise-11\"></a> \n",
    "\n",
    "\n",
    "1. Draw a [vertex labelled graph](http://mathworld.wolfram.com/LabeledGraph.html). (You may want to draw something simple.)\n",
    "2. Which _Python_ datatype would be best to encode any [vertex labelled graph](http://mathworld.wolfram.com/LabeledGraph.html)?\n",
    "3. Use the _SageMath_ documentation on `Graph` to construct the vertex-labelled graph that you drew in part 1.\n",
    "4. Apply as many methods as you can to the `Graph` object that you created in part 3.\n"
   ]
  },
  {
   "cell_type": "code",
   "execution_count": null,
   "metadata": {},
   "outputs": [],
   "source": []
  },
  {
   "cell_type": "code",
   "execution_count": null,
   "metadata": {},
   "outputs": [],
   "source": []
  },
  {
   "cell_type": "code",
   "execution_count": null,
   "metadata": {},
   "outputs": [],
   "source": []
  },
  {
   "cell_type": "markdown",
   "metadata": {},
   "source": [
    "## <font color=green>Exercise 12</font> <a class = \"anchor\" id=\"exercise-12\"></a> \n",
    "\n",
    "Random walk on the graph you defined in [Exercise 11](#exercise-11)\n",
    "\n",
    "Suppose there is a robot standing on one of the vertices of the graph that you defined in [Exercise 11](#exercise-11). This position can be chosen randomly. Write a Python function named `random_walk_on_graph` that takes a positive integer as input — representing the number of walks the robot makes on the vertices of your graph — and returns a table that records the number of times the robot visited each vertex in your graph. What is the position of the robot at the $100$-th step? What can you observe about the tabulated data? \n",
    "\n",
    "**Hint**: Read the help documentation on the _SageMath_ functions `choice` and `table`. You may need them in your code. What did you observe from the tabulated data?\n"
   ]
  },
  {
   "cell_type": "code",
   "execution_count": null,
   "metadata": {},
   "outputs": [],
   "source": []
  },
  {
   "cell_type": "code",
   "execution_count": null,
   "metadata": {},
   "outputs": [],
   "source": []
  },
  {
   "cell_type": "code",
   "execution_count": null,
   "metadata": {},
   "outputs": [],
   "source": []
  }
 ],
 "metadata": {
  "kernelspec": {
   "display_name": "SageMath 10.4",
   "language": "sage",
   "name": "sagemath"
  },
  "language_info": {
   "codemirror_mode": {
    "name": "ipython",
    "version": 3
   },
   "file_extension": ".py",
   "mimetype": "text/x-python",
   "name": "python",
   "nbconvert_exporter": "python",
   "pygments_lexer": "ipython3",
   "version": "3.11.2"
  }
 },
 "nbformat": 4,
 "nbformat_minor": 4
}
