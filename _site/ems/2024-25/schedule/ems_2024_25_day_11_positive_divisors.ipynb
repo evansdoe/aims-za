{
 "cells": [
  {
   "cell_type": "markdown",
   "metadata": {},
   "source": [
    "<img src=\"./images/aims-za-logo.jpeg\" alt=\"drawing\" style=\"width:400px;\"/>\n",
    "<h1 style=\"text-align: center;\"><a title=\"EMS-AIMS-ZA-2024-25\" href=\"https://evansdoe.github.io/aims-za/ems/2024-25/\">Experimental Mathematics Using SageMath — AIMS-ZA-2024-25</a></h1>\n",
    "\n",
    "\n",
    "## Instructors: \n",
    "\n",
    "* <a href=\"http://evansdoe.github.io\">**Evans Ocansey**</a>"
   ]
  },
  {
   "cell_type": "markdown",
   "metadata": {},
   "source": [
    "## Day 11 — Positive Divisors<a class=\"anchor\" id = \"day-11-positive-divisors\"></a>\n",
    "\n",
    "[comment]: <> (<h2 style=\"text-align: left;\">Day 02 — Introduction to <a title=\"SageMath\"href=\"http://www.sagemath.org/\"><em>SageMath</em></a>: A Mathematics Software for All</h2>)"
   ]
  },
  {
   "cell_type": "markdown",
   "metadata": {},
   "source": [
    "The outline of the this notebook is as follows:\n",
    "\n",
    "## Table of Contents: <a class=\"anchor\" id=\"day-11-toc\"></a> \n",
    "* [ ] [<font color=blue>Investigating Arithmetic Functions</font>](#recall-from-last-lecture)\n",
    "* [ ] [<font color=blue>Arithmetic Functions</font>](#the-partition-class-using-keywords)\n",
    "  * [<font color=blue>Multiplicative Functions</font>](#keyword-max-slope)\n",
    "  * [<font color=blue>Completely Multiplicative Functions</font>](#keyword-parts-in)\n",
    "* [ ] [<font color=blue>Multiplicative Properties of $\\tau$ and $\\sigma$</font>](#statements-to-explore)\n",
    "* [ ] [<font color=blue>Exploring $\\tau$ and $\\sigma$ in Sage</font>](#statements-to-explore)\n",
    "* [ ] [<font color=blue>Questions to Explore</font>](#the-partition-class-using-keywords)\n",
    "  * [<font color=blue>Exploring Question 1</font>](#exploring-question-1)\n",
    "  * [<font color=blue>Exploring Question 2</font>](#exploring-question-2)"
   ]
  },
  {
   "cell_type": "markdown",
   "metadata": {},
   "source": [
    "# Investigating Arithmetic Functions  <a class=\"anchor\" id=\"investigating-arithmetic-functions\"></a>\n",
    "\n",
    "Today, we will explore the functions $\\tau$ and $\\sigma$, where:\n",
    "- $\\tau(n)$ counts the number of positive divisors of $n$, and\n",
    "- $\\sigma(n)$ gives the sum of the positive divisors of $n$.\n",
    "\n",
    "Our goal is to use logical reasoning, supported by **SageMath**, to not only make conjectures but also begin proving them."
   ]
  },
  {
   "cell_type": "markdown",
   "metadata": {},
   "source": [
    "## Arithmetic Functions <a class=\"anchor\" id=\"arithmetic-functions\"></a>\n",
    " \n",
    "**Definition**: An **arithmetic function** is a real or complex-valued function $f$ defined on the set of positive integers:\n",
    "\n",
    "$$\n",
    "f : \\mathbb{Z}_{>0} \\to \\mathbb{C}.\n",
    "$$"
   ]
  },
  {
   "cell_type": "markdown",
   "metadata": {},
   "source": [
    "### Multiplicative Functions <a class=\"anchor\" id=\"multiplicative-functions\"></a>\n",
    "\n",
    "An arithmetic function $ f $ is said to be **multiplicative** if it satisfies the following conditions:\n",
    "1. $ f $ is not identically zero, and\n",
    "2. $f(a \\cdot b) = f(a) \\cdot f(b) \\quad \\text{whenever } \\gcd(a, b) = 1. $"
   ]
  },
  {
   "cell_type": "markdown",
   "metadata": {},
   "source": [
    "### Completely Multiplicative Functions <a class=\"anchor\" id=\"completely-multiplicative-functions\"></a>\n",
    "\n",
    "An arithmetic function $ f $ is **completely multiplicative** if:\n",
    "\n",
    "$$\n",
    "f(a \\cdot b) = f(a) \\cdot f(b) \\quad \\text{for all } a, b \\in \\mathbb{N}.\n",
    "$$"
   ]
  },
  {
   "cell_type": "markdown",
   "metadata": {},
   "source": [
    "## Multiplicative Properties of $\\tau$ and $\\sigma$\n",
    "\n",
    "Are $\\tau$ and $\\sigma$ multiplicative?"
   ]
  },
  {
   "cell_type": "markdown",
   "metadata": {},
   "source": [
    "### The Case of $\\tau$  <a class=\"anchor\" id=\"the-case-of-tau\"></a>\n",
    "\n",
    "Let us prove that $\\tau$ is a multiplicative function. To do so, we will consider the following questions:\n",
    "\n",
    "1. **Is $\\tau$ an arithmetic function?**\n",
    "   - Yes, $\\tau$ is an arithmetic function. For all $ n \\in \\mathbb{N} $, $ \\tau(n) $ is a natural number. Since $ \\mathbb{N} \\subset \\mathbb{C} $, it follows that $\\tau$ is an arithmetic function.\n",
    "\n",
    "2. **For $ a, b \\in \\mathbb{N} $ with $ \\gcd(a, b) = 1 $, is $ \\tau(a \\cdot b) = \\tau(a) \\cdot \\tau(b) $?**\n",
    "   - To prove this, consider:\n",
    "     - The number of divisors of $ a \\cdot b $, where $ \\gcd(a, b) = 1 $.\n",
    "     - Since $ \\gcd(a, b) = 1 $, the divisors of $ a \\cdot b $ are exactly the combinations of the divisors of $ a $ and $ b $. Specifically:\n",
    "       - For a divisor $ a_1 $ of $ a $, the divisors of $ a \\cdot b $ include $ a_1 $ multiplied by each divisor of $ b $.\n",
    "       - The total number of such divisors is $ \\tau(a) \\cdot \\tau(b) $, proving that $ \\tau(a \\cdot b) = \\tau(a) \\cdot \\tau(b) $.\n",
    "\n",
    "Thus, $\\tau$ is multiplicative."
   ]
  },
  {
   "cell_type": "markdown",
   "metadata": {},
   "source": [
    "### The Case of $\\sigma$ <a class=\"anchor\" id=\"the-case-of-sigma\"></a>\n",
    "\n",
    "Write your proof here."
   ]
  },
  {
   "cell_type": "code",
   "execution_count": null,
   "metadata": {},
   "outputs": [],
   "source": []
  },
  {
   "cell_type": "code",
   "execution_count": null,
   "metadata": {},
   "outputs": [],
   "source": []
  },
  {
   "cell_type": "markdown",
   "metadata": {},
   "source": [
    "## Exploring $\\tau$ and $\\sigma$ in Sage  <a class=\"anchor\" id=\"exploring-tau-and-sigma-in-sage\"></a>\n",
    "\n",
    "How do you define $\\tau$ and $\\sigma$ in Sage?"
   ]
  },
  {
   "cell_type": "code",
   "execution_count": null,
   "metadata": {},
   "outputs": [],
   "source": []
  },
  {
   "cell_type": "code",
   "execution_count": null,
   "metadata": {},
   "outputs": [],
   "source": []
  },
  {
   "cell_type": "code",
   "execution_count": null,
   "metadata": {},
   "outputs": [],
   "source": []
  },
  {
   "cell_type": "markdown",
   "metadata": {},
   "source": [
    "## Questions to Explore  <a class=\"anchor\" id=\"questions-to-explore\"></a>"
   ]
  },
  {
   "cell_type": "code",
   "execution_count": null,
   "metadata": {},
   "outputs": [],
   "source": []
  },
  {
   "cell_type": "code",
   "execution_count": null,
   "metadata": {},
   "outputs": [],
   "source": []
  },
  {
   "cell_type": "code",
   "execution_count": null,
   "metadata": {},
   "outputs": [],
   "source": []
  },
  {
   "cell_type": "markdown",
   "metadata": {},
   "source": [
    "### Exploring Question 1  <a class=\"anchor\" id=\"exploring-question-1\"></a>"
   ]
  },
  {
   "cell_type": "code",
   "execution_count": null,
   "metadata": {},
   "outputs": [],
   "source": []
  },
  {
   "cell_type": "code",
   "execution_count": null,
   "metadata": {},
   "outputs": [],
   "source": []
  },
  {
   "cell_type": "code",
   "execution_count": null,
   "metadata": {},
   "outputs": [],
   "source": []
  },
  {
   "cell_type": "markdown",
   "metadata": {},
   "source": [
    "### Exploring Question 2 <a class=\"anchor\" id=\"exploring-question-1\"></a>\n"
   ]
  },
  {
   "cell_type": "code",
   "execution_count": null,
   "metadata": {},
   "outputs": [],
   "source": []
  },
  {
   "cell_type": "code",
   "execution_count": null,
   "metadata": {},
   "outputs": [],
   "source": []
  },
  {
   "cell_type": "code",
   "execution_count": null,
   "metadata": {},
   "outputs": [],
   "source": []
  },
  {
   "cell_type": "markdown",
   "metadata": {},
   "source": [
    "## Conjectures to Explore  <a class=\"anchor\" id=\"conjectures-to-explore\"></a>"
   ]
  },
  {
   "cell_type": "code",
   "execution_count": null,
   "metadata": {},
   "outputs": [],
   "source": []
  },
  {
   "cell_type": "markdown",
   "metadata": {},
   "source": [
    "### Exploring Conjecture 1 <a class=\"anchor\" id=\"exploring-conjecture-1\"></a>"
   ]
  },
  {
   "cell_type": "code",
   "execution_count": null,
   "metadata": {},
   "outputs": [],
   "source": []
  },
  {
   "cell_type": "code",
   "execution_count": null,
   "metadata": {},
   "outputs": [],
   "source": []
  },
  {
   "cell_type": "markdown",
   "metadata": {},
   "source": [
    "### Exploring Conjecture 2  <a class=\"anchor\" id=\"exploring-conjecture-2\"></a>"
   ]
  },
  {
   "cell_type": "code",
   "execution_count": null,
   "metadata": {},
   "outputs": [],
   "source": []
  },
  {
   "cell_type": "code",
   "execution_count": null,
   "metadata": {},
   "outputs": [],
   "source": []
  },
  {
   "cell_type": "code",
   "execution_count": null,
   "metadata": {},
   "outputs": [],
   "source": []
  }
 ],
 "metadata": {
  "kernelspec": {
   "display_name": "SageMath 10.4",
   "language": "sage",
   "name": "sagemath"
  },
  "language_info": {
   "codemirror_mode": {
    "name": "ipython",
    "version": 3
   },
   "file_extension": ".py",
   "mimetype": "text/x-python",
   "name": "python",
   "nbconvert_exporter": "python",
   "pygments_lexer": "ipython3",
   "version": "3.11.2"
  }
 },
 "nbformat": 4,
 "nbformat_minor": 4
}
