{
 "cells": [
  {
   "cell_type": "markdown",
   "metadata": {},
   "source": [
    "<img src=\"./images/aims-za-logo.jpeg\" alt=\"drawing\" style=\"width:400px;\"/>\n",
    "<h1 style=\"text-align: center;\"><a title=\"EMS-AIMS-ZA-2024-25\" href=\"https://evansdoe.github.io/aims-za/ems/2024-25/\">Experimental Mathematics Using SageMath — AIMS-ZA-2024-25</a></h1>\n",
    "\n",
    "\n",
    "## Instructors: \n",
    "\n",
    "* <a href=\"http://evansdoe.github.io\">**Evans Ocansey**</a>"
   ]
  },
  {
   "cell_type": "markdown",
   "metadata": {},
   "source": [
    "## Day 12 — More on Positive Divisors<a class=\"anchor\" id = \"day-12-more-on-positive-divisors\"></a>\n",
    "\n",
    "\n",
    "The outline of the this notebook is as follows:"
   ]
  },
  {
   "cell_type": "markdown",
   "metadata": {},
   "source": [
    "## Table of Contents: <a class=\"anchor\" id=\"day-11-toc\"></a> \n",
    "* [ ] [<font color=blue>Recap — Yesterdays' Lecture</font>](#recap-yesterday-lecture)\n",
    "* [ ] [<font color=blue>General Formulae — Hints</font>](#general-formulae-hints)\n",
    "  * [<font color=blue>Observation</font>](#observation)\n",
    "* [ ] [<font color=blue>Exploring with $\\tau$</font>](#exploring-with-tau)\n",
    "  * [<font color=blue>More questions to explore</font>](#more-questions-to-explore)\n",
    "* [ ] [<font color=blue>Exploring Divisors</font>](#exploring-divisors)\n",
    "  * [<font color=blue>Modulo</font>](#modulo)\n",
    "* [ ] [<font color=blue>Sizes and Possibilities</font>](#sizes-and-possibilities)\n",
    "* [ ] [<font color=blue>Interact</font>](#interact)"
   ]
  },
  {
   "cell_type": "markdown",
   "metadata": {},
   "source": [
    "## Recap — Yesterday's Lecture <a class=\"anchor\" id=\"recap-yesterdays-lecture\"></a>\n",
    "\n",
    "**Definition**: An **arithmetic function** is a real or complex $f$ defined on the set of positive integers. That is $f : \\mathbb{Z}_{>0} \\to \\mathbb{C}$. An arithmetic function $f$ is said to be **multiplicative** if it is not identically zero and if \n",
    "$$\n",
    "f(a b) = f(a) f(b) \\quad \\text{whenever } \\gcd(a, b) = 1.\n",
    "$$\n",
    "\n",
    "Let $a$ and $b$ be positive integers and $f : \\mathbb{Z}_{>0} \\to \\mathbb{C}$ is an arithmetic function. If $\\gcd(a, b) = 1$ and $f(a b) = f(a) f(b)$, then $f$ is said to be multiplicative.\n",
    "\n",
    "$f$ is said to be **completely multiplicative** if \n",
    "$$\n",
    "f(a b) = f(a) f(b) \\quad \\text{for all } a, b \\in \\mathbb{N}.\n",
    "$$\n",
    "\n",
    "Knowing the definition of $\\tau$ and what it means for an arithmetic function to be multiplicative, can we prove that $\\tau$ and $\\sigma$ are both multiplicative functions?\n",
    "\n",
    "Let us first consider $\\tau$. To prove that $\\tau$ is a multiplicative function, we must ask ourselves the following questions. \n",
    "\n",
    "1. Is $\\tau$ an arithmetic function?\n",
    "\n",
    "   - Yes, $\\tau$ is an arithmetic function by definition. In particular, for all $n \\in \\mathbb{N}, \\tau(n) \\in \\mathbb{N}$ and since $\\mathbb{N} \\subset \\mathbb{C}$, it follows that $\\tau$ is an arithmetic function.\n",
    "\n",
    "2. For any two positive integers $a$ and $b$ with $\\gcd(a, b) = 1$, is \n",
    "   $$\n",
    "   \\tau(a b) = \\tau(a) \\tau(b)?\n",
    "   $$\n",
    "\n",
    "   - We want to count the number of divisors of the product $a b$ given that $\\gcd(a, b) = 1$. From $\\gcd(a, b) = 1$, we know that $a$ does not divide $b$ and vice-versa. Therefore, for a given divisor of $a$, say $a_{1}$, the set of divisors of the product $a b$ will be $a_{1}$ multiplied by all the divisors of $b$. That is, the set \n",
    "     $$\n",
    "     \\{a_{1} k \\mid k \\text{ divides } b\\}\n",
    "     $$\n",
    "     with cardinality $\\tau(b)$. Repeating this for all the divisors of $a$ is exactly the product $\\tau(a) \\tau(b)$. This completes the proof."
   ]
  },
  {
   "cell_type": "markdown",
   "metadata": {},
   "source": [
    "**How will you define $\\tau$ in *Sage*?**\n",
    "\n",
    "In *Sage*, you can define $\\tau$, the number of divisors function, as follows:"
   ]
  },
  {
   "cell_type": "code",
   "execution_count": null,
   "metadata": {},
   "outputs": [],
   "source": [
    "def tau(n):\n",
    "    r\"\"\"\n",
    "    Returns the number of divisors of $n$.\n",
    "    \"\"\"\n",
    "    return number_of_divisors(n)"
   ]
  },
  {
   "cell_type": "code",
   "execution_count": null,
   "metadata": {},
   "outputs": [],
   "source": []
  },
  {
   "cell_type": "code",
   "execution_count": null,
   "metadata": {},
   "outputs": [],
   "source": [
    "tau(48) == tau(8)*tau(6)"
   ]
  },
  {
   "cell_type": "markdown",
   "metadata": {},
   "source": [
    "Oops! What just happened? I thought we just proved that $\\tau$ was multiplicative. What went wrong here?"
   ]
  },
  {
   "cell_type": "code",
   "execution_count": null,
   "metadata": {},
   "outputs": [],
   "source": []
  },
  {
   "cell_type": "code",
   "execution_count": null,
   "metadata": {},
   "outputs": [],
   "source": []
  },
  {
   "cell_type": "markdown",
   "metadata": {},
   "source": [
    "Can you think of questions that we could explore on the number of divisors function $\\tau$?  \n",
    "\n",
    " * If $n$ is prime, what is $\\tau(n)$?\n",
    " * If $n$ is a sum of two perfect squares, i.e., $n=a^{2}+b^{2}$, is $\\tau(n)$ even or odd? \n",
    " * What is $\\tau(n)$ if n is a perfect square. Is there a pattern?\n",
    " \n",
    "<hr>\n",
    "Yesterday, you were supposed to do Exploration Question $8$, to derive a general formula for $\\tau(n)$ and $\\sigma(n)$, how did it go? Here are a list of possible questions that could guide us to obtain a general formular for the arithmetic function $\\tau(n)$ for any positive integer $n$. \n",
    "\n",
    " 1. If $p$ is prime, what is the number of divisors of $p$, $\\tau(p)$? We proved this yesterday in class.\n",
    " 2. If $p$ and $q$ are prime, what is $\\tau(p\\,q)$?\n",
    " 3. If $p$ is prime, what is the number of divisors of $p^{k}$ for $k=2,3,\\dots,10$? Is there a general formula for $\\tau(p^{k})$ for all positive integer $k$?\n",
    " 4. Given a positive integer $n$, is there a general formula for the number of divisors? Is there a general formula for $\\tau(n)$?"
   ]
  },
  {
   "cell_type": "code",
   "execution_count": null,
   "metadata": {},
   "outputs": [],
   "source": [
    "tau_of_prime_powers = lambda prime, exp_bound : table(\n",
    "    [(prime^k, tau(prime^k) == k+1) for k in [0..exp_bound]], \n",
    "    header_row=[\"$p^k$\", r\"$[\\tau(p^k) = k+1]$\"]\n",
    ")"
   ]
  },
  {
   "cell_type": "markdown",
   "metadata": {},
   "source": [
    "**Conjecture:** If $p$ is prime, then for all $k \\in \\mathbb{N}$, $\\tau(p^{k}) = k+1$. Let us work in groups to prove this now.\n",
    "\n",
    "**Proof:**  \n",
    "<p><br /></p>\n",
    "<p><br /></p>\n",
    "\n",
    "We have a proof for our conjecture, so it is now a theorem. But I will want to call it:\n",
    "\n",
    "**Lemma 1:** If $p$ is prime, then for all $k \\in \\mathbb{N}$, $\\tau(p^{k}) = k+1$.  \n",
    "<p><br /></p>\n",
    "<p><br /></p>\n",
    "\n",
    "Now we want to derive a general formula for $\\tau(n)$ for all positive integers. We know from the Fundamental Theorem of Arithmetic that:\n",
    "\n",
    "> *Every positive integer can be written as a finite product of powers of distinct primes. That is,*  \n",
    "> $$n = \\prod_{i=1}^{k} p^{e_{i}}_{i}.$$\n",
    "\n",
    "Using this result and the **multiplicative** property of $\\tau$, we are able to derive a formula for $\\tau$ given any positive integer $n$. \n",
    "\n",
    "How would you derive such a formula for $\\tau$ given a positive integer $n$?  \n",
    "Let $n$ be any positive integer. We want to derive a formula for $\\tau(n)$. By the Fundamental Theorem of Arithmetic:  \n",
    "$$\n",
    "n = \\prod_{i=1}^{k} p^{e_{i}}_{i}.\n",
    "$$\n",
    "Then:  \n",
    "$$\n",
    "\\tau(n) = \\tau\\left( \\prod_{i=1}^{k} p^{e_{i}}_{i}\\right) = \\tau(p^{e_{1}}_{1} \\, p^{e_{2}}_{2} \\cdots p^{e_{k}}_{k}) = \\tau(p^{e_{1}}_{1}) \\, \\tau(p^{e_{2}}_{2}) \\cdots \\tau(p^{e_{k}}_{k}).\n",
    "$$\n",
    "\n",
    "From **Lemma 1**, we know that $\\tau(p^{e_{i}}_{i}) = e_{i} + 1$ for each $i$. Therefore:  \n",
    "$$\n",
    "\\tau(n) = (e_{1} + 1) (e_{2} + 1) \\cdots (e_{k} + 1) = \\prod_{i=1}^{k}(e_{i} + 1).\n",
    "$$\n",
    "\n",
    "Hence, we have derived the general formula for $\\tau$ given any positive integer $n$.\n"
   ]
  },
  {
   "cell_type": "markdown",
   "metadata": {},
   "source": [
    "## General Formulae — Hints <a class=\"anchor\" id=\"general-formulae-hints\"></a>\n",
    "\n",
    "Here is the general hint to follow in order to get a general formula for these arithmetic functions.\n",
    "\n",
    "1. **Formula for $\\tau$ or $\\sigma$ for primes:**  \n",
    "   Start by understanding the behavior of the function when $n$ is a prime number $p$.  \n",
    "   - For $\\tau(p) = 2$: A prime has exactly two divisors: $1$ and $p$.  \n",
    "\n",
    "2. **Formula for $\\tau$ or $\\sigma$ for a power of a prime:**  \n",
    "   Extend the formula to powers of a prime $p^k$:  \n",
    "   - For $\\tau(p^k) = k + 1$: A power of a prime has divisors $1, p, p^2, \\ldots, p^k$.  \n",
    "\n",
    "3. **General formula for $\\tau$ or $\\sigma$:**  \n",
    "   Using the Fundamental Theorem of Arithmetic, express any positive integer $n$ as:  \n",
    "   $$\n",
    "   n = \\prod_{i=1}^{k} p_i^{e_i},\n",
    "   $$  \n",
    "   where $p_i$ are distinct primes and $e_i \\geq 0$.  \n",
    "\n",
    "   - For $\\tau(n)$:  \n",
    "     $$\n",
    "     \\tau(n) = \\prod_{i=1}^{k} (e_i + 1).\n",
    "     $$ "
   ]
  },
  {
   "cell_type": "markdown",
   "metadata": {},
   "source": [
    "### Observation <a class='anchor' id=\"observation\"></a>\n",
    "These steps align with the process we followed to derive the general formula for the number of divisors function $\\tau$. Using this structured approach, we can systematically derive formulas for other arithmetic functions like $\\sigma$. If you were not able to do it, in the following section, I ask you to follow this approach to drive the general formula for $\\sigma$."
   ]
  },
  {
   "cell_type": "markdown",
   "metadata": {},
   "source": [
    "## Exploration with $\\tau$ <a class=\"anchor\" id=\"exploration-with-tau\"></a>\n",
    "\n",
    "In mathematics, a perfect square say $x$ is the product of some integer say $y$ with itself. That is, $x = y^{2}$. \n",
    "\n",
    "* Investigate on the number of divisors of perfect squares using _SageMath_. \n",
    "* Observe your data very closely and try and come up with a conjecture on a pattern you think will always be true. \n",
    "* Proof your conjecture.\n",
    "\n",
    "You are encouraged to work in groups."
   ]
  },
  {
   "cell_type": "code",
   "execution_count": null,
   "metadata": {},
   "outputs": [],
   "source": []
  },
  {
   "cell_type": "code",
   "execution_count": null,
   "metadata": {},
   "outputs": [],
   "source": []
  },
  {
   "cell_type": "code",
   "execution_count": null,
   "metadata": {},
   "outputs": [],
   "source": []
  },
  {
   "cell_type": "markdown",
   "metadata": {},
   "source": [
    "Right now, try working on your own or in groups to try to prove the following conjectures.\n",
    "\n",
    " * For a perfect square $n^{2}, \\tau(n^2)$ is odd.\n",
    "\n",
    "(For a full proof, you will probably need a reason why only certain numbers can divide other numbers.)"
   ]
  },
  {
   "cell_type": "code",
   "execution_count": null,
   "metadata": {},
   "outputs": [],
   "source": []
  },
  {
   "cell_type": "code",
   "execution_count": null,
   "metadata": {},
   "outputs": [],
   "source": []
  },
  {
   "cell_type": "markdown",
   "metadata": {},
   "source": [
    "Now use the procedure we followed to derive a formula for $\\tau$ to derive a formula for $\\sigma$ for any positive integer $n$.\n",
    "\n",
    "Let us recal the definition of $\\sigma$. It is defined as follows: Given a positive $n$, $\\sigma(n)$ is the sum of all the positive divisors of $n$. \n",
    "\n",
    "Yesterday, as part of your report, you proved the multiplicativity of $\\sigma$ and also derived a general formula. \n",
    "\n",
    "\n",
    "If you struggled with the proof, then follow the procedure I did for $\\tau(n)$ to derive the general formula for $\\sigma(n)$.\n",
    "\n"
   ]
  },
  {
   "cell_type": "markdown",
   "metadata": {},
   "source": [
    "How will you define $\\sigma$ in _SageMath_?"
   ]
  },
  {
   "cell_type": "code",
   "execution_count": null,
   "metadata": {},
   "outputs": [],
   "source": []
  },
  {
   "cell_type": "markdown",
   "metadata": {},
   "source": [
    "Can you formulate questions about the sum of positive divisors of $n$, $\\sigma(n)$, that we could explore? Otherwise, pick some of the questions we posed yesterday and explore them."
   ]
  },
  {
   "cell_type": "markdown",
   "metadata": {},
   "source": [
    "### More questions to explore <a class=\"anchor\" id=\"more-questions-to-explore\"></a>\n",
    "\n",
    "How do you define $\\sigma(n)$ in Sage?"
   ]
  },
  {
   "cell_type": "code",
   "execution_count": null,
   "metadata": {},
   "outputs": [],
   "source": []
  },
  {
   "cell_type": "code",
   "execution_count": null,
   "metadata": {},
   "outputs": [],
   "source": []
  },
  {
   "cell_type": "code",
   "execution_count": null,
   "metadata": {},
   "outputs": [],
   "source": []
  },
  {
   "cell_type": "code",
   "execution_count": null,
   "metadata": {},
   "outputs": [],
   "source": []
  },
  {
   "cell_type": "code",
   "execution_count": null,
   "metadata": {},
   "outputs": [],
   "source": []
  },
  {
   "cell_type": "code",
   "execution_count": null,
   "metadata": {},
   "outputs": [],
   "source": []
  },
  {
   "cell_type": "markdown",
   "metadata": {},
   "source": [
    "It turns out that sometimes it is also useful to have functions adding up just <em>certain</em> divisors.  For instance, one could write a function $\\tau_o(n)$ for just the odd divisors, and $\\tau_e(n)$ for just the even divisors.  Or you could define $\\tau_1(n)$ and $\\tau_3(n)$ to be the functions giving the number of divisors which are congruent to $1$ (mod $4$) and $3$ (mod $4$), respectively. \n",
    "\n",
    "Try doing a few of these as well.  You will likely want to recall how to use filtered list comprehensions, or \"if/else\" statements in a loop."
   ]
  },
  {
   "cell_type": "code",
   "execution_count": null,
   "metadata": {},
   "outputs": [],
   "source": []
  },
  {
   "cell_type": "code",
   "execution_count": null,
   "metadata": {},
   "outputs": [],
   "source": []
  },
  {
   "cell_type": "code",
   "execution_count": null,
   "metadata": {},
   "outputs": [],
   "source": []
  },
  {
   "cell_type": "code",
   "execution_count": null,
   "metadata": {},
   "outputs": [],
   "source": []
  },
  {
   "cell_type": "markdown",
   "metadata": {},
   "source": [
    "Naturally, I <em>strongly</em> encourage you to make interactive cells if this proves useful to you!"
   ]
  },
  {
   "cell_type": "code",
   "execution_count": null,
   "metadata": {},
   "outputs": [],
   "source": []
  },
  {
   "cell_type": "code",
   "execution_count": null,
   "metadata": {},
   "outputs": [],
   "source": []
  },
  {
   "cell_type": "markdown",
   "metadata": {},
   "source": [
    "## Exploring Divisors <a class=\"anchor\" id=\"exploring-divisors\"></a>\n",
    "Anyway, you should spend quite a bit of time today to try to find more patterns - or prove them! The kinds of questions here are somewhat different from those with partitions."
   ]
  },
  {
   "cell_type": "markdown",
   "metadata": {},
   "source": [
    "### Modulo <a class=\"anchor\" id=\"modulo\"></a>\n",
    "It turns out that there are some pleasant patterns for when $\\tau$ and $\\sigma$ are even and odd. I encourage you to explore and give arguments for what you find. Try to prove the conjectures that you come up with."
   ]
  },
  {
   "cell_type": "code",
   "execution_count": null,
   "metadata": {},
   "outputs": [],
   "source": []
  },
  {
   "cell_type": "markdown",
   "metadata": {},
   "source": [
    " * One could also investigate whether there are patterns when <em>n</em> is even or odd.  What happens to $\\tau(n)+\\sigma(n)$?\n",
    "\n",
    " * Write a program to demonstrate that $\\sigma(n)=2\\,n$ if and only if the sums of the reciprocals of its (positive) divisors equals $2$. Give an algebraic reason why this works.\n",
    "\n",
    "* Investigate the values for $\\tau(n)$ or $\\sigma(n)$ modulo other primes $p$.  It would be interesting to see if there are any useful conjectures here."
   ]
  },
  {
   "cell_type": "code",
   "execution_count": null,
   "metadata": {},
   "outputs": [],
   "source": []
  },
  {
   "cell_type": "code",
   "execution_count": null,
   "metadata": {},
   "outputs": [],
   "source": []
  },
  {
   "cell_type": "markdown",
   "metadata": {},
   "source": [
    "## Sizes and Possibilities <a class=\"anchor\" id=\"sizes-and-possibilities\"></a>\n",
    "\n",
    "There is a closely related question. We can ask what numbers are *possible* for these functions. That could mean either exact numbers which are possible, or sizes relative to $n$ which are possible.\n",
    "\n",
    "- When is $\\tau$ or $\\sigma$ a certain number (like 10 or 12)?\n",
    "- Are there values of $\\tau$ or $\\sigma$ that happen infinitely often?\n",
    "- Are there values that only occur finitely many times?\n",
    "- How big (as a formula of $n$) can $\\tau(n)$ get?\n",
    "- What about $\\sigma(n)$?\n",
    "\n",
    "In order to look at the last two questions, you might want to make an interact. Here is a very crude one. Be sure you have come up with a Python function for $\\tau$ and $\\sigma$ and evaluated them before you do this one!"
   ]
  },
  {
   "cell_type": "code",
   "execution_count": null,
   "metadata": {},
   "outputs": [],
   "source": [
    "@interact\n",
    "def _(end=[10,20,30,40,50]):\n",
    "    list = [[i, sigma(n=i, k=1), (sigma(n=i, k=1)/i).n(digits=3)] for i in [1..end]]\n",
    "    return html(table(list, header_row=[r'$i$',r'$\\sigma(i)$', r'$\\frac{\\sigma(i)}{i}$']))"
   ]
  },
  {
   "cell_type": "code",
   "execution_count": null,
   "metadata": {},
   "outputs": [],
   "source": []
  },
  {
   "cell_type": "markdown",
   "metadata": {},
   "source": [
    "Equivalently, one could ask, as I have done in the interact above, what is the constant $C_n$ such that \n",
    "\n",
    "$$\n",
    "\\sigma(n) = C_n \\cdot n\n",
    "$$\n",
    "\n",
    "Do any numbers have a sum of divisors which is bigger or smaller? What is the biggest? What is the smallest? How would you get bigger numbers? Smaller numbers? Are there bounds?\n",
    "\n",
    "Next time, we'll talk more about this and a very important related concept, which is perfectly entertaining to explore. Have fun!"
   ]
  },
  {
   "cell_type": "markdown",
   "metadata": {},
   "source": [
    "## Interact <a class=\"anchor\" id=\"interact\"></a>\n",
    "\n",
    "Use the rest of the time to work on your interact projects."
   ]
  },
  {
   "cell_type": "code",
   "execution_count": null,
   "metadata": {},
   "outputs": [],
   "source": []
  }
 ],
 "metadata": {
  "kernelspec": {
   "display_name": "SageMath 10.4",
   "language": "sage",
   "name": "sagemath"
  },
  "language_info": {
   "codemirror_mode": {
    "name": "ipython",
    "version": 3
   },
   "file_extension": ".py",
   "mimetype": "text/x-python",
   "name": "python",
   "nbconvert_exporter": "python",
   "pygments_lexer": "ipython3",
   "version": "3.11.2"
  }
 },
 "nbformat": 4,
 "nbformat_minor": 4
}
