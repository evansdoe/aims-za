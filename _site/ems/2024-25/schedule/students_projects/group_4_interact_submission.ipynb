{
 "cells": [
  {
   "cell_type": "markdown",
   "id": "cb54f8a5-371f-4872-9aa7-0517a51409b9",
   "metadata": {},
   "source": [
    "<h1 style=\"text-align: center;\"><a title=\"GROUP 4\">  2D-TRANSFORMATION  —EMS GROUP 4</a></h1>\n",
    "\n",
    "\n",
    "## GROUP MEMBERS: \n",
    "\n",
    "* **Dinaniaina F. RAFIDIMANANTSOA**</a>\n",
    "* **Thelma CHARI**</a>\n",
    "* **Tlamelo MOISERAELE**</a>\n",
    "* **David A. ADERINKOLA**</a>"
   ]
  },
  {
   "cell_type": "markdown",
   "id": "88a4561c-eb55-4a5a-938d-db0df5740aef",
   "metadata": {},
   "source": [
    "#### 2D-Transformation is the modification of the position, orientation, or size of objects within a two-dimensional space. Transformations are changes done in the shapes on a coordinate plane by rotation, reflection, translation etc."
   ]
  },
  {
   "cell_type": "code",
   "execution_count": 7,
   "id": "35d2bf4d-da0d-468d-b8f3-22ea5f4375ed",
   "metadata": {},
   "outputs": [],
   "source": [
    "#function taking input a list of coordinates to plot points in a plane, \n",
    "def plot_point(points, **kwargs): \n",
    "    return point(points,color='black',**kwargs)"
   ]
  },
  {
   "cell_type": "markdown",
   "id": "ae8a3b54-18e9-42a1-996c-829a49eecf35",
   "metadata": {},
   "source": [
    "## 2D-Transformation by Translation\n",
    "\n",
    "## First Code\n",
    "**cord_pol** is the list of coordinates of the polygon we want to translate. Each coordinate is represented as a tuple (x, y).\n",
    "\n",
    "**a** is a translation vector, also represented as a tuple $(\\Delta x, \\Delta y)$, which defines how much to shift the polygon in the x and y directions.\n",
    "\n",
    "The function **'translate_polygon(cord_pol,a)'** iterates over each point in the polygon cord_pol and translates it by adding the vector **'a'** to each point.The vector(cord) function  convert a point (cord) into a vector-like object that can be added to another vector. After translating the point by adding vector(a), the result is stored in cord_pol_2.\n",
    "The function returns a list of new coordinates cord_pol_2 for the translated polygon.\n",
    "\n",
    "## Second Code\n",
    "\n",
    "This plots the translated polygon, using the translated coordinates from translate_polygon(points, vect).\n",
    "The translation vector **vect** is applied to the original points using the translate_polygon function. \n",
    "show(): This command is used to display the plot, which combines several elements.\n",
    "\n",
    "If the user enters the polygon $[(1, 1), (2, 1), (1, 2)]$ and the translation vector $(1, 2)$, the original triangle (with coordinates at $(1, 1), (2, 1), \\text{ and } (1, 2) $ is shown in orange and the translated triangle (with coordinates at $(2, 3), (3, 3), \\text{ and  } (2, 4)$ is shown in blue.\n",
    "    "
   ]
  },
  {
   "cell_type": "code",
   "execution_count": 8,
   "id": "4cb6f953-612b-4ff4-9950-69e822a25d81",
   "metadata": {},
   "outputs": [
    {
     "data": {
      "application/vnd.jupyter.widget-view+json": {
       "model_id": "fe21d21fb3114b5c86b1c237a42f214e",
       "version_major": 2,
       "version_minor": 0
      },
      "text/plain": [
       "Manual interactive function <function translation at 0x7f9ae0925e40> with 2 widgets\n",
       "  points: EvalText(value='[(1, 1), (2, 1), (1, 2)]', continuous_update=False, description='points', layout=Layout(max_width='21em'))\n",
       "  vect: EvalText(value='(1, 2)', continuous_update=False, description='vect', layout=Layout(max_width='12em'))"
      ]
     },
     "metadata": {},
     "output_type": "display_data"
    }
   ],
   "source": [
    "#function taking input a list of coordinates and a coordinate of a vector \n",
    "#the output is a list of coordinates which are the transformation of the input coordinates by the translation of the input vector\n",
    "def translate_polygon(cord_pol,a):\n",
    "    cord_pol_2=[]\n",
    "    for cord in cord_pol:\n",
    "        cord_pol_2.append(vector(cord)+ vector(a))\n",
    "    return cord_pol_2\n",
    "\n",
    "\n",
    "@interact\n",
    "#this function plots the polygon and its transformation by translation\n",
    "def translation(\n",
    "    points=input_box([(1,1),(2,1),(1,2)],width=20), #taking input the list of coordinates of the polygon\n",
    "    vect=input_box((1,2),width = 11), #taking input a coordinate of the vector as a couple\n",
    "    auto_update=False \n",
    "):\n",
    "    #draw the original polygon of the points given\n",
    "    P1 = polygon(points, color = 'orange', edgecolor ='blue', legend_label = 'original', fill = False)\n",
    "    # draw the translation of the original polygon using the function translate_polygon\n",
    "    Q=polygon(translate_polygon(points,vect), color = 'blue', edgecolor ='blue', legend_label = 'translation', fill = False)\n",
    "    #combined the original polygon (P1) and the translated polygon (Q)\n",
    "    show(Q+P1+plot_point(points, size=10)+plot_point(translate_polygon(points,vect), size=10)) \n"
   ]
  },
  {
   "cell_type": "markdown",
   "id": "bed27833-17bd-4348-a684-efb4189e9a87",
   "metadata": {},
   "source": [
    "## 2D-Transformation by Reflection\n",
    "\n",
    "## First Code:\n",
    "This code defines a function to rotate a polygon around a specified center point by a given angle (in radians). \n",
    "\n",
    "**angle:** The angle (in radians) by which to rotate the point.\n",
    "\n",
    "**centre:** The point around which to rotate. It is represented as $(c_x, c_y)$, which will be the origin of the rotation.\n",
    "\n",
    "**pt:** The point to be rotated, represented as $(x, y)$.\n",
    "\n",
    "The formula for clockwise rotation of a point $(x, y)$ by an angle $\\theta$ around a center $(c_x, c_y)$ is:\n",
    "$$x′=(x−c_x)⋅cos⁡(\\theta) + (y−c_y)⋅sin⁡(\\theta)+c_x$$\n",
    "\n",
    "$$y′=-(x−c_x)⋅sin(\\theta)+(y−c_y)⋅cos(\\theta)+c_y$$\n",
    "The code computes the new coordinates $(x_1, y_1)$ for the rotated point pt using these formulas and returns the new coordinates $(x_1, y_1)$ of the rotated point.\n",
    "\n",
    "## Second Code:\n",
    "This plots the rotated polygon, using the function image_rot generate the coordinates for the rotated polygon.\n",
    "\n",
    "\n",
    "If the user enters the polygon $[(1, 1), (2, 1), (1, 2)]$, angle $ \\pi$ and the center $(0, 0)$, the original triangle (with coordinates at $(1, 1), (2, 1), \\text{ and } (1, 2) $ is shown in orange and the translated triangle (with coordinates at $(-1, -1), (-2, -1), \\text{ and } (-1, -2) $ is shown in blue.\n",
    "    "
   ]
  },
  {
   "cell_type": "code",
   "execution_count": 9,
   "id": "2c84b766-d464-4ecf-8136-6929a3360715",
   "metadata": {},
   "outputs": [
    {
     "data": {
      "application/vnd.jupyter.widget-view+json": {
       "model_id": "a61e3c6148b049619e35fd15a0e5883c",
       "version_major": 2,
       "version_minor": 0
      },
      "text/plain": [
       "Manual interactive function <function rotation at 0x7f9ad869bec0> with 3 widgets\n",
       "  points: EvalText(value='[(1, 1), (2, 1), (1, 2)]', continuous_update=False, description='points', layout=Layout(max_width='21em'))\n",
       "  angle: EvalText(value='pi', continuous_update=False, description='angle', layout=Layout(max_width='81em'))\n",
       "  centre: EvalText(value='(0, 0)', continuous_update=False, description='centre', layout=Layout(max_width='81em'))"
      ]
     },
     "metadata": {},
     "output_type": "display_data"
    }
   ],
   "source": [
    "#function taking input an angle, a centre and a coordinate of a point\n",
    "#the output is a coordinate of the transformation by clockwise rotation\n",
    "def image_rot(angle,centre,pt):\n",
    "    x1=(pt[0]-centre[0])*cos(angle)+(pt[1]-centre[1])*sin(angle)+centre[0]\n",
    "    y1=-(pt[0]-centre[0])*sin(angle)+(pt[1]-centre[1])*cos(angle)+centre[1]\n",
    "    return (x1,y1) \n",
    "\n",
    "\n",
    "\n",
    "@interact\n",
    "#this function plots the polygon and its transformation by rotation\n",
    "def rotation(\n",
    "    points = input_box([(1,1),(2,1),(1,2)],width=20), # taking input the list of coordinates of the polygon\n",
    "    angle = input_box(pi), #taking input an angle in radian\n",
    "    centre = input_box((0,0)),# taking input a coordinate of the centre\n",
    "    auto_update = False \n",
    "):\n",
    "    #draw the original polygon of the points given\n",
    "    A = polygon(points, color = 'orange', edgecolor ='orange', legend_label = 'original', fill = False)\n",
    "    #collect coordinates of the transformed polygon using the function image_rot\n",
    "    second=[image_rot(angle,centre,pt) for pt in points]\n",
    "    # draw the clockwise rotation of the original polygon\n",
    "    B = polygon(second,color = 'blue', edgecolor ='blue', legend_label = 'rotation', fill = False)\n",
    "    #combined the original polygon (A) and the transformed polygon (B)\n",
    "    show(A+B+plot_point(points, size=10)+plot_point(second, size=10))\n",
    "\n"
   ]
  },
  {
   "cell_type": "markdown",
   "id": "ae24e91f-b508-4d6c-a1c7-4db991e2eaa5",
   "metadata": {},
   "source": [
    "## 2D-Transformation by Reflection\n",
    "\n",
    "## First Code:\n",
    "$l$ is a tuple representing the coefficients and the constant term of the line equation $ax+by+c =0$  i.e $(a,b,c) $ the line of reflection.\n",
    "\n",
    "$p$ is the point to be reflected, represented as $(x, y)$.\n",
    "\n",
    " The formula for the reflected point $(x', y')$ is given by:\n",
    "        $$x' = \\frac{−2a(ax+by+c)}{a^2 + b^2} + x$$\n",
    "        $$y'  = \\frac{−2b(ax+by+c)}{a^2 + b^2} + y$$\n",
    "The function returns the new coordinates (x_1, y_1) of the reflected point.\n",
    "\n",
    "## Second Code:\n",
    "This code defines an interactive tool to reflect a polygon across a line in the 2D plane. The user can specify the coordinates of the polygon and the line of reflection, and the function will compute the reflected polygon and display it visually.\n",
    "\n"
   ]
  },
  {
   "cell_type": "code",
   "execution_count": 10,
   "id": "955664ff-5032-48d1-8fb1-1d673b7a83b4",
   "metadata": {},
   "outputs": [
    {
     "data": {
      "application/vnd.jupyter.widget-view+json": {
       "model_id": "9b7f1feb66bf4f52a5b00f8905323efa",
       "version_major": 2,
       "version_minor": 0
      },
      "text/plain": [
       "Manual interactive function <function reflection at 0x7f9ad80d4900> with 2 widgets\n",
       "  points: EvalText(value='[(1, 1), (2, 1), (1, 2)]', continuous_update=False, description='points', layout=Layout(max_width='21em'))\n",
       "  lines: EvalText(value='(1, 1, 2)', continuous_update=False, description='lines', layout=Layout(max_width='81em'))"
      ]
     },
     "metadata": {},
     "output_type": "display_data"
    }
   ],
   "source": [
    "#given a line ax+by+c = 0, l:= (a,b,c)\n",
    "#function taking input a tuple l with three elements and a coordinate of a point\n",
    "#the output is a coordinate of the transformation by the reflection across the line  \n",
    "def image_ref(l,p): \n",
    "    x1=p[0]+(-2*l[0]*(l[0]*p[0]+l[1]*p[1]+l[2])/(l[0]**2+l[1]**2))\n",
    "    y1=p[1]+(-2*l[1]*(l[0]*p[0]+l[1]*p[1]+l[2])/(l[0]**2+l[1]**2))\n",
    "    return (x1,y1) \n",
    "    \n",
    "@interact\n",
    "\n",
    "#this function plots the polygon and its transformation by reflection\n",
    "def reflection(\n",
    "    points=input_box([(1,1),(2,1),(1,2)],width=20), # taking input the list of coordinates of the polygon\n",
    "    lines=input_box((1,1,2)), # taking input the tuple (a,b,c) for a line  ax+by+c\n",
    "    auto_update=False \n",
    "):\n",
    "    #to bound the value of y in the line in case b=0\n",
    "    limit=max([p[1] for p in points]) \n",
    "    #draw the original polygon of the points given\n",
    "    A=polygon(points,color = 'orange', edgecolor ='orange', legend_label = 'original', fill = False)\n",
    "\n",
    "    #condition in case b=0\n",
    "    if lines[1]==0:\n",
    "        #plot the straight line at x intersect\n",
    "        p=line([(-lines[2]/lines[0],limit+2), (-lines[2]/lines[0],-(limit+2))])\n",
    "        \n",
    "    #plot y=-(a/b)x-(c/b) derived from the equation of line ax+by+c\n",
    "    else:\n",
    "        p = plot(-(lines[0]/lines[1]) * x - (lines[2]/lines[1]), (x, -5, 5))\n",
    "    second=[image_ref(lines,p) for p in points]\n",
    "\n",
    "     # draw the reflection of the original polygon\n",
    "    B=polygon(second,color = 'blue', edgecolor ='blue', legend_label = 'reflection', fill = False)\n",
    "\n",
    "    #combined the original polygon (A) and the reflection of the original polygon (B)\n",
    "    show(A+p+B+plot_point(points, size=10)+plot_point(second, size=10))\n",
    "\n"
   ]
  }
 ],
 "metadata": {
  "kernelspec": {
   "display_name": "SageMath 10.4",
   "language": "sage",
   "name": "sagemath"
  },
  "language_info": {
   "codemirror_mode": {
    "name": "ipython",
    "version": 3
   },
   "file_extension": ".py",
   "mimetype": "text/x-python",
   "name": "python",
   "nbconvert_exporter": "python",
   "pygments_lexer": "ipython3",
   "version": "3.11.2"
  }
 },
 "nbformat": 4,
 "nbformat_minor": 5
}
