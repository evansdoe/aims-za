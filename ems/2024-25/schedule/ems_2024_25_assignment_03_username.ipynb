{
 "cells": [
  {
   "cell_type": "markdown",
   "metadata": {},
   "source": [
    "<img src=\"./images/aims-za-logo.jpeg\" alt=\"drawing\" style=\"width:400px;\"/>\n",
    "<h1 style=\"text-align: center;\"><a title=\"EMS-AIMS-ZA-2024-25\" href=\"https://evansdoe.github.io/aims-za/ems/2024-25\">Experimental Mathematics Using SageMath — AIMS-ZA-2024-25</a></h1>\n",
    "\n",
    "\n",
    "## Instructors: \n",
    "\n",
    "* <a href=\"http://evansdoe.github.io\">**Evans Ocansey**</a>"
   ]
  },
  {
   "cell_type": "markdown",
   "metadata": {},
   "source": [
    "## Homework Assignment (due Saturday 16th November 2024, 13:00 GMT+2)  <a class=\"anchor\" id=\"homework-assignment-02\"></a>\n",
    "\n",
    "\n",
    "Instructions for homework assignments: \n",
    "- Make sure to rename this notebook by replacing the word `username` with your AIMS username. For example, if my name is `Evans`, then I will rename this notebook to be `ems_2024_25_assignment_02_evans`.\n",
    "- You must write, type, use Jupyter notebook, or use $\\LaTeX$ to submit homework. **ALL CODE MUST BE EXPLAINED**. That means you should have at least one English sentence to explain each line of code that you write. This may be in a form of a comments or in a paragraph after each computation in your upyter notebook.\n",
    "- Similarly, do not simply write your explorations as lists of numbers, but write explanations of what you tried, and what didn’t work.\n",
    "- Do **NOT** use internet resources, or GPT-like models for the exploration; for help with _SageMath_ or _Python_ you may search the internet, of course. You are also welcome to ask me or any of the tutors.\n",
    "- The starred (*) exercises are more important; you should be working on them early and often. To pass the course you should try to do all the starred exercises.\n",
    "\n",
    "The outline of this notebook is as follows:\n",
    "\n",
    "## Table of Contents: <a class=\"anchor\" id=\"assignment-01-toc\"></a>\n",
    "* [<font color=green>Exercise 01</font>](#exercise-01)\n",
    "* [<font color=green>Exercise 02</font>](#exercise-02)\n",
    "* [<font color=green>Exercise 03</font>](#exercise-03)\n",
    "* [<font color=green>Exercise 04</font>](#exercise-04)\n",
    "* [<font color=green>Exercise 05</font>](#exercise-05)\n",
    "* [<font color=green>Exercise 06</font>](#exercise-06)\n",
    "* [<font color=green>Exercise 07</font>](#exercise-07)"
   ]
  },
  {
   "cell_type": "markdown",
   "metadata": {},
   "source": [
    "## <font color=green>Exercise 01</font> <a class = \"anchor\" id=\"exercise-01\"></a>\n",
    "\n",
    "(*) Compute how many partitions of n are composed of distinct powers of 2 for n between 10 and 20.  (Use a computer. You will probably need to write a Python function for this.  Remember to comment your code!)"
   ]
  },
  {
   "cell_type": "code",
   "execution_count": null,
   "metadata": {},
   "outputs": [],
   "source": []
  },
  {
   "cell_type": "code",
   "execution_count": null,
   "metadata": {},
   "outputs": [],
   "source": []
  },
  {
   "cell_type": "markdown",
   "metadata": {},
   "source": [
    "## <font color=green>Exercise 02</font> <a class = \"anchor\" id=\"exercise-02\"></a>  \n",
    "\n",
    "In a previous year, many students conjectured that $\\tau(n)+\\sigma(n)$ is even when $n$ is odd.  Gather data for this conjecture using a Python function you wrote and commented."
   ]
  },
  {
   "cell_type": "code",
   "execution_count": null,
   "metadata": {},
   "outputs": [],
   "source": []
  },
  {
   "cell_type": "code",
   "execution_count": null,
   "metadata": {},
   "outputs": [],
   "source": []
  },
  {
   "cell_type": "code",
   "execution_count": null,
   "metadata": {},
   "outputs": [],
   "source": []
  },
  {
   "cell_type": "markdown",
   "metadata": {},
   "source": [
    "## <font color=green>Exercise 03</font> <a class = \"anchor\" id=\"exercise-03\"></a>  \n",
    "\n",
    "(*) Write as full a proof as you can of one of the following.  Don't just look this up on the internet!  Use your own words.\n",
    "\n",
    "- The number of partitions of $n$ is the same as the number of partitions of $2\\,n$ with only even parts.\n",
    "\n",
    "- The value of $\\tau(p\\,q)=4$ for distinct primes $p$ and $q$."
   ]
  },
  {
   "cell_type": "code",
   "execution_count": null,
   "metadata": {},
   "outputs": [],
   "source": []
  },
  {
   "cell_type": "code",
   "execution_count": null,
   "metadata": {},
   "outputs": [],
   "source": []
  },
  {
   "cell_type": "code",
   "execution_count": null,
   "metadata": {},
   "outputs": [],
   "source": []
  },
  {
   "cell_type": "markdown",
   "metadata": {},
   "source": [
    "## <font color=green>Exercise 04</font> <a class = \"anchor\" id=\"exercise-04\"></a>  \n",
    "\n",
    "Try to prove one of the following.  Do ONE of these, and get as far as you can but don't be discouraged if you are not able to do it.  You will be judged on effort for this problem.\n",
    "\n",
    "- The number of partitions of $n$ with all parts odd is the same as the number of partitions of $n$ with all parts distinct.\n",
    "\n",
    "- The number of odd divisors function, $\\tau_{1}$, is multiplicative in the sense that $\\tau_{1}(p)\\,\\tau_{1}(q) = \\tau_{1}(p\\,q)$ for distinct primes $p$ and $q$. \n",
    "\n"
   ]
  },
  {
   "cell_type": "code",
   "execution_count": null,
   "metadata": {},
   "outputs": [],
   "source": []
  },
  {
   "cell_type": "code",
   "execution_count": null,
   "metadata": {},
   "outputs": [],
   "source": []
  },
  {
   "cell_type": "code",
   "execution_count": null,
   "metadata": {},
   "outputs": [],
   "source": []
  },
  {
   "cell_type": "markdown",
   "metadata": {},
   "source": [
    "## <font color=green>Exercise 05</font> <a class = \"anchor\" id=\"exercise-04\"></a>  \n",
    "\n",
    "Write a program to demonstrate that $\\sigma(n)=2\\,n$ if and only if the sums of the reciprocals of its (positive) divisors equals $2$. Give an algebraic reason why this works."
   ]
  },
  {
   "cell_type": "code",
   "execution_count": null,
   "metadata": {},
   "outputs": [],
   "source": []
  },
  {
   "cell_type": "code",
   "execution_count": null,
   "metadata": {},
   "outputs": [],
   "source": []
  },
  {
   "cell_type": "code",
   "execution_count": null,
   "metadata": {},
   "outputs": [],
   "source": []
  },
  {
   "cell_type": "markdown",
   "metadata": {},
   "source": [
    "## <font color=green>Exercise 06</font> <a class = \"anchor\" id=\"exercise-05\"></a> \n",
    "\n",
    "(*) Report on the results of your exploration and experimentation in partitions. You should report code you tried, patterns that you attempted, and any ideas you are reasonably certain about. There are plenty of patterns to find, especially bijections between different types of partitions of the same number $n$. Use full English sentences, and show all your code and both failed and successful results."
   ]
  },
  {
   "cell_type": "code",
   "execution_count": null,
   "metadata": {},
   "outputs": [],
   "source": []
  },
  {
   "cell_type": "code",
   "execution_count": null,
   "metadata": {},
   "outputs": [],
   "source": []
  },
  {
   "cell_type": "code",
   "execution_count": null,
   "metadata": {},
   "outputs": [],
   "source": []
  },
  {
   "cell_type": "markdown",
   "metadata": {},
   "source": [
    "## <font color=green> Exercise 07 </font> <a class = \"anchor\" id=\"exercise-07\"></a>\n",
    "\n",
    "(*) Report on the results of your exploration and experimentation in divisors ($\\sigma and tau$). You should report code you tried, patterns that you attempted, and any ideas you are reasonably certain about.  There are plenty of patterns to find, especially regarding a search for a formula or modulo patterns etc. Use full English sentences, and show all your code and both failed and successful results."
   ]
  },
  {
   "cell_type": "code",
   "execution_count": null,
   "metadata": {},
   "outputs": [],
   "source": []
  },
  {
   "cell_type": "code",
   "execution_count": null,
   "metadata": {},
   "outputs": [],
   "source": []
  },
  {
   "cell_type": "code",
   "execution_count": null,
   "metadata": {},
   "outputs": [],
   "source": []
  }
 ],
 "metadata": {
  "kernelspec": {
   "display_name": "SageMath 10.4",
   "language": "sage",
   "name": "sagemath"
  },
  "language_info": {
   "codemirror_mode": {
    "name": "ipython",
    "version": 3
   },
   "file_extension": ".py",
   "mimetype": "text/x-python",
   "name": "python",
   "nbconvert_exporter": "python",
   "pygments_lexer": "ipython3",
   "version": "3.11.2"
  }
 },
 "nbformat": 4,
 "nbformat_minor": 4
}
