{
 "cells": [
  {
   "cell_type": "markdown",
   "metadata": {},
   "source": [
    "<img src=\"./images/aims-za-logo.jpeg\" alt=\"drawing\" style=\"width:400px;\"/>\n",
    "<h1 style=\"text-align: center;\"><a title=\"EMS-AIMS-ZA-2024-25\" href=\"https://evansdoe.github.io/aims-za/ems/2024-25\">Experimental Mathematics Using SageMath — AIMS-ZA-2024-25</a></h1>\n",
    "\n",
    "\n",
    "## Instructors: \n",
    "\n",
    "* <a href=\"http://evansdoe.github.io\">**Evans Ocansey**</a>"
   ]
  },
  {
   "cell_type": "markdown",
   "metadata": {},
   "source": [
    "## Homework Assignment (due Saturday 16th November 2024, 13:00 GMT+2)  <a class=\"anchor\" id=\"homework-assignment-02\"></a>\n",
    "\n",
    "\n",
    "Instructions for homework assignments: \n",
    "- Make sure to rename this notebook by replacing the word `username` with your AIMS username. For example, if my name is `Evans`, then I will rename this notebook to be `ems_2024_25_assignment_04_evans`.\n",
    "- You must write, type, use Jupyter notebook, or use $\\LaTeX$ to submit homework. **ALL CODE MUST BE EXPLAINED**. That means you should have at least one English sentence to explain each line of code that you write. This may be in a form of a comments or in a paragraph after each computation in your upyter notebook.\n",
    "- Similarly, do not simply write your explorations as lists of numbers, but write explanations of what you tried, and what didn’t work.\n",
    "- Do **NOT** use internet resources, or GPT-like models for the exploration; for help with _SageMath_ or _Python_ you may search the internet, of course. You are also welcome to ask me or any of the tutors.\n",
    "- The starred (*) exercises are more important; you should be working on them early and often. To pass the course you should try to do all the starred exercises.\n",
    "\n",
    "The outline of this notebook is as follows:\n",
    "\n",
    "## Table of Contents: <a class=\"anchor\" id=\"assignment-01-toc\"></a>\n",
    "* [<font color=green>Exercise 01</font>](#exercise-01)\n",
    "* [<font color=green>Exercise 02</font>](#exercise-02)\n",
    "* [<font color=green>Exercise 03</font>](#exercise-03)\n",
    "* [<font color=green>Exercise 04</font>](#exercise-04)\n",
    "* [<font color=green>Exercise 05</font>](#exercise-05)"
   ]
  },
  {
   "cell_type": "markdown",
   "metadata": {},
   "source": [
    "## <font color=green>Exercise 01</font> <a class = \"anchor\" id=\"exercise-01\"></a>\n",
    "\n",
    "(*) Create an interact showing something interesting that you learned in this class.  It can be about **ANY TOPIC** we did.  Be sure to have at least three controls and at least some \"print\" or \"html\" statements explaining what is happening."
   ]
  },
  {
   "cell_type": "code",
   "execution_count": null,
   "metadata": {},
   "outputs": [],
   "source": []
  },
  {
   "cell_type": "code",
   "execution_count": null,
   "metadata": {},
   "outputs": [],
   "source": []
  },
  {
   "cell_type": "markdown",
   "metadata": {},
   "source": [
    "## <font color=green>Exercise 02</font> <a class = \"anchor\" id=\"exercise-02\"></a>  \n",
    "\n",
    "Pick one of the three functions $p(n)$, $\\tau(n)$, or $\\sigma(n)$.  In class we discussed the \"asymptotic average value\" idea.  Use your modeling skills to build as good a model as possible for this (as a function of $n$), and explain what models you tried, successfully or unsuccessfully."
   ]
  },
  {
   "cell_type": "code",
   "execution_count": null,
   "metadata": {},
   "outputs": [],
   "source": []
  },
  {
   "cell_type": "code",
   "execution_count": null,
   "metadata": {},
   "outputs": [],
   "source": []
  },
  {
   "cell_type": "code",
   "execution_count": null,
   "metadata": {},
   "outputs": [],
   "source": []
  },
  {
   "cell_type": "markdown",
   "metadata": {},
   "source": [
    "## <font color=green>Exercise 03</font> <a class = \"anchor\" id=\"exercise-03\"></a>  \n",
    "\n",
    "(*) Do one of the following about decimal expansions of fractions:\n",
    "\n",
    "1. Find out how long the repeats $(n)$ were for different denominators $b$. Use Sage to make a table showing how long the (longest possible) repeats are for prime denominators $b$ less than $50$.  For which primes are the repeats of \"greatest length possible\"?  What do I mean by that?\n",
    "   \n",
    "2. Find out how long the unrepeated part $(k)$ was for different denominators $b$. Use Sage to make a table showing how long the (longest possible) unrepeated parts are for even numbers up to $20$.  For which even numbers do you see unrepeated parts of \"greatest length possible\"?  What do I mean by that?"
   ]
  },
  {
   "cell_type": "code",
   "execution_count": null,
   "metadata": {},
   "outputs": [],
   "source": []
  },
  {
   "cell_type": "code",
   "execution_count": null,
   "metadata": {},
   "outputs": [],
   "source": []
  },
  {
   "cell_type": "code",
   "execution_count": null,
   "metadata": {},
   "outputs": [],
   "source": []
  },
  {
   "cell_type": "markdown",
   "metadata": {},
   "source": [
    "## <font color=green>Exercise 04</font> <a class = \"anchor\" id=\"exercise-04\"></a>  \n",
    "\n",
    "Do one of the following about continued fractions:\n",
    "\n",
    "1. Write a Python function called \"frac_from_cf\" that takes a continued fraction $[a,\\,b,\\,c,\\,d,\\dots,x,\\,y,\\,z]$ and turns it back into a normal fraction.  Be sure to explain in the comments how it works, and show that you have tested it works properly by checking that `frac_from_cf(continued_fraction_list(a/b))` returns $\\frac{a}{b}$ for some examples!  (Hint: recursion!)\n",
    "\n",
    "2. Look at the continued fractions for numbers of the form $\\sqrt{(n^2+1)}$. Do you see any patterns?  Be explicit. Find a general form of this, and then try to set up a quadratic equation that the infinite continued fraction gives you, and solve that equation to get the numbers you started with."
   ]
  },
  {
   "cell_type": "code",
   "execution_count": null,
   "metadata": {},
   "outputs": [],
   "source": []
  },
  {
   "cell_type": "code",
   "execution_count": null,
   "metadata": {},
   "outputs": [],
   "source": []
  },
  {
   "cell_type": "code",
   "execution_count": null,
   "metadata": {},
   "outputs": [],
   "source": []
  },
  {
   "cell_type": "markdown",
   "metadata": {},
   "source": [
    "## <font color=green>Exercise 05</font> <a class = \"anchor\" id=\"exercise-04\"></a>  \n",
    "\n",
    "**Bonus question**: Look up the definition of \"weird number\" on the internet or in a book.  Write and comment a Sage program to get the smallest weird number.  Make sure your answer agrees with the source you used!"
   ]
  },
  {
   "cell_type": "code",
   "execution_count": null,
   "metadata": {},
   "outputs": [],
   "source": []
  },
  {
   "cell_type": "code",
   "execution_count": null,
   "metadata": {},
   "outputs": [],
   "source": []
  },
  {
   "cell_type": "code",
   "execution_count": null,
   "metadata": {},
   "outputs": [],
   "source": []
  }
 ],
 "metadata": {
  "kernelspec": {
   "display_name": "SageMath 10.4",
   "language": "sage",
   "name": "sagemath"
  },
  "language_info": {
   "codemirror_mode": {
    "name": "ipython",
    "version": 3
   },
   "file_extension": ".py",
   "mimetype": "text/x-python",
   "name": "python",
   "nbconvert_exporter": "python",
   "pygments_lexer": "ipython3",
   "version": "3.11.2"
  }
 },
 "nbformat": 4,
 "nbformat_minor": 4
}
