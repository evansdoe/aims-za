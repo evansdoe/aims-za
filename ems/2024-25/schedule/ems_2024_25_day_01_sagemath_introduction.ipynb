{
 "cells": [
  {
   "cell_type": "markdown",
   "metadata": {},
   "source": [
    "<img src=\"./images/aims-za-logo.jpeg\" alt=\"drawing\" style=\"width:400px;\"/>\n",
    "<h1 style=\"text-align: center;\"><a title=\"EMS-AIMS-ZA-2020-21\" href=\"https://evansdoe.github.io/aims-za/ems/2024-25/\">Experimental Mathematics Using SageMath — AIMS-ZA-2024-25</a></h1>\n",
    "\n",
    "\n",
    "## Instructors: \n",
    "\n",
    "\n",
    "* <a href=\"http://evansdoe.github.io\">**Evans Ocansey**</a>"
   ]
  },
  {
   "cell_type": "markdown",
   "metadata": {},
   "source": [
    "****\n",
    "\n",
    "<!--NAVIGATION-->\n",
    "< [Table of contents](ems_2024_25_day_00_table_of_contents.ipynb) | [2. Review of Python programming](ems_2024_25_day_02_short_review_on_python_programming.ipynb) >\n",
    "\n",
    "\n",
    "****"
   ]
  },
  {
   "cell_type": "markdown",
   "metadata": {},
   "source": [
    "\n",
    "## Day 01 — Introduction to [SageMath](http://www.sagemath.org): A Computer Algebra System for All <a class=\"anchor\" id = \"day-01-introduction-to-sagemath\"></a>\n",
    "\n",
    "[comment]: <> (<h2 style=\"text-align: left;\">Day 02 — Introduction to <a title=\"SageMath\"href=\"http://www.sagemath.org/\"><em>SageMath</em></a>: A Mathematics Software for All</h2>)\n",
    "\n",
    "\n",
    "The outline of the this notebook is as follows:"
   ]
  },
  {
   "cell_type": "markdown",
   "metadata": {},
   "source": [
    "## Table of Contents: <a class=\"anchor\" id=\"day-01-toc\"></a>\n",
    "* [ ] [<font color=blue>What is SageMath?</font>](#what-is-sagemath)\n",
    "    *  [<font color=blue>A Brief Overview</font>](#a-brief-overview)\n",
    "    *  [<font color=blue>Using Other Non-Commercial Softwares</font>](#using-non-commerical-softwares)\n",
    "[comment]: <> (Help Inside SageMath)\n",
    "* [ ] [<font color=blue>Help Inside SageMath</font>](#help-inside-sagemath)\n",
    "    *  [<font color=blue>Documentation</font>](#documetation)\n",
    "    *  [<font color=blue>Tab Completion</font>](#tab-completion)\n",
    "[comment]: <> (Complete Access to Source Code)\n",
    "* [ ] [<font color=blue>Complete Access to Source Code</font>](#complete-access-to-source-code)\n",
    "    *  [<font color=green>Exercise 1</font>](#exercise-1)\n",
    "[comment]: <> (Just the Basics)  \n",
    "* [ ] [<font color=blue>Just the Basics</font>](#just-the-basics)\n",
    "    *  [<font color=blue>Sage as a Calculator</font>](#sagemath-as-a-calculator)\n",
    "        *  [<font color=green>Exercise 2</font>](#exercise-2)\n",
    "    *  [<font color=blue>Elementary Functions and Usual Constants</font>](#elementary-functions-and-usual-constants)\n",
    "    *  [<font color=blue>Python Variables</font>](#python-variables)\n",
    "    *  [<font color=blue>Symbolic Variables</font>](#symbolic-variables)\n",
    "        *  [<font color=green>Exercise 3</font>](#exercise-3)\n",
    "    *  [<font color=blue>Linear Algebra — Some Basics</font>](#linear-algebra-some-basics)\n",
    "    *  [<font color=blue>Calculus — Some Basics</font>](#calculus-some-basics)\n",
    "    *  [<font color=blue>Plotting in Brief</font>](#plotting-in-brief)\n",
    "[comment]: <> (Short Demonstration of Packages)  \n",
    "* [ ] [<font color=blue>Demonstration of Some SageMath Components</font>](#demonstration-of-some-sagemath-components)"
   ]
  },
  {
   "cell_type": "markdown",
   "metadata": {},
   "source": [
    "## What is SageMath? <a class=\"anchor\" id=\"what-is-sagemath\"></a>\n",
    "\n",
    "\n",
    "1.  An open source system for advanced mathematics.\n",
    "2.  An open source mathematics distribution (like Linux) with *Python* as the glue.\n",
    "3.  A tool for learning and teaching mathematics.\n",
    "4.  A tool for mathematics research.\n",
    "\n",
    "![image info](./images/sagemath-logo.png)\n",
    "\n",
    "<p style=\"text-align: center;\"><u>Mission Statement:</u><i> Create a viable free open source alternative to Magma, Maple, Mathematica, and Matlab.</i></p>"
   ]
  },
  {
   "cell_type": "markdown",
   "metadata": {},
   "source": [
    "### A Brief Overview <a class=\"anchor\" id=\"a-brief-overview\"></a>\n",
    "\n",
    "-   Created in 2005 by William Stein.\n",
    "-   Free and open, GPL license.\n",
    "-   Includes about 100 open source packages.\n",
    "-   Now has around 500,000+ lines of new code, by several hundred mathematician-programmers.\n",
    "\n",
    "Some of the 100 packages includes:\n",
    "\n",
    "-   [Groups, Algorithms, Programming (GAP)](https://www.gap-system.org/) - group theory\n",
    "-   [PARI](https://pari.math.u-bordeaux.fr/) - rings, finite fields, field extensions, number theory\n",
    "-   [Singular](https://www.singular.uni-kl.de/) - commutative algebra\n",
    "-   [NumPy](http://www.numpy.org/)/[SciPy](https://www.scipy.org/) - numerical linear algebra, scientific computing\n",
    "-   [Integer Matrix Library (IML)](https://cs.uwaterloo.ca/~astorjoh/iml.html) - integer, rational matrices\n",
    "-   [CVXOPT](https://cvxopt.org/) - linear programming, optimization\n",
    "-   [NetworkX](https://networkx.github.io/) - graph theory\n",
    "-   [Pynac](http://pynac.org/) - symbolic manipulation\n",
    "-   [Maxima](http://maxima.sourceforge.net/) - calculus, differential equations\n",
    "-   [R](https://www.r-project.org/) - for statistical computing\n",
    "-   [Ore Algebra](http://kauers.de/software.html) - computations with Ore operators\n",
    "\n",
    "Click [**here**](https://www.sagemath.org/links-components.html) to see all software packages that constitute SageMath."
   ]
  },
  {
   "cell_type": "markdown",
   "metadata": {},
   "source": [
    "### Using Other Non-Commercial Softwares <a class=\"anchor\" id=\"using-non-commerical-softwares\"></a>\n",
    "\n",
    "As mentioned earlier, [SageMath](http://www.sagemath.org/) includes about 100 open source packages and these packages can be run separately in either a [SageMath](http://www.sagemath.org/) worksheet or in a [Jupyter](https://jupyter.org/) notebook. There are several ways one can use this. I will only demonstrate a few."
   ]
  },
  {
   "cell_type": "code",
   "execution_count": null,
   "metadata": {},
   "outputs": [],
   "source": [
    "S_8 = gap('Group( (1,2), (1,2,3,4,5,6,7,8) )'); S_8"
   ]
  },
  {
   "cell_type": "code",
   "execution_count": null,
   "metadata": {},
   "outputs": [],
   "source": [
    "%%gap\n",
    "\n",
    "S := Group( (1,2), (1,2,3,4,5,6,7,8) )"
   ]
  },
  {
   "cell_type": "code",
   "execution_count": null,
   "metadata": {},
   "outputs": [],
   "source": [
    "maxima('lsum(x^i, i, [1, 2, 7])')"
   ]
  },
  {
   "cell_type": "code",
   "execution_count": null,
   "metadata": {},
   "outputs": [],
   "source": [
    "%%maxima\n",
    "\n",
    "lsum (x^i, i, [1, 2, 7]);"
   ]
  },
  {
   "cell_type": "code",
   "execution_count": null,
   "metadata": {},
   "outputs": [],
   "source": [
    "%%python\n",
    "\n",
    "print(map(lambda x : x**2, [1,3,5])) # note the operation ** and not the same as ^ in Python but in Sage they are."
   ]
  },
  {
   "cell_type": "code",
   "execution_count": null,
   "metadata": {},
   "outputs": [],
   "source": [
    "%%singular\n",
    "\n",
    "ring R = 0,(x,y,z), lp; R;"
   ]
  },
  {
   "cell_type": "code",
   "execution_count": null,
   "metadata": {},
   "outputs": [],
   "source": [
    "%%r\n",
    "library(\"MASS\")\n",
    "data(Cars93)\n",
    "mean(Cars93$MPG.city)\n",
    "xtabs( ~ Origin + MPG.city, data=Cars93)"
   ]
  },
  {
   "cell_type": "code",
   "execution_count": null,
   "metadata": {},
   "outputs": [],
   "source": [
    "%%r\n",
    "\n",
    "d = c(1,2,3,4)"
   ]
  },
  {
   "cell_type": "code",
   "execution_count": null,
   "metadata": {},
   "outputs": [],
   "source": [
    "%%octave\n",
    "rand (3, 2) # This is will output a 3x2 matrix whose entries are randomly generated between 0 and 1."
   ]
  },
  {
   "cell_type": "markdown",
   "metadata": {},
   "source": [
    "Click [**here**](#day-01-toc) if you want to go back to the table of content of this notebook. Otherwise, continue to the next [**Section**](#help-inside-sagemath)."
   ]
  },
  {
   "cell_type": "code",
   "execution_count": null,
   "metadata": {},
   "outputs": [],
   "source": []
  },
  {
   "cell_type": "markdown",
   "metadata": {},
   "source": [
    "## Help Inside [SageMath](http://www.sagemath.org/) <a class=\"anchor\" id=\"help-inside-sagemath\"></a>\n",
    "\n",
    "There are various ways to get help in [SageMath](http://www.sagemath.org/). Here are several common ways to get help as you are working in the [Jupyter](https://jupyter.org/) notebook."
   ]
  },
  {
   "cell_type": "markdown",
   "metadata": {},
   "source": [
    "### Documentation <a class=\"anchor\" id=documentation></a>\n",
    "\n",
    "[SageMath](http://www.sagemath.org/) includes extensive documentation covering thousands of functions, with many examples, tutorials, and other helps.\n",
    "\n",
    "-   One way to access these is to click the “Help” link at the top right of any worksheet. This page has lots of useful commands for the notebook. At the top it has a list of documents; you can click your preferred option at the top of the help page.\n",
    "-   They are also available any time online at the [SageMath](http://www.sagemath.org/help.html) website, which has many other links, like video introductions.\n",
    "-   The [Quick Reference Cards](http://wiki.sagemath.org/quickref) are another useful tool once you get more familiar with SageMath."
   ]
  },
  {
   "cell_type": "markdown",
   "metadata": {},
   "source": [
    "### Tab Completion <a class=\"anchor\" id=tab-completion></a>\n",
    "\n",
    "The most useful help available in the notebook is “*__tab completion__*”. The idea is that even if you are not one hundred percent sure of the name of a command, the first few letters should still be enough to help find it. Here’s an example.\n",
    "\n",
    "-   Suppose you want to do a specific type of plot - maybe a _slope field plot_ - but aren’t quite sure what will do it.\n",
    "-   Still, it seems reasonable that the command might start with _pl_ .\n",
    "-   Then one can type _pl_ in an input cell, and then press the <kbd>Tab</kbd> key to see all the commands that start with the letters _pl_ .\n",
    "\n",
    "Try tabbing after the _pl_ in the following cell to see all the commands that start with the letters _pl_. You should see that `plot_slope_field` is one of them."
   ]
  },
  {
   "cell_type": "code",
   "execution_count": null,
   "metadata": {},
   "outputs": [],
   "source": [
    "x,y = var('x y')\n",
    "capacity = 3 # thousand\n",
    "growth_rate = 0.7 # population increases by 70% per unit of time\n",
    "plot_slope_field(growth_rate * (1-y/capacity) * y, (x,0,5), (y,0,capacity*2))"
   ]
  },
  {
   "cell_type": "code",
   "execution_count": null,
   "metadata": {},
   "outputs": [],
   "source": [
    "?plot"
   ]
  },
  {
   "cell_type": "markdown",
   "metadata": {},
   "source": [
    "Click [**here**](#day-01-toc) if you want to go back to the table of content of this notebook. Otherwise, continue to the next [**Section**](#complete-access-to-source-code)."
   ]
  },
  {
   "cell_type": "markdown",
   "metadata": {},
   "source": [
    "## Complete Access to Source Code <a class=\"anchor\" id=\"complete-access-to-source-code\"></a>\n",
    "\n",
    "Unlike other commercial softwares, [SageMath](http://www.sagemath.org/) gives its users a complete access to the source code. For example let's see the source code for the [SageMath](http://www.sagemath.org/) function `is_square` and `is_squarefree`. Both are in the same file. All we need to do is to type the name of the function and after that a double question mark (??) and press the <kbd>Enter</kbd> key."
   ]
  },
  {
   "cell_type": "markdown",
   "metadata": {},
   "source": [
    ">#### <font color=green>Exercise 1:</font> <a class=\"anchor\" id=\"exercise-1\"></a>\n",
    "Find the source code for the [SageMath](http://www.sagemath.org/) functions: `derivative` and `factor`."
   ]
  },
  {
   "cell_type": "code",
   "execution_count": null,
   "metadata": {},
   "outputs": [],
   "source": [
    "factor??"
   ]
  },
  {
   "cell_type": "code",
   "execution_count": null,
   "metadata": {},
   "outputs": [],
   "source": []
  },
  {
   "cell_type": "code",
   "execution_count": null,
   "metadata": {},
   "outputs": [],
   "source": []
  },
  {
   "cell_type": "markdown",
   "metadata": {},
   "source": [
    "Click [**here**](#day-01-toc) if you want to go back to the table of content of this notebook. Otherwise, continue to the next [**Section**](#just-the-basics)."
   ]
  },
  {
   "cell_type": "markdown",
   "metadata": {},
   "source": [
    "## Just the Basics <a class=\"anchor\" id=\"just-the-basics\"></a>\n",
    "\n",
    "Why do we need computers for math, anyway? Hopefully by now you and I don't need help with the following computations: "
   ]
  },
  {
   "cell_type": "code",
   "execution_count": null,
   "metadata": {},
   "outputs": [],
   "source": [
    "# %display latex # this is just for nice print out like LaTeX."
   ]
  },
  {
   "cell_type": "code",
   "execution_count": null,
   "metadata": {},
   "outputs": [],
   "source": [
    "4 + 2"
   ]
  },
  {
   "cell_type": "code",
   "execution_count": null,
   "metadata": {},
   "outputs": [],
   "source": [
    "-2^2"
   ]
  },
  {
   "cell_type": "code",
   "execution_count": null,
   "metadata": {},
   "outputs": [],
   "source": [
    "-2**2"
   ]
  },
  {
   "cell_type": "code",
   "execution_count": null,
   "metadata": {},
   "outputs": [],
   "source": [
    "(-2)^2"
   ]
  },
  {
   "cell_type": "markdown",
   "metadata": {},
   "source": [
    "### SageMath as a Calculator <a class=\"anchor\" id=\"sagemath-as-a-calculator\"></a>\n",
    "\n",
    "Like every scientific calculator, [SageMath](http://www.sagemath.org/) adheres to the standard order of operations, `PEMDAS` (parenthesis, exponents, multiplication, division, addition, subtraction)."
   ]
  },
  {
   "cell_type": "code",
   "execution_count": null,
   "metadata": {},
   "outputs": [],
   "source": [
    "2+3*4^6-45/21 "
   ]
  },
  {
   "cell_type": "code",
   "execution_count": null,
   "metadata": {},
   "outputs": [],
   "source": [
    "numerical_approx(86015/7)"
   ]
  },
  {
   "cell_type": "markdown",
   "metadata": {},
   "source": [
    "Instead of using the numerical approximation function `numerical_approx`, we could also use its alias `n` for short."
   ]
  },
  {
   "cell_type": "code",
   "execution_count": null,
   "metadata": {},
   "outputs": [],
   "source": [
    "(86015/7).n()"
   ]
  },
  {
   "cell_type": "code",
   "execution_count": null,
   "metadata": {},
   "outputs": [],
   "source": [
    "n(86015/7)"
   ]
  },
  {
   "cell_type": "markdown",
   "metadata": {},
   "source": [
    "Observe that the above division, after simplification, is the rational number $\\frac{86015}{7}$ and <b><font color=red>NOT</font></b> an approximation like $12287.8571428571$. "
   ]
  },
  {
   "cell_type": "markdown",
   "metadata": {},
   "source": [
    "Continuing, there is no limit to the size of integers or rational numbers, unless otherwise due to the available memory of the computer in use."
   ]
  },
  {
   "cell_type": "markdown",
   "metadata": {},
   "source": [
    "> #### <font color=green>Exercise 2:</font> <a class=\"anchor\" id=\"exercise-2\"></a>\n",
    "Find the numerical approximation to $200$ digits of $2^{300}$"
   ]
  },
  {
   "cell_type": "code",
   "execution_count": null,
   "metadata": {},
   "outputs": [],
   "source": [
    "numerical_approx()"
   ]
  },
  {
   "cell_type": "code",
   "execution_count": null,
   "metadata": {},
   "outputs": [],
   "source": [
    "n()"
   ]
  },
  {
   "cell_type": "markdown",
   "metadata": {},
   "source": [
    "_SageMath_ can compute numerical approximation of numbers to any large precision. Let us increase the precision of the rational number $\\frac{11}{7}$ to show the periodicity of its digit expansion."
   ]
  },
  {
   "cell_type": "markdown",
   "metadata": {},
   "source": [
    "Can we confirm if the number of digits is really `100`? Yes we can, see the code below."
   ]
  },
  {
   "cell_type": "code",
   "execution_count": null,
   "metadata": {},
   "outputs": [],
   "source": [
    "sum(map(len, str(numerical_approx(11/7, digits=100)).split(\".\")))"
   ]
  },
  {
   "cell_type": "markdown",
   "metadata": {},
   "source": [
    "Very impressive! Do not panic if you do not understand the above code. Keep calm and relax, hopefully by the end of the session, you should be able to understand it.\n",
    "\n",
    "Continuing, the operators `//` and `%` returns the quotient and the remainder of the division of two integers respectively."
   ]
  },
  {
   "cell_type": "code",
   "execution_count": null,
   "metadata": {},
   "outputs": [],
   "source": [
    "40 // 12"
   ]
  },
  {
   "cell_type": "code",
   "execution_count": null,
   "metadata": {},
   "outputs": [],
   "source": [
    "40 % 12"
   ]
  },
  {
   "cell_type": "markdown",
   "metadata": {},
   "source": [
    "The output of the two operators `//` and `%` can also be obtained directly with the `divmod` function. "
   ]
  },
  {
   "cell_type": "code",
   "execution_count": null,
   "metadata": {},
   "outputs": [],
   "source": [
    "divmod(40, 12)"
   ]
  },
  {
   "cell_type": "markdown",
   "metadata": {},
   "source": [
    "There are several in-built functions that takes integers as inputs. Two of such functions are the `factorial` and the `binomial`."
   ]
  },
  {
   "cell_type": "code",
   "execution_count": null,
   "metadata": {},
   "outputs": [],
   "source": [
    "factorial(1000)"
   ]
  },
  {
   "cell_type": "markdown",
   "metadata": {},
   "source": [
    "Wow! That was very fast! You may not be impressed by this, but this computation took less than a second. To check it, we can either use `timeit` or `time` functions. "
   ]
  },
  {
   "cell_type": "code",
   "execution_count": null,
   "metadata": {},
   "outputs": [],
   "source": [
    "timeit(\"factorial(1000)\")"
   ]
  },
  {
   "cell_type": "code",
   "execution_count": null,
   "metadata": {},
   "outputs": [],
   "source": [
    "time(factorial(1000))"
   ]
  },
  {
   "cell_type": "markdown",
   "metadata": {},
   "source": [
    "Very impressive! If you are still not impressed, then in <a href=\"#exercise-15\"><font color=green><b>Exercise 15</b></font></a>, I ask you to write a recursive Python function that returns the factorial of any positive integer and compare the time it takes your function to compute $100!$ with that of _SageMath_. "
   ]
  },
  {
   "cell_type": "markdown",
   "metadata": {},
   "source": [
    "We can also decompose an integer into prime factors. Let us factor the integer 1729. "
   ]
  },
  {
   "cell_type": "code",
   "execution_count": null,
   "metadata": {},
   "outputs": [],
   "source": [
    "factor(1729)"
   ]
  },
  {
   "cell_type": "markdown",
   "metadata": {},
   "source": [
    "Do you know anything about this number `1729`? It is a [taxicab number](https://simple.wikipedia.org/wiki/Taxicab_number) and there is a story behind it which goes like this: \n",
    "\n",
    "    Hardy said that it was just a boring number: 1729. Ramanujan replied that 1729 was not a boring number at all: it was a very interesting one. He explained that it was the smallest number that could be expressed by the sum of two cubes in two different ways. \n",
    "\n",
    "I also observed that the consecutive prime factors of the taxicab number $1729$ differ by $6$."
   ]
  },
  {
   "cell_type": "markdown",
   "metadata": {},
   "source": [
    "Click [**here**](#day-01-toc) if you want to go back to the table of content of this notebook. Otherwise, continue to the next [**Subsection**](#elementary-functions-and-usual-constants)."
   ]
  },
  {
   "cell_type": "markdown",
   "metadata": {},
   "source": [
    "### Elementary Functions and Usual Constants <a class=\"anchor\" id=\"elementary-functions-and-usual-constants\"></a>\n",
    "\n",
    "Some of the usual mathematical constant in sage includes `pi`, `e`, `golden_ratio`, `euler_gamma`, `catalan`. In other to see their real values, we will have to use Sage functions `numerical_approx` or its short form `n`. "
   ]
  },
  {
   "cell_type": "code",
   "execution_count": null,
   "metadata": {},
   "outputs": [],
   "source": [
    "pi.n()"
   ]
  },
  {
   "cell_type": "code",
   "execution_count": null,
   "metadata": {},
   "outputs": [],
   "source": [
    "numerical_approx(e, digits=10)"
   ]
  },
  {
   "cell_type": "code",
   "execution_count": null,
   "metadata": {},
   "outputs": [],
   "source": [
    "golden_ratio.n(digits=15)"
   ]
  },
  {
   "cell_type": "code",
   "execution_count": null,
   "metadata": {},
   "outputs": [],
   "source": [
    "euler_gamma.n()"
   ]
  },
  {
   "cell_type": "code",
   "execution_count": null,
   "metadata": {},
   "outputs": [],
   "source": [
    "catalan.n(digits=5)"
   ]
  },
  {
   "cell_type": "markdown",
   "metadata": {},
   "source": [
    "There are also elementary functions like: \n",
    "   - the exponential function `exp`;\n",
    "   - the logarithmic function `log`;\n",
    "   - trigonometric functions and their inverses: `sin`, `cos`, `tan`, and `arcsin`, `arccos`, `arctan` respectively; \n",
    "   - inverse trigonometric functions and their inverses `sec`, `csc`, `cot` and `sec`, `csc`, `cot` respectively;\n",
    "   - hyperbolic functions and their inverses: `sinh`, `cosh`, `tanh`, and `arcsinh`, `arccosh`, `arctanh` respectively;\n",
    "   - inverse hyperbolic functions and their inverses: `sech`, `csch`, `coth` and `arcsech`, `arccsch`, `arccoth`  respectively;\n",
    "   \n",
    "Let's look at a few of them in action. Note that the computations here are again exact. Recall that you can use the _SageMath_ function `numerical_approx` or its alias `n` to get their numerical approximation."
   ]
  },
  {
   "cell_type": "code",
   "execution_count": null,
   "metadata": {},
   "outputs": [],
   "source": [
    "cos(pi)"
   ]
  },
  {
   "cell_type": "code",
   "execution_count": null,
   "metadata": {},
   "outputs": [],
   "source": [
    "sin(pi/3)"
   ]
  },
  {
   "cell_type": "code",
   "execution_count": null,
   "metadata": {},
   "outputs": [],
   "source": [
    "arccos(0)"
   ]
  },
  {
   "cell_type": "code",
   "execution_count": null,
   "metadata": {},
   "outputs": [],
   "source": [
    "exp(3 * I * pi)"
   ]
  },
  {
   "cell_type": "code",
   "execution_count": null,
   "metadata": {},
   "outputs": [],
   "source": [
    "exp(oo)"
   ]
  },
  {
   "cell_type": "code",
   "execution_count": null,
   "metadata": {},
   "outputs": [],
   "source": [
    "exp(-oo)"
   ]
  },
  {
   "cell_type": "code",
   "execution_count": null,
   "metadata": {},
   "outputs": [],
   "source": [
    "arccos(sin(pi/3))"
   ]
  },
  {
   "cell_type": "code",
   "execution_count": null,
   "metadata": {},
   "outputs": [],
   "source": [
    "sqrt(2)"
   ]
  },
  {
   "cell_type": "markdown",
   "metadata": {},
   "source": [
    "As you may have observed in the previous cell, one does not always get the expected results. Indeed, only few simplifications are done by _SageMath_ automatically. If needed, it is possible to explicitly call the **simplification function** `simplify`."
   ]
  },
  {
   "cell_type": "code",
   "execution_count": null,
   "metadata": {},
   "outputs": [],
   "source": [
    "simplify(arccos(sin(pi/3)))"
   ]
  },
  {
   "cell_type": "markdown",
   "metadata": {},
   "source": [
    "There is more we can explore about simplification of symbolic expression. We can talk about this later if there is time. \n",
    "\n"
   ]
  },
  {
   "cell_type": "markdown",
   "metadata": {},
   "source": [
    "Click [**here**](#day-01-toc) if you want to go back to the table of content of this notebook. Otherwise, continue to the next [**Subsection**](#python-variables)."
   ]
  },
  {
   "cell_type": "markdown",
   "metadata": {},
   "source": [
    "### Python Variables <a class=\"anchor\" id=\"python-variables\"></a>\n",
    "\n",
    "So far, none of the results of our computations have been saved. So if we want to reuse any result of the previous computations, we will have to either copy and paste it or type them again. This can be very tedious. However, we can avoid all this by using the __assignment operator__, `=` to assign the result to a variable. You should already be familiar with this from your Python class."
   ]
  },
  {
   "cell_type": "code",
   "execution_count": null,
   "metadata": {},
   "outputs": [],
   "source": [
    "y = 2 * sin(pi/3)"
   ]
  },
  {
   "cell_type": "markdown",
   "metadata": {},
   "source": [
    "`y` is a Python variable. Note that in general, the result of a computation is not automatically printed when it is assigned to a variable. In other to print the content of a variable in the same cell it is assigned, we will have to do the following."
   ]
  },
  {
   "cell_type": "code",
   "execution_count": null,
   "metadata": {},
   "outputs": [],
   "source": [
    "y = 2 * sin(pi/3); y"
   ]
  },
  {
   "cell_type": "markdown",
   "metadata": {},
   "source": [
    "To reuse later, we only have to type `y`."
   ]
  },
  {
   "cell_type": "code",
   "execution_count": null,
   "metadata": {},
   "outputs": [],
   "source": [
    "(y + sqrt(2)) * 1/y"
   ]
  },
  {
   "cell_type": "markdown",
   "metadata": {},
   "source": [
    "Additionally, _SageMath_ saves the last three results in the special variables `_`, `__` and `___`:"
   ]
  },
  {
   "cell_type": "code",
   "execution_count": null,
   "metadata": {},
   "outputs": [],
   "source": [
    "2 * sin(pi/3)"
   ]
  },
  {
   "cell_type": "code",
   "execution_count": null,
   "metadata": {},
   "outputs": [],
   "source": [
    "(_ + sqrt(2)) * 1/_"
   ]
  },
  {
   "cell_type": "code",
   "execution_count": null,
   "metadata": {},
   "outputs": [],
   "source": [
    "_ * __"
   ]
  },
  {
   "cell_type": "code",
   "execution_count": null,
   "metadata": {},
   "outputs": [],
   "source": [
    "___ - _ * __"
   ]
  },
  {
   "cell_type": "code",
   "execution_count": null,
   "metadata": {},
   "outputs": [],
   "source": [
    "_"
   ]
  },
  {
   "cell_type": "code",
   "execution_count": null,
   "metadata": {},
   "outputs": [],
   "source": [
    "Out"
   ]
  },
  {
   "cell_type": "code",
   "execution_count": null,
   "metadata": {},
   "outputs": [],
   "source": [
    "Out[3]"
   ]
  },
  {
   "cell_type": "code",
   "execution_count": null,
   "metadata": {},
   "outputs": [],
   "source": [
    "_3"
   ]
  },
  {
   "cell_type": "code",
   "execution_count": null,
   "metadata": {},
   "outputs": [],
   "source": [
    "print(In)"
   ]
  },
  {
   "cell_type": "markdown",
   "metadata": {},
   "source": [
    "You already know from the Programming with Python lectures that you should avoid using keywords as variables. It is a bad practise to redefine predefined constants and functions in _SageMath_. Although doing this does not influence the internal behaviour of _SageMath_, it could yield surprising results."
   ]
  },
  {
   "cell_type": "code",
   "execution_count": null,
   "metadata": {},
   "outputs": [],
   "source": [
    "len = 3; len"
   ]
  },
  {
   "cell_type": "code",
   "execution_count": null,
   "metadata": {},
   "outputs": [],
   "source": [
    "len([3,3, 2292,3])"
   ]
  },
  {
   "cell_type": "code",
   "execution_count": null,
   "metadata": {},
   "outputs": [],
   "source": [
    "n(pi)"
   ]
  },
  {
   "cell_type": "code",
   "execution_count": null,
   "metadata": {},
   "outputs": [],
   "source": [
    "pi = -I/3; pi"
   ]
  },
  {
   "cell_type": "code",
   "execution_count": null,
   "metadata": {},
   "outputs": [],
   "source": [
    "n(pi)"
   ]
  },
  {
   "cell_type": "code",
   "execution_count": null,
   "metadata": {},
   "outputs": [],
   "source": [
    "exp(3*I*pi)"
   ]
  },
  {
   "cell_type": "markdown",
   "metadata": {},
   "source": [
    "To restore the original value, one can type for example:"
   ]
  },
  {
   "cell_type": "code",
   "execution_count": null,
   "metadata": {},
   "outputs": [],
   "source": [
    "from sage.all import pi"
   ]
  },
  {
   "cell_type": "markdown",
   "metadata": {},
   "source": [
    "Let's check if this corrects our previous computation."
   ]
  },
  {
   "cell_type": "code",
   "execution_count": null,
   "metadata": {},
   "outputs": [],
   "source": [
    "exp(3*I*pi)"
   ]
  },
  {
   "cell_type": "markdown",
   "metadata": {},
   "source": [
    "Alternatively, you can also call the `restore()` function. Doing this will restore all predefined variables and functions to their default values. Let us try this on the previous example."
   ]
  },
  {
   "cell_type": "code",
   "execution_count": null,
   "metadata": {},
   "outputs": [],
   "source": [
    "pi = -I/3; pi"
   ]
  },
  {
   "cell_type": "code",
   "execution_count": null,
   "metadata": {},
   "outputs": [],
   "source": [
    "exp(3*I*pi)"
   ]
  },
  {
   "cell_type": "code",
   "execution_count": null,
   "metadata": {},
   "outputs": [],
   "source": [
    "restore()"
   ]
  },
  {
   "cell_type": "code",
   "execution_count": null,
   "metadata": {},
   "outputs": [],
   "source": [
    "exp(3*I*pi)"
   ]
  },
  {
   "cell_type": "markdown",
   "metadata": {},
   "source": [
    "But this does not correct the Python function `len`. Let us try to find the length of the list object `[1,3,5]`."
   ]
  },
  {
   "cell_type": "code",
   "execution_count": null,
   "metadata": {},
   "outputs": [],
   "source": [
    "len([1,3,5])"
   ]
  },
  {
   "cell_type": "code",
   "execution_count": null,
   "metadata": {},
   "outputs": [],
   "source": []
  },
  {
   "cell_type": "markdown",
   "metadata": {},
   "source": [
    "To correct this you will have to call the function `reset()`. However it is importatnt to note that calling `reset()` does a complete reset. That is, it clears all user-defined variables. Let's call `reset()` to reset the Python function `len` to its default definition and test it by finding the length of the list object `[1,3,5]`."
   ]
  },
  {
   "cell_type": "code",
   "execution_count": null,
   "metadata": {},
   "outputs": [],
   "source": [
    "reset()"
   ]
  },
  {
   "cell_type": "code",
   "execution_count": null,
   "metadata": {},
   "outputs": [],
   "source": [
    "len([1,3,5])"
   ]
  },
  {
   "cell_type": "markdown",
   "metadata": {},
   "source": [
    "Click [**here**](#day-01-toc) if you want to go back to the table of content of this notebook. Otherwise, continue to the next [**Subsection**](#symbolic-variables)."
   ]
  },
  {
   "cell_type": "markdown",
   "metadata": {},
   "source": [
    "### Symbolic Variables <a class=\"anchor\" id=\"symbolic-variables\"></a>\n",
    "\n",
    "_SageMath_ is especially useful in dealing with expressions containing variables like $x^{2} - y^{2}\\,z^{2} + z^{3}$ or $\\sin^{3}(x) - 2\\,\\cos^{2}(x) + \\sin(x) - 1$. These are the kind of expressions that mathematicians and physicists are used to. The variables $x$, $y$, and $z$ that appear in those expressions are symbolic variables. In general, they differ from the Python variables discussed in the previous [subsection](#python-variables). In _SageMath_, the symbolic variables should be explicitly declared before being used except for the symbolic variable $x$ which is already defined. To declare a symbolic variable, we do the following: "
   ]
  },
  {
   "cell_type": "code",
   "execution_count": null,
   "metadata": {},
   "outputs": [],
   "source": [
    "y = SR.var('y'); y"
   ]
  },
  {
   "cell_type": "markdown",
   "metadata": {},
   "source": [
    "We can also use  double quote instead of single quote. That is "
   ]
  },
  {
   "cell_type": "code",
   "execution_count": null,
   "metadata": {},
   "outputs": [],
   "source": [
    "y = SR.var(\"y\"); y"
   ]
  },
  {
   "cell_type": "markdown",
   "metadata": {},
   "source": [
    "The $\\texttt{SR}$ here stands for $\\texttt{Symbolic Ring}$. Let me briefly explain what exactly is happening in the commands just above. The command `SR.var('y')` or `SR.var(\"y\")` builds and returns a symbolic variable which is then assigned to the Python variable `y` on the left hand side. Note that we could have use any other name for the Python variable instead of `y`. That is, we could also have done "
   ]
  },
  {
   "cell_type": "code",
   "execution_count": null,
   "metadata": {},
   "outputs": [],
   "source": [
    "z = SR.var(\"y\"); z"
   ]
  },
  {
   "cell_type": "markdown",
   "metadata": {},
   "source": [
    "Thus, assigning the symbolic variable $y$ to the Python variable `y` is just a convention, which is however recommended to avoid confusion. Let us see if the Python variables `y` and `z` are the same in memory. "
   ]
  },
  {
   "cell_type": "code",
   "execution_count": null,
   "metadata": {},
   "outputs": [],
   "source": [
    "id(y) == id(z)"
   ]
  },
  {
   "cell_type": "code",
   "execution_count": null,
   "metadata": {},
   "outputs": [],
   "source": [
    "id?"
   ]
  },
  {
   "cell_type": "markdown",
   "metadata": {},
   "source": [
    "Now that we have the symbolic variable $y$ saved in the Python variables `y` or `z`, we can use it to build more complex symbolic expressions. "
   ]
  },
  {
   "cell_type": "code",
   "execution_count": null,
   "metadata": {},
   "outputs": [],
   "source": [
    "y^(2/3)+ 4*y^2 + sin(y*pi)"
   ]
  },
  {
   "cell_type": "code",
   "execution_count": null,
   "metadata": {},
   "outputs": [],
   "source": [
    "z^(3/2)+ 6*z^(1/2) + exp(z*pi)"
   ]
  },
  {
   "cell_type": "markdown",
   "metadata": {},
   "source": [
    "Here is something important to note: The Python variables `y` or `z` does not interact with the symbolic variable $y$. Here is what I mean: Let's build a complex expression with the symbolic variable $y$ and assign it to a Python variable. Here, I choose to call my Python variable `my_expr`. "
   ]
  },
  {
   "cell_type": "code",
   "execution_count": null,
   "metadata": {},
   "outputs": [],
   "source": [
    "my_expr = y + 3; my_expr"
   ]
  },
  {
   "cell_type": "markdown",
   "metadata": {},
   "source": [
    "Now let's assign the Python variable `z` to 1."
   ]
  },
  {
   "cell_type": "code",
   "execution_count": null,
   "metadata": {},
   "outputs": [],
   "source": [
    "z = 1; z"
   ]
  },
  {
   "cell_type": "markdown",
   "metadata": {},
   "source": [
    "What do you think the value of the expression `my_expr` is?"
   ]
  },
  {
   "cell_type": "code",
   "execution_count": null,
   "metadata": {},
   "outputs": [],
   "source": [
    "my_expr"
   ]
  },
  {
   "cell_type": "markdown",
   "metadata": {},
   "source": [
    "You may be surprised at the result of the last cell. Perhaps you taught it should return `4` right? But if this is the case, how can we evaluate any symbolic expression for example the symbolic expression assigned to the Python variable `my_expr`? In other to do this, we use the `substitution` operation."
   ]
  },
  {
   "cell_type": "code",
   "execution_count": null,
   "metadata": {},
   "outputs": [],
   "source": [
    "my_expr(1)"
   ]
  },
  {
   "cell_type": "code",
   "execution_count": null,
   "metadata": {},
   "outputs": [],
   "source": [
    "my_expr(y=1)"
   ]
  },
  {
   "cell_type": "markdown",
   "metadata": {},
   "source": [
    "There is more I can say about the `substitution` operation but I will leave that one for you to explore. \n",
    "\n",
    "Continuing, what if you would like to create a large number of symbolic variables. This can be tedious as you may think. However, you can use the shortcut `x = SR.var(x, n)` where `n` a positive number which is the number of symbolic variables you would like to create. Note that the indexing starts from $0$. Let us create the symbolic variables $t_{0}, t_{1}, \\dots, t_{199}$."
   ]
  },
  {
   "cell_type": "code",
   "execution_count": null,
   "metadata": {},
   "outputs": [],
   "source": [
    "t = SR.var(\"t\", 200); # This creates a tuple of 200 symbolic variables."
   ]
  },
  {
   "cell_type": "code",
   "execution_count": null,
   "metadata": {},
   "outputs": [],
   "source": [
    "(t[0]^3 + t[4]) * t[199]"
   ]
  },
  {
   "cell_type": "markdown",
   "metadata": {},
   "source": [
    "Use the `show` function to get a pretty display of the output."
   ]
  },
  {
   "cell_type": "code",
   "execution_count": null,
   "metadata": {},
   "outputs": [],
   "source": [
    "show(_)"
   ]
  },
  {
   "cell_type": "markdown",
   "metadata": {},
   "source": [
    "In other computer algebra systems like `Maple`, `Mathematica` or `Maxima`, one does not declare symbolic variables before using them. As you have seen already in this [**Subsection**](#symbolic-variables), this is not so with _SageMath_. However, when one uses the old SageNB notebook interface (which is obsolete), and typing the command, `automatic_names(True)`, one can make _SageMath_ behave like the computer algebra systems I mentioned earlier. That is, one can decide not to declare symbolic variables before using them and _SageMath_ will not complain. However, this do not work when one uses the Jupyter notebook. But it does not mean that it can not be done. In fact, if you are able to this, you will be improving on _SageMath_ and you will become famous. Therefore, I propose this exercise which is a project in itself."
   ]
  },
  {
   "cell_type": "markdown",
   "metadata": {},
   "source": [
    "> ####  <font color=green>Exercise 3: </font><font color=red>Hard</font><a class=\"anchor\" id=\"exercise-3\"></a>\n",
    "Build a _SageMath_ package so that if one types in the command `automatic_names(True)` when one is running _SageMath_ in the Jupyter notebook, _SageMath_ works like the old SageNB notebook or like the computer algebra `Maple`, `Mathematica` or `Maxima`. In other words, one does not have to declare symbolic variables before using them."
   ]
  },
  {
   "cell_type": "code",
   "execution_count": null,
   "metadata": {},
   "outputs": [],
   "source": []
  },
  {
   "cell_type": "markdown",
   "metadata": {},
   "source": [
    "Click [**here**](#day-01-toc) if you want to go back to the table of content of this notebook. Otherwise, continue to the next [**Subsection**](#linear-algebra-some-basics)."
   ]
  },
  {
   "cell_type": "markdown",
   "metadata": {},
   "source": [
    "### Linear Algebra — Some Basics <a class=\"anchor\" id=\"linear-algebra-some-basics\"></a>\n",
    "\n",
    "What about matrix algebra? Can we perform computations with matrices in _SageMath_? "
   ]
  },
  {
   "cell_type": "code",
   "execution_count": null,
   "metadata": {},
   "outputs": [],
   "source": [
    "M = matrix([[1, 2, 3], [4, 5, 7], [6, 8, 9]]); M"
   ]
  },
  {
   "cell_type": "markdown",
   "metadata": {},
   "source": [
    "_SageMath_ can tell me the domain over which the entries of the matrix $M$ is defined."
   ]
  },
  {
   "cell_type": "code",
   "execution_count": null,
   "metadata": {},
   "outputs": [],
   "source": [
    "parent(M)"
   ]
  },
  {
   "cell_type": "code",
   "execution_count": null,
   "metadata": {},
   "outputs": [],
   "source": [
    "show(_)"
   ]
  },
  {
   "cell_type": "markdown",
   "metadata": {},
   "source": [
    "I can compute the determinant of $M$."
   ]
  },
  {
   "cell_type": "code",
   "execution_count": null,
   "metadata": {},
   "outputs": [],
   "source": [
    "det(M)"
   ]
  },
  {
   "cell_type": "markdown",
   "metadata": {},
   "source": [
    "I can also compute the inverse."
   ]
  },
  {
   "cell_type": "code",
   "execution_count": null,
   "metadata": {},
   "outputs": [],
   "source": [
    "M^-1"
   ]
  },
  {
   "cell_type": "markdown",
   "metadata": {},
   "source": [
    "I can also specify the domain over which the entries of a matrix should be defined. For example I want to define a matrix whose elements are from the finite field $\\mathbb{Z}_{5}$. "
   ]
  },
  {
   "cell_type": "code",
   "execution_count": null,
   "metadata": {},
   "outputs": [],
   "source": [
    "A = matrix(GF(5), 3, [1, 3, 5, 2, 4, 9, -1, -3, 7]); A"
   ]
  },
  {
   "cell_type": "code",
   "execution_count": null,
   "metadata": {},
   "outputs": [],
   "source": [
    "det(A)"
   ]
  },
  {
   "cell_type": "code",
   "execution_count": null,
   "metadata": {},
   "outputs": [],
   "source": [
    "l = [1,2,3,4]; type(l)"
   ]
  },
  {
   "cell_type": "code",
   "execution_count": null,
   "metadata": {},
   "outputs": [],
   "source": []
  },
  {
   "cell_type": "code",
   "execution_count": null,
   "metadata": {},
   "outputs": [],
   "source": []
  },
  {
   "cell_type": "code",
   "execution_count": null,
   "metadata": {},
   "outputs": [],
   "source": []
  },
  {
   "cell_type": "markdown",
   "metadata": {},
   "source": [
    "Click [**here**](#day-01-toc) if you want to go back to the table of content of this notebook. Otherwise, continue to the next [**Subsection**](#calculus-some-basics)."
   ]
  },
  {
   "cell_type": "markdown",
   "metadata": {},
   "source": [
    "### Calculus — Some Basics <a class=\"anchor\" id=\"calculus-some-basics\"></a>\n",
    "\n",
    "Many of you are in the applied sciences and will need integrals. But even look up tables can have errors (and often had many more before they were checked against computer integration).  We can use _SageMath_ to evaluate some complicated integrals. Here are a few examples.\n",
    "\n",
    "$$\\int_{1}^{2} \\frac{3 \\, x}{\\sqrt{25\\,x^{2}-3}} \\, {\\rm d} x, \\int_{1}^{e} x \\, \\log(x) \\, {\\rm d} x, \\int e^{x} \\, \\log(x) \\, {\\rm d} x.$$"
   ]
  },
  {
   "cell_type": "code",
   "execution_count": null,
   "metadata": {},
   "outputs": [],
   "source": [
    "# %display latex"
   ]
  },
  {
   "cell_type": "code",
   "execution_count": null,
   "metadata": {},
   "outputs": [],
   "source": [
    "integrate( log(x)*x, x, 1, e)"
   ]
  },
  {
   "cell_type": "code",
   "execution_count": null,
   "metadata": {},
   "outputs": [],
   "source": [
    "integrate( log(x)*e^x, x)"
   ]
  },
  {
   "cell_type": "code",
   "execution_count": null,
   "metadata": {},
   "outputs": [],
   "source": [
    "integral(3*x^2/sqrt(25*x^2-3), x)"
   ]
  },
  {
   "cell_type": "markdown",
   "metadata": {},
   "source": [
    "Hmm, the computation is okay, but nowadays computers look nicer than that!  This antiderivative looks kind of ugly.  Let me try to simplify it and typeset it nicely."
   ]
  },
  {
   "cell_type": "code",
   "execution_count": null,
   "metadata": {},
   "outputs": [],
   "source": [
    "show(expand(integral(3*x^2/sqrt(25*x^2-3),x)))"
   ]
  },
  {
   "cell_type": "code",
   "execution_count": null,
   "metadata": {},
   "outputs": [],
   "source": []
  },
  {
   "cell_type": "code",
   "execution_count": null,
   "metadata": {},
   "outputs": [],
   "source": [
    "latex(expand(integral(3*x^2/sqrt(25*x^2-3),x)))"
   ]
  },
  {
   "cell_type": "code",
   "execution_count": null,
   "metadata": {},
   "outputs": [],
   "source": []
  },
  {
   "cell_type": "markdown",
   "metadata": {},
   "source": [
    "That's better.  Well, maybe I should just type it in my notes, so I don't forget. \n",
    "\n",
    "$$\\frac{3}{50}\\sqrt{25x^2-3x}+\\frac{9}{250}\\log\\left(50x+10\\sqrt{25x^2-3}\\right)$$"
   ]
  },
  {
   "cell_type": "markdown",
   "metadata": {},
   "source": [
    "_SageMath_ can also handle <em>definite</em> integral. For example: \n",
    "\n",
    "$$\\int_{1}^{2} \\frac{3 \\, x}{\\sqrt{25\\,x^{2}-3}} {\\rm d}x.$$"
   ]
  },
  {
   "cell_type": "code",
   "execution_count": null,
   "metadata": {},
   "outputs": [],
   "source": [
    "integral(3*x^2/sqrt(25*x^2-3),x,1,2)"
   ]
  },
  {
   "cell_type": "code",
   "execution_count": null,
   "metadata": {},
   "outputs": [],
   "source": [
    "show(integral(3*x^2/sqrt(25*x^2-3),x,1,2))"
   ]
  },
  {
   "cell_type": "markdown",
   "metadata": {},
   "source": [
    "And maybe I needed it numerically approximated, with a built-in error bound computed."
   ]
  },
  {
   "cell_type": "code",
   "execution_count": null,
   "metadata": {},
   "outputs": [],
   "source": [
    "numerical_integral( 3*x^2/sqrt(25*x^2-3), 1,2)"
   ]
  },
  {
   "cell_type": "markdown",
   "metadata": {},
   "source": [
    "And maybe I need to visualize that as well..."
   ]
  },
  {
   "cell_type": "code",
   "execution_count": null,
   "metadata": {},
   "outputs": [],
   "source": [
    "show(plot(3*x^2/sqrt(25*x^2-3),(x,1,2),fill=True)+plot(3*x^2/sqrt(25*x^2-3),(x,.5,3)),figsize=3)\n",
    "html(r\"This shows $\\int_1^2 \\frac{3\\,x^2}{\\sqrt{25\\,x^2-3}}\\; \\mathrm{d}x$\")"
   ]
  },
  {
   "cell_type": "code",
   "execution_count": null,
   "metadata": {},
   "outputs": [],
   "source": [
    "show(plot(3*x^2/sqrt(25*x^2-3),(x,1,2),fill=True)+plot(3*x^2/sqrt(25*x^2-3),(x,.5,3)),figsize=3, title=r\"This shows $\\int_1^2 \\frac{3x^2}{\\sqrt{25x^2-3}}\\; \\mathrm{d}x$\")"
   ]
  },
  {
   "cell_type": "markdown",
   "metadata": {},
   "source": [
    "Even if you haven't done these sorts of things yourself, you know you can do so with the help of a computer, and you possibly have something in the computer lab or on your laptop which can do them - or you use some [web applications](http://www.wolframalpha.com/) or other softwares."
   ]
  },
  {
   "cell_type": "markdown",
   "metadata": {},
   "source": [
    "Click [**here**](#day-01-toc) if you want to go back to the table of content of this notebook. Otherwise, continue to the next [**Subsection**](#plotting-in-brief)."
   ]
  },
  {
   "cell_type": "markdown",
   "metadata": {},
   "source": [
    "### Plotting in Brief <a class=\"anchor\" id=\"plotting-in-brief\"></a>\n",
    "\n",
    "\n",
    "_SageMath_ is not only useful in dealing with symbolic expressions but also with plotting. There are lots of plotting commands in _SageMath_. In the previous [Subsection](#calculus-some-basics), we saw some examples of the _SageMath_ `plot` function. In addition, to the `plot` function, I will give examples of the _SageMath_ functions: `plot3d` and `parametric_plot3d`. As you may have have observed in the previous [Subsection](#calculus-some-basics), the `plot` command makes it easy to draw the curve of a real function on a given interval. On the other hand, the `plot3d` command is its counterpart for three-dimensional graphics, or for the graph of a real function of two variables. A similar description applies to the `parametric_plot3d`. Here are examples of those three commands:"
   ]
  },
  {
   "cell_type": "code",
   "execution_count": null,
   "metadata": {},
   "outputs": [],
   "source": [
    "plot(cos(sqrt(2) * x), x, -pi, pi)"
   ]
  },
  {
   "cell_type": "code",
   "execution_count": null,
   "metadata": {},
   "outputs": [],
   "source": [
    "y = SR.var('y')"
   ]
  },
  {
   "cell_type": "code",
   "execution_count": null,
   "metadata": {},
   "outputs": [],
   "source": [
    "plot3d(cos(pi*sqrt(x^2 + y^2))/sqrt(x^2+y^2),(x,-5,5), (y,-5,5))"
   ]
  },
  {
   "cell_type": "code",
   "execution_count": null,
   "metadata": {},
   "outputs": [],
   "source": [
    "u, v = var('u, v')\n",
    "f1 = (4+(3+cos(v))*sin(u), 4+(3+cos(v))*cos(u), 4+sin(v))\n",
    "f2 = (8+(3+cos(v))*cos(u), 3+sin(v), 4+(3+cos(v))*sin(u))\n",
    "p1 = parametric_plot3d(f1, (u,0,2*pi), (v,0,2*pi), texture=\"red\")\n",
    "p2 = parametric_plot3d(f2, (u,0,2*pi), (v,0,2*pi), texture=\"blue\")\n",
    "show(p1 + p2)"
   ]
  },
  {
   "cell_type": "markdown",
   "metadata": {},
   "source": [
    "Click [**here**](#day-01-toc) if you want to go back to the table of content of this notebook. Otherwise, continue to the next [**Subsection**](#demonstration-of-some-sagemath-components)."
   ]
  },
  {
   "cell_type": "markdown",
   "metadata": {},
   "source": [
    "### Demonstration of Some SageMath Components <a class=\"anchor\" id=\"demonstration-of-some-sagemath-components\"></a>\n",
    "\n",
    "One reason _SageMath_ is so powerful is that it uses the \"best of\" other softwares. Click on this [**link**](https://www.sagemath.org/links-components.html) to see the complete list of all software packages that constitutes _SageMath_.  We've already seen it contains [R](http://www.r-project.org/), and it also includes [Numpy](http://www.numpy.org/)/[SciPy](https://www.scipy.org/), which I believe you were introduced to in your Python course.\n",
    "\n",
    "Let us see a more theoretical example of this.  It isn't important whether you have seen any of the things here before, just that you can see us using many subsystems."
   ]
  },
  {
   "cell_type": "code",
   "execution_count": null,
   "metadata": {},
   "outputs": [],
   "source": [
    "K_3 = graphs.CompleteGraph(3); K_3.plot(figsize=2) # Takes NetworkX graph"
   ]
  },
  {
   "cell_type": "markdown",
   "metadata": {},
   "source": [
    "I can use _SageMath_ to compute some properties of the complete graph $K_{3}$ defined in the previous cell. As an example, let's count the number of [spanning trees](https://en.wikipedia.org/wiki/Spanning_tree#Definitions) of the complete graph $K_{3}$."
   ]
  },
  {
   "cell_type": "code",
   "execution_count": null,
   "metadata": {},
   "outputs": [],
   "source": [
    "K_3.spanning_trees_count()"
   ]
  },
  {
   "cell_type": "markdown",
   "metadata": {},
   "source": [
    "_SageMath_ cannot only count the number of spanning trees of the complete graph $K_{3}$ but it can plot them as well."
   ]
  },
  {
   "cell_type": "code",
   "execution_count": null,
   "metadata": {},
   "outputs": [],
   "source": [
    "M = Matroid(K_3);\n",
    "M_bases = M.bases(); \n",
    "[K_3.subgraph(edges = list(M_bases[basis])).show(figsize=1.5) for basis in range(len(M_bases))]"
   ]
  },
  {
   "cell_type": "code",
   "execution_count": null,
   "metadata": {},
   "outputs": [],
   "source": [
    "H = K_3.cartesian_product(K_3) # Uses SageMath's functionality"
   ]
  },
  {
   "cell_type": "code",
   "execution_count": null,
   "metadata": {},
   "outputs": [],
   "source": [
    "show(H) # Uses matplotlib"
   ]
  },
  {
   "cell_type": "code",
   "execution_count": null,
   "metadata": {},
   "outputs": [],
   "source": [
    "Sym = H.automorphism_group() # Native Sage Code using C backend for graphs"
   ]
  },
  {
   "cell_type": "code",
   "execution_count": null,
   "metadata": {},
   "outputs": [],
   "source": [
    "len( Sym.list() )  # Needs GAP to calculate"
   ]
  },
  {
   "cell_type": "code",
   "execution_count": null,
   "metadata": {},
   "outputs": [],
   "source": [
    "Sym._gap_().ComputedPCentralSeriess()  # Directly within GAP"
   ]
  },
  {
   "cell_type": "code",
   "execution_count": null,
   "metadata": {},
   "outputs": [],
   "source": [
    "chrom_poly = H.chromatic_polynomial(); chrom_poly # Uses compiled C code from Cython in SageMath"
   ]
  },
  {
   "cell_type": "code",
   "execution_count": null,
   "metadata": {},
   "outputs": [],
   "source": [
    "deriv = derivative(chrom_poly, x); deriv # Uses Ginac/Pynac for symbolics"
   ]
  },
  {
   "cell_type": "markdown",
   "metadata": {},
   "source": [
    "Believe it or not, this has meaning!  It tells us the graph is connected."
   ]
  },
  {
   "cell_type": "code",
   "execution_count": null,
   "metadata": {},
   "outputs": [],
   "source": [
    "deriv.subs(x=0)"
   ]
  },
  {
   "cell_type": "code",
   "execution_count": null,
   "metadata": {},
   "outputs": [],
   "source": [
    "H.is_connected()"
   ]
  },
  {
   "cell_type": "code",
   "execution_count": null,
   "metadata": {},
   "outputs": [],
   "source": [
    "integral(chrom_poly,x) # Uses Maxima for integration, symbolic summation, etc."
   ]
  },
  {
   "cell_type": "markdown",
   "metadata": {},
   "source": [
    "No one knows if this has any meaning.  The book \"Quo Vadis, Graph Theory?: A Source Book for Challenges and Directions\" asks for interpretations of such things."
   ]
  },
  {
   "cell_type": "markdown",
   "metadata": {},
   "source": [
    "Click [**here**](#day-01-toc) if you want to go back to the table of content of this notebook."
   ]
  },
  {
   "cell_type": "markdown",
   "metadata": {},
   "source": [
    "****\n",
    "\n",
    "<!--NAVIGATION-->\n",
    "< [Table of contents](ems_2020_table_of_contents.ipynb) | [2. Review of Python programming](ems_2020_day_02_short_review_on_python_programming.ipynb) >\n",
    "\n",
    "\n",
    "****"
   ]
  },
  {
   "cell_type": "markdown",
   "metadata": {},
   "source": [
    "<INPUT TYPE=\"button\" VALUE=\"Back to Table of Content\" onClick=\"history.go(-1);\">  <INPUT TYPE=\"button\" VALUE=\"2. Go to Review of Python Programming\" onClick=\"history.go(+1);\">"
   ]
  },
  {
   "cell_type": "markdown",
   "metadata": {},
   "source": [
    "<a href = \"javascript:history.back()\">Back to previous page</a>"
   ]
  },
  {
   "cell_type": "code",
   "execution_count": null,
   "metadata": {},
   "outputs": [],
   "source": []
  }
 ],
 "metadata": {
  "kernelspec": {
   "display_name": "SageMath 9.5",
   "language": "sage",
   "name": "sagemath"
  },
  "language": "python",
  "language_info": {
   "codemirror_mode": {
    "name": "ipython",
    "version": 3
   },
   "file_extension": ".py",
   "mimetype": "text/x-python",
   "name": "python",
   "nbconvert_exporter": "python",
   "pygments_lexer": "ipython3",
   "version": "3.11.2"
  },
  "toc": {
   "base_numbering": 1,
   "nav_menu": {},
   "number_sections": true,
   "sideBar": true,
   "skip_h1_title": false,
   "title_cell": "Table of Contents",
   "title_sidebar": "Contents",
   "toc_cell": false,
   "toc_position": {},
   "toc_section_display": true,
   "toc_window_display": false
  },
  "varInspector": {
   "cols": {
    "lenName": 16,
    "lenType": 16,
    "lenVar": 40
   },
   "kernels_config": {
    "python": {
     "delete_cmd_postfix": "",
     "delete_cmd_prefix": "del ",
     "library": "var_list.py",
     "varRefreshCmd": "print(var_dic_list())"
    },
    "r": {
     "delete_cmd_postfix": ") ",
     "delete_cmd_prefix": "rm(",
     "library": "var_list.r",
     "varRefreshCmd": "cat(var_dic_list()) "
    }
   },
   "types_to_exclude": [
    "module",
    "function",
    "builtin_function_or_method",
    "instance",
    "_Feature"
   ],
   "window_display": false
  }
 },
 "nbformat": 4,
 "nbformat_minor": 4
}
