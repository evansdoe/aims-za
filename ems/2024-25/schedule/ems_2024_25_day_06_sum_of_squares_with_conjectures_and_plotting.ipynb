{
 "cells": [
  {
   "cell_type": "markdown",
   "metadata": {},
   "source": [
    "<img src=\"./images/aims-za-logo.jpeg\" alt=\"drawing\" style=\"width:400px;\"/>\n",
    "<h1 style=\"text-align: center;\"><a title=\"EMS-AIMS-ZA-2024-25\" href=\"https://evansdoe.github.io/aims-za/ems/2024-25\">Experimental Mathematics Using SageMath — AIMS-ZA-2024-25</a></h1>\n",
    "\n",
    "\n",
    "## Instructors: \n",
    "\n",
    "\n",
    "* <a href=\"http://evansdoe.github.io\">**Evans Ocansey**</a>"
   ]
  },
  {
   "cell_type": "markdown",
   "metadata": {},
   "source": [
    "## Day 06 — New Experiments: Sum of Squares and Plotting <a class=\"anchor\" id=\"new-experiment-sum-of-squares-and-plotting\"></a>\n",
    "\n",
    "[comment]: <> (<h2 style=\"text-align: left;\">Day 02 — Introduction to <a title=\"SageMath\"href=\"http://www.sagemath.org/\"><em>SageMath</em></a>: A Mathematics Software for All</h2>)\n",
    "\n",
    "\n",
    "\n",
    "\n",
    "The outline of the this notebook is as follows:"
   ]
  },
  {
   "cell_type": "markdown",
   "metadata": {},
   "source": [
    "## Table of Contents: <a class=\"anchor\" id=\"day-05-toc\"></a> \n",
    "* [ ] [<font color=blue>Reviewing the Frobenius Problem</font>](#reviewing-the-frobenius-problem)\n",
    "  * [<font color=blue>Last Thoughts on the Conductor</font>](#last-thoughts-on-the-conductor)\n",
    "* [ ] [<font color=blue>New Experiment — Sum of Squares </font>](#new-experiment-sum-of-squares)\n",
    "  * [<font color=blue>Exploratory Questions — Sum of Squares </font>](#exploratory-questions-sum-of-squares)\n",
    "* [ ] [<font color=blue>More Plotting and Graphics in Two Dimensions</font>](#more-plotting-and-graphics-in-two-dimensions)"
   ]
  },
  {
   "cell_type": "markdown",
   "metadata": {},
   "source": [
    "## Reviewing the Frobenius Problem <a class = \"anchor\" id=\"reviewing-the-frobenius-problem\"></a>\n",
    "Our motivational problem is the following: \n",
    " - Given positive integers $a$ and $b$, what numbers $m$ can be written in the form $a\\,x+b\\,y$, where $x,\\,y \\in \\mathbb{Z}_{\\ge0}$? \n",
    "\n",
    "Given positive integers $a$ and $b$ if there is a positive integer $c$, with $c = a\\,x + b\\,y$ such that for all positive integers $n \\ge c$, there are non-negative integers $x$ and $y$ with $n = a\\,x + b\\,y$, then $c$ is called the *conductor* of $a$ and $b$. In other words, $c_{\\{a,b\\}}$ is the smallest positive integer that can be written as $a\\,x + b\\,y$ such that  all positive integers greater than or equal to $c_{\\{a,b\\}}$ are also writable. We will denote the conductor of $a$ and $b$ by $c_{\\{a,b\\}}$.  \n",
    "On the other hand, the largest positive integer $f$ that can not be written as $f = a\\,x + b\\,y$ is called the  *Frobenius number* of $a$ and $b$. We will denote this by $f_{\\{a,b\\}}$.\n",
    "\n",
    "It has already led to several related questions. Hopefully you were able to explore the following questions and made interesting _conjectures_.\n",
    "\n",
    " - Given two positive integers $a$  and $b$, how many numbers can not be written as $a\\,x + b\\,y$ with $x,\\,y\\in\\mathbb{Z}_{\\ge0}$?\n",
    " - If $a$ is even and $b$ is odd, what is the Frobenius number? \n",
    " - If $a$ is even and $b$ is even, what is the Frobenius number? \n",
    " - If $a$ is odd and $b$ is odd, what is the Frobenius number? \n",
    " - If $a$ and $b$ are prime numbers, what is the Frobenius number? \n",
    " - Given two positive integers $a$ and $b$, can we find a formula or some other means of computing the Frobenius number?\n",
    " - If $a,\\, b \\in \\mathbb{Z}_{>0}$ and $\\gcd(a, b) \\neq 1$, does the Frobenius number exist?\n",
    "\n",
    "Here are some questions that we possed together in class: \n",
    "- Given that either $a = 1$ or $b = 1$, but not both, is it possible to define a Frobenius number, $f_{\\{a,b\\}}$ and a conductor, $c_{\\{a,b\\}}$? If so what is it?\n",
    "- If $a$ and $b$ have a common factor greater than $1$, does there exist a Frobenius number, $f_{\\{a,b\\}}$ and a conductor, $c_{\\{a,b\\}}$?\n",
    "- If $a$ is even and $b$ is odd what is the Frobenius number and conductor?\n",
    "- If $f_{\\{a,b\\}}=\\infty$ for $a,\\,b \\in \\mathbb{Z}_{>0}$, is it always true that the conductor, $c_{\\{a,b\\}}$ is also infinity. How about the vice-versa of this statement?\n",
    "- Is there a case such that given $a,\\,b \\in \\mathbb{Z}_{>0}$ there exists a Frobenius number, $f_{\\{a,b\\}}$ but not a conductor, $c_{\\{a,b\\}}$?\n",
    "- What is the existence condition for a Frobenius number, $f_{\\{a,b\\}}$ and a conductor, $c_{\\{a,b\\}}$ given $a, b\\in\\mathbb{Z}_{>0}$?\n",
    "- If $a,b\\in\\mathbb{Z}_{>0}$ and there exist a Fronbenius number, $f_{\\{a,b\\}}$ and a conductor, $c_{\\{a,b\\}}$, is there a relationship between:\n",
    "  - $f_{\\{a,\\,b\\}}$ and $c_{\\{a,\\,b\\}}$?\n",
    "  - $f_{\\{a,\\,b\\}}$, $a$, and $b$?\n",
    "  - $c_{\\{a,\\,b\\}}$, $a$, and $b$?"
   ]
  },
  {
   "cell_type": "code",
   "execution_count": null,
   "metadata": {},
   "outputs": [],
   "source": []
  },
  {
   "cell_type": "markdown",
   "metadata": {},
   "source": [
    "### Last Thoughts on the Conductor <a class = \"anchor\" id=\"last-thoughts-on-the-conductor\"></a>\n",
    "\n",
    "Are there more questions we can explore about the Frobenius problem?\n",
    "\n",
    "- What if instead of two positive integers $a$ and $b$, we have more than $3$ positive integers $a, b, c$?  \n",
    "\n",
    "**Question**: Is there such a thing as a *conductor* or a *Frobenius number* for a set of _three_ integers?\n",
    "That is, is there a conductor for numbers of the form $n=5x+8y+7z$, for the set $\\{5,8,7\\}$?\n",
    "\n",
    "   * Well, what about for $\\{3,4,7\\}$?\n",
    "   * Okay, what about $\\{3,4,6\\}$?\n",
    "   * Ah, but what about $\\{3,4,5\\}$?\n",
    "\n",
    "**Question**: We observed from our experiments with two positive integers $a$ and $b$ that the existence criterion for the Frobenius number $f_{\\{a,b\\}}$ is that $a$ and $b$ must be coprime, i.e., $\\gcd(a, b)=1$. Would this criterion also hold for the case of three positive integers: $a$, $b$, and $c$?\n",
    "\n",
    "\n",
    "Do you think there a formula for the Frobenius number $f_{\\{a,b\\}}$, and the conductor $c_{\\{a,b\\}}$?  What about for bigger sets of integers, for example, for three positive integers $a$, $b$, and $c$?\n",
    "\n",
    "   * For sets of two, it turns out there is a _complete answer_ which some of you have either discovered it already or busy discovering.\n",
    "   * For sets of three numbers, like $n=5\\,x+8\\,y+7\\,z$, there is an efficient algorithm, but no exact formula.\n",
    "\n",
    "Notice the connection between theory and practice!  Solving this problem could easily solve a \"real-life\" business problem, so a good algorithm would be very important. But finding such an algorithm requires exploration and experimentation like we have been doing.  \n",
    "\n",
    "This [video](https://www.youtube.com/watch?v=vNTSugyS038) gives us a practical application of the Frobenius problem in real life."
   ]
  },
  {
   "cell_type": "markdown",
   "metadata": {},
   "source": [
    "Click [**here**](#day-05-toc) if you want to go back to the table of content of this notebook. Otherwise, continue to the next [**Section**](#new-experiment-sum-of-squares)."
   ]
  },
  {
   "cell_type": "markdown",
   "metadata": {},
   "source": [
    "## New Experiment — Sum of Squares <a class=\"anchor\" id=\"new-experiment-sum-of-squares\"></a>\n",
    "\n",
    "With that in mind, let's begin our next exploration. Hopefully you have had some fun experimenting with the condunctor problem. Today we will introduce a new problem to keep up the fun spirit of experimental mathematics. Namely, what numbers can be written in the form $n=a^2+b^2$?\n",
    "\n",
    "Here are a cases that do and do not work.\n",
    "\n",
    "   * $2 = 1^2+1^2$ works;\n",
    "   * $3$ does not work, since we only allow integers.  $1+1$ is too small, $1^2+2^2=5$ is too big;\n",
    "   * $4$ actually <em>does</em> work, because we allow $4 = 0^2+2^2$.  (That's just one of our rules; you could play a different game if you wanted.);\n",
    "   * That means $1=1^2+0^2$ works.\n",
    "   * $5$ works.\n",
    "And so forth. "
   ]
  },
  {
   "cell_type": "markdown",
   "metadata": {},
   "source": [
    "## Exploratory Questions — Sum of Squares <a class=\"anchor\" id=\"exploratory-questions-sum-of-squares\"></a>\n",
    "Can you think of questions that you can explore experimentally? Last Friday, we formulated the following questions. I also added extra questions.\n",
    "\n",
    "1. Which positive integers can be written as a sum of two squares?\n",
    "2. Which ones cannot be written?\n",
    "3. Are numbers that can be represented as a sum of two squares always odd or always even? Or do they vary?\n",
    "4. What are the sum of squares that are even or odd integers?\n",
    "5. Is the sum of squares of two numbers generally even or odd? What factors influence this?\n",
    "6. What are the sum of squares that are perfect squares? What is the probability that the sum of squares is a perfect square? When is this condition true?\n",
    "7. If $a$ is a factor of $b$, under what conditions is the sum of their squares a perfect square?\n",
    "8. Can either $a$ or $b$ be a factor of the sum of their squares?\n",
    "9. For which values of $a$ and $b$ is the sum of their squares a prime number?\n",
    "10. Can there be two or more distinct pairs of $a$ and $b$ that yield the same sum of squares? If so, what are these pairs?\n",
    "11. Is the sum of the squares of two consecutive integers always odd? If not, when does it differ?\n",
    "12. If $a$ and $b$ are both odd, is the sum of their squares odd or even?\n",
    "13. If $a$ is odd and $b$ is even, what is the sum of their squares?\n",
    "14. If $a$ is the only even prime (i.e., $2$) and $b$ is an odd prime, is the sum of their squares a prime number?\n",
    "15. Which numbers can be written as a sum of squares of two prime numbers?\n",
    "16. Which positive integers can be expressed as the sum of squares of their factors? Are there identifiable patterns?\n",
    "17. Given $a$ and $b$ are both prime, under what conditions is $a^2 + b^2$ also prime?\n",
    "18. Are there forms other than $x^2 + 0^2$ for representing a square root as a sum of squares?\n",
    "\n",
    "Each question could reveal patterns or conjectures. Let's proceed systematically as follows:\n",
    "\n",
    "   - **Identify** when the statement holds true or false.\n",
    "   - **Analyze patterns** in the results generated.\n",
    "   - **Make conjectures** about underlying rules or relationships based on observed patterns."
   ]
  },
  {
   "cell_type": "code",
   "execution_count": null,
   "metadata": {},
   "outputs": [],
   "source": []
  },
  {
   "cell_type": "markdown",
   "metadata": {},
   "source": [
    "- Let us start by working with pens and paper.\n",
    "- I will create a table on the board for us to fill it out.\n",
    "- We will divide ourselves into groups and try the case for $n$ running from $1$ to $100$ to fillout the table.\n",
    "- We will study the table to see if we can observe some patterns in the data and make some interesting conjectures.\n",
    "- When we are done, we will go to the computer lab and see how we can translate the table we have created using an appropriate Python datatype.\n",
    "- Once we have the tabular data correctly encoded, we will further explore our questions in groups using SageMath."
   ]
  },
  {
   "cell_type": "markdown",
   "metadata": {},
   "source": [
    "### Generate Sum of Squares Data <a class = \"anchor\" id=\"generate-sum-of-squares-data\"></a>"
   ]
  },
  {
   "cell_type": "code",
   "execution_count": 20,
   "metadata": {},
   "outputs": [],
   "source": [
    "def generate_sum_of_squares_data(\n",
    "    a_bound: int = 6,\n",
    "    b_bound: int = 6\n",
    ") -> dict[int, list[tuple[int, int]]]:\n",
    "    \"\"\"Generates a database of integers as sums of two squares.\n",
    "\n",
    "    This function creates a dictionary where each key is an integer \n",
    "    that can be represented as the sum of squares of two non-negative \n",
    "    integers `a` and `b`, with `a` bounded by `a_bound` and `b` bounded \n",
    "    by `b_bound`. The dictionary is sorted by its keys in ascending order. \n",
    "    The value for each key is a list of tuples, each tuple representing \n",
    "    a unique pair `(a, b)` such that `n = a^2 + b^2`.\n",
    "\n",
    "    Args:\n",
    "        a_bound (int): The upper bound for the integer `a` (inclusive). Defaults to 6.\n",
    "        b_bound (int): The upper bound for the integer `b` (inclusive). Defaults to 6.\n",
    "\n",
    "    Returns:\n",
    "        dict[int, list[tuple[int, int]]]: A dictionary where each key is an integer \n",
    "        that can be written as `a^2 + b^2` for some integers `a` and `b` within \n",
    "        the specified bounds. The value for each key is a list of tuples, \n",
    "        each tuple being a pair `(a, b)` that satisfies the sum of squares condition.\n",
    "\n",
    "    \n",
    "    Example:\n",
    "        >>> generate_sum_of_squares_data(3, 3)\n",
    "        {0: [(0, 0)], 1: [(1, 0), (0, 1)], 2: [(1, 1)], 4: [(2, 0), (0, 2)], \n",
    "         5: [(2, 1), (1, 2)], 9: [(3, 0), (0, 3)], 10: [(3, 1), (1, 3)], 13: [(3, 2), (2, 3)]}\n",
    "    \"\"\"\n",
    "    \n",
    "    sum_of_squares_database = {}\n",
    "    for a in [0..a_bound]:\n",
    "        for b in [0..b_bound]:\n",
    "            n = a**2 + b**2\n",
    "            if n not in sum_of_squares_database:\n",
    "                sum_of_squares_database[n] = [(a, b)]\n",
    "            else:\n",
    "                sum_of_squares_database[n].append((a, b))\n",
    "    return dict(sorted(sum_of_squares_database.items()))\n"
   ]
  },
  {
   "cell_type": "code",
   "execution_count": 22,
   "metadata": {},
   "outputs": [
    {
     "data": {
      "text/plain": [
       "\u001b[0;31mSignature:\u001b[0m      \u001b[0mgenerate_sum_of_squares_data\u001b[0m\u001b[0;34m(\u001b[0m\u001b[0ma_bound\u001b[0m\u001b[0;34m:\u001b[0m \u001b[0mint\u001b[0m \u001b[0;34m=\u001b[0m \u001b[0;36m6\u001b[0m\u001b[0;34m,\u001b[0m \u001b[0mb_bound\u001b[0m\u001b[0;34m:\u001b[0m \u001b[0mint\u001b[0m \u001b[0;34m=\u001b[0m \u001b[0;36m6\u001b[0m\u001b[0;34m)\u001b[0m \u001b[0;34m->\u001b[0m \u001b[0mdict\u001b[0m\u001b[0;34m[\u001b[0m\u001b[0mint\u001b[0m\u001b[0;34m,\u001b[0m \u001b[0mlist\u001b[0m\u001b[0;34m[\u001b[0m\u001b[0mtuple\u001b[0m\u001b[0;34m[\u001b[0m\u001b[0mint\u001b[0m\u001b[0;34m,\u001b[0m \u001b[0mint\u001b[0m\u001b[0;34m]\u001b[0m\u001b[0;34m]\u001b[0m\u001b[0;34m]\u001b[0m\u001b[0;34m\u001b[0m\u001b[0;34m\u001b[0m\u001b[0m\n",
       "\u001b[0;31mDocstring:\u001b[0m     \n",
       "Generates a database of integers as sums of two squares.\n",
       "\n",
       "   This function creates a dictionary where each key is an integer\n",
       "   that can be represented as the sum of squares of two non-negative\n",
       "   integers a and b, with a bounded by a_bound and b bounded by\n",
       "   b_bound. The dictionary is sorted by its keys in ascending order.\n",
       "   The value for each key is a list of tuples, each tuple representing\n",
       "   a unique pair (a, b) such that n = a^2 + b^2.\n",
       "\n",
       "   Args:\n",
       "      a_bound (int): The upper bound for the integer a (inclusive).\n",
       "      Defaults to 6. b_bound (int): The upper bound for the integer b\n",
       "      (inclusive). Defaults to 6.\n",
       "\n",
       "   Returns:\n",
       "      dict[int, list[tuple[int, int]]]: A dictionary where each key is\n",
       "      an integer that can be written as a^2 + b^2 for some integers a\n",
       "      and b within the specified bounds. The value for each key is a\n",
       "      list of tuples, each tuple being a pair (a, b) that satisfies\n",
       "      the sum of squares condition.\n",
       "\n",
       "   Example:\n",
       "      >>> generate_sum_of_squares_data(3, 3)\n",
       "      {0: [(0, 0)], 1: [(1, 0), (0, 1)], 2: [(1, 1)], 4: [(2, 0), (0, 2)],\n",
       "       5: [(2, 1), (1, 2)], 9: [(3, 0), (0, 3)], 10: [(3, 1), (1, 3)], 13: [(3, 2), (2, 3)]}\n",
       "\u001b[0;31mInit docstring:\u001b[0m Initialize self.  See help(type(self)) for accurate signature.\n",
       "\u001b[0;31mFile:\u001b[0m           /tmp/ipykernel_1802085/4052285031.py\n",
       "\u001b[0;31mType:\u001b[0m           function"
      ]
     },
     "metadata": {},
     "output_type": "display_data"
    }
   ],
   "source": [
    "generate_sum_of_squares_data?"
   ]
  },
  {
   "cell_type": "code",
   "execution_count": 19,
   "metadata": {},
   "outputs": [
    {
     "data": {
      "text/plain": [
       "{0: [(0, 0)],\n",
       " 1: [(0, 1), (1, 0)],\n",
       " 2: [(1, 1)],\n",
       " 4: [(0, 2), (2, 0)],\n",
       " 5: [(1, 2), (2, 1)],\n",
       " 8: [(2, 2)],\n",
       " 9: [(0, 3), (3, 0)],\n",
       " 10: [(1, 3), (3, 1)],\n",
       " 13: [(2, 3), (3, 2)],\n",
       " 18: [(3, 3)]}"
      ]
     },
     "execution_count": 19,
     "metadata": {},
     "output_type": "execute_result"
    }
   ],
   "source": [
    "s = generate_sum_of_squares_data(3, 3)\n",
    "s"
   ]
  },
  {
   "cell_type": "markdown",
   "metadata": {},
   "source": [
    "### Students' conjectures <a class=\"anchor\" id=\"students-conjectures\"></a> \n",
    "\n",
    "The following conjectures were made by students in today's class after working with pens and papers to generate data and observing it.\n",
    "\n",
    "- If $n$ is odd, then the pair $(a,b)$ has one to be even and the other odd.\n",
    "- If $a$ and $b$ are both even, then $n$ is even and if $a$ and $b$ are both odd, then $n$ is even.\n",
    "- If $n=a^2+b^2$ for $a,b\\in\\mathbb{N}$ then $a,b\\leq\\sqrt{n}$.\n",
    "- If $n=a^2+b^2$ for $a,b\\in\\mathbb{N}$, then the maximum number of pairs $(a,b)$ for fixed $n$ is equal to 4.\n",
    "- If $n$ has 4 pairs of solution, then $n$ is a multiple of $5$.\n",
    "- If $n$ is prime and $n > 2$, then the number of $(a,b)$ is always $2$.\n",
    "- If $a=b$, $n=2a^2$ or $n=2b^2$. If a or b is equal to zero, then $n=a^2$ or $b^2$.\n",
    "- If $n$ is a perfect square, the number of $(a,b)$ is 2.\n",
    "- If $n$ is an odd prime and can be written as 1 mod 4, then it can be written as $a^2+b^2$."
   ]
  },
  {
   "cell_type": "code",
   "execution_count": null,
   "metadata": {},
   "outputs": [],
   "source": []
  },
  {
   "cell_type": "code",
   "execution_count": null,
   "metadata": {},
   "outputs": [],
   "source": []
  },
  {
   "cell_type": "code",
   "execution_count": null,
   "metadata": {},
   "outputs": [],
   "source": []
  },
  {
   "cell_type": "code",
   "execution_count": null,
   "metadata": {},
   "outputs": [],
   "source": []
  },
  {
   "cell_type": "code",
   "execution_count": null,
   "metadata": {},
   "outputs": [],
   "source": []
  },
  {
   "cell_type": "markdown",
   "metadata": {},
   "source": [
    "Hopefully you have tried some examples. Now let us have ourselves in groups and explore our questions using _SageMath_. As you explore, try to write your observation. Later on I will call on the spokesperson of a group to report their findings."
   ]
  },
  {
   "cell_type": "code",
   "execution_count": 1,
   "metadata": {},
   "outputs": [
    {
     "data": {
      "text/plain": [
       "[0,\n",
       " 1,\n",
       " 1,\n",
       " 2,\n",
       " 4,\n",
       " 4,\n",
       " 5,\n",
       " 5,\n",
       " 8,\n",
       " 9,\n",
       " 9,\n",
       " 10,\n",
       " 10,\n",
       " 13,\n",
       " 13,\n",
       " 16,\n",
       " 16,\n",
       " 17,\n",
       " 17,\n",
       " 18,\n",
       " 20,\n",
       " 20,\n",
       " 25,\n",
       " 25,\n",
       " 25,\n",
       " 25,\n",
       " 26,\n",
       " 26,\n",
       " 29,\n",
       " 29,\n",
       " 32,\n",
       " 34,\n",
       " 34,\n",
       " 36,\n",
       " 36,\n",
       " 37,\n",
       " 37,\n",
       " 40,\n",
       " 40,\n",
       " 41,\n",
       " 41,\n",
       " 45,\n",
       " 45,\n",
       " 49,\n",
       " 49,\n",
       " 50,\n",
       " 50,\n",
       " 50,\n",
       " 52,\n",
       " 52,\n",
       " 53,\n",
       " 53,\n",
       " 58,\n",
       " 58,\n",
       " 61,\n",
       " 61,\n",
       " 64,\n",
       " 64,\n",
       " 65,\n",
       " 65,\n",
       " 65,\n",
       " 65,\n",
       " 68,\n",
       " 68,\n",
       " 72,\n",
       " 73,\n",
       " 73,\n",
       " 74,\n",
       " 74,\n",
       " 80,\n",
       " 80,\n",
       " 81,\n",
       " 81,\n",
       " 82,\n",
       " 82,\n",
       " 85,\n",
       " 85,\n",
       " 85,\n",
       " 85,\n",
       " 89,\n",
       " 89,\n",
       " 90,\n",
       " 90,\n",
       " 97,\n",
       " 97,\n",
       " 98,\n",
       " 100,\n",
       " 100,\n",
       " 100,\n",
       " 100,\n",
       " 101,\n",
       " 101,\n",
       " 104,\n",
       " 104,\n",
       " 106,\n",
       " 106,\n",
       " 109,\n",
       " 109,\n",
       " 113,\n",
       " 113,\n",
       " 116,\n",
       " 116,\n",
       " 117,\n",
       " 117,\n",
       " 125,\n",
       " 125,\n",
       " 128,\n",
       " 130,\n",
       " 130,\n",
       " 136,\n",
       " 136,\n",
       " 145,\n",
       " 145,\n",
       " 149,\n",
       " 149,\n",
       " 162,\n",
       " 164,\n",
       " 164,\n",
       " 181,\n",
       " 181,\n",
       " 200]"
      ]
     },
     "execution_count": 1,
     "metadata": {},
     "output_type": "execute_result"
    },
    {
     "name": "stdout",
     "output_type": "stream",
     "text": [
      "The history saving thread hit an unexpected error (OperationalError('attempt to write a readonly database')).History will not be written to the database.\n"
     ]
    }
   ],
   "source": [
    "sorted([a^2 + b^2 for a in [0..10] for b in [0..10]])"
   ]
  },
  {
   "cell_type": "code",
   "execution_count": 1,
   "metadata": {},
   "outputs": [
    {
     "name": "stdout",
     "output_type": "stream",
     "text": [
      "The history saving thread hit an unexpected error (OperationalError('attempt to write a readonly database')).History will not be written to the database.\n"
     ]
    }
   ],
   "source": []
  },
  {
   "cell_type": "code",
   "execution_count": 2,
   "metadata": {},
   "outputs": [
    {
     "data": {
      "text/plain": [
       "{0: [(0, 0)],\n",
       " 1: [(0, 1), (1, 0)],\n",
       " 4: [(0, 2), (2, 0)],\n",
       " 2: [(1, 1)],\n",
       " 5: [(1, 2), (2, 1)],\n",
       " 8: [(2, 2)]}"
      ]
     },
     "execution_count": 2,
     "metadata": {},
     "output_type": "execute_result"
    }
   ],
   "source": [
    "a_bound=2\n",
    "b_bound=2\n",
    "\n",
    "sum_of_squares_database = generate_sum_of_squares_database(a_bound=a_bound, b_bound=b_bound)\n",
    "sum_of_squares_database"
   ]
  },
  {
   "cell_type": "markdown",
   "metadata": {},
   "source": [
    "### Experiment 1 <a id=\"experiment-01\"></a>"
   ]
  },
  {
   "cell_type": "code",
   "execution_count": 33,
   "metadata": {},
   "outputs": [
    {
     "data": {
      "text/plain": [
       "{1: [(0, 1), (1, 0)],\n",
       " 9: [(0, 3), (3, 0)],\n",
       " 25: [(0, 5), (3, 4), (4, 3), (5, 0)],\n",
       " 5: [(1, 2), (2, 1)],\n",
       " 17: [(1, 4), (4, 1)],\n",
       " 13: [(2, 3), (3, 2)],\n",
       " 29: [(2, 5), (5, 2)],\n",
       " 41: [(4, 5), (5, 4)]}"
      ]
     },
     "execution_count": 33,
     "metadata": {},
     "output_type": "execute_result"
    }
   ],
   "source": [
    "{key: sum_of_squares_database[key] for key in list(filter(is_odd, sum_of_squares_database)}"
   ]
  },
  {
   "cell_type": "code",
   "execution_count": 26,
   "metadata": {},
   "outputs": [
    {
     "data": {
      "text/plain": [
       "[False, True, False]"
      ]
     },
     "execution_count": 26,
     "metadata": {},
     "output_type": "execute_result"
    }
   ],
   "source": [
    "list(map(is_odd, l))"
   ]
  },
  {
   "cell_type": "code",
   "execution_count": null,
   "metadata": {},
   "outputs": [],
   "source": []
  },
  {
   "cell_type": "code",
   "execution_count": null,
   "metadata": {},
   "outputs": [],
   "source": []
  },
  {
   "cell_type": "code",
   "execution_count": 22,
   "metadata": {},
   "outputs": [
    {
     "data": {
      "text/plain": [
       "[1, 9, 5, 13]"
      ]
     },
     "execution_count": 22,
     "metadata": {},
     "output_type": "execute_result"
    }
   ],
   "source": [
    "list(filter(is_odd, sum_of_squares_database))"
   ]
  },
  {
   "cell_type": "code",
   "execution_count": 17,
   "metadata": {},
   "outputs": [
    {
     "data": {
      "text/plain": [
       "dict_values([[(0, 0)], [(0, 1), (1, 0)], [(0, 2), (2, 0)], [(0, 3), (3, 0)], [(0, 4), (4, 0)], [(0, 5), (3, 4), (4, 3), (5, 0)], [(0, 6), (6, 0)], [(0, 7), (7, 0)], [(0, 8), (8, 0)], [(0, 9), (9, 0)], [(0, 10), (6, 8), (8, 6), (10, 0)], [(0, 11), (11, 0)], [(0, 12), (12, 0)], [(0, 13), (5, 12), (12, 5), (13, 0)], [(0, 14), (14, 0)], [(0, 15), (9, 12), (12, 9), (15, 0)], [(0, 16), (16, 0)], [(0, 17), (8, 15), (15, 8), (17, 0)], [(0, 18), (18, 0)], [(0, 19), (19, 0)], [(0, 20), (12, 16), (16, 12), (20, 0)], [(1, 1)], [(1, 2), (2, 1)], [(1, 3), (3, 1)], [(1, 4), (4, 1)], [(1, 5), (5, 1)], [(1, 6), (6, 1)], [(1, 7), (5, 5), (7, 1)], [(1, 8), (4, 7), (7, 4), (8, 1)], [(1, 9), (9, 1)], [(1, 10), (10, 1)], [(1, 11), (11, 1)], [(1, 12), (8, 9), (9, 8), (12, 1)], [(1, 13), (7, 11), (11, 7), (13, 1)], [(1, 14), (14, 1)], [(1, 15), (15, 1)], [(1, 16), (16, 1)], [(1, 17), (11, 13), (13, 11), (17, 1)], [(1, 18), (6, 17), (10, 15), (15, 10), (17, 6), (18, 1)], [(1, 19), (19, 1)], [(1, 20), (20, 1)], [(2, 2)], [(2, 3), (3, 2)], [(2, 4), (4, 2)], [(2, 5), (5, 2)], [(2, 6), (6, 2)], [(2, 7), (7, 2)], [(2, 8), (8, 2)], [(2, 9), (6, 7), (7, 6), (9, 2)], [(2, 10), (10, 2)], [(2, 11), (5, 10), (10, 5), (11, 2)], [(2, 12), (12, 2)], [(2, 13), (13, 2)], [(2, 14), (10, 10), (14, 2)], [(2, 15), (15, 2)], [(2, 16), (8, 14), (14, 8), (16, 2)], [(2, 17), (17, 2)], [(2, 18), (18, 2)], [(2, 19), (13, 14), (14, 13), (19, 2)], [(2, 20), (20, 2)], [(3, 3)], [(3, 5), (5, 3)], [(3, 6), (6, 3)], [(3, 7), (7, 3)], [(3, 8), (8, 3)], [(3, 9), (9, 3)], [(3, 10), (10, 3)], [(3, 11), (7, 9), (9, 7), (11, 3)], [(3, 12), (12, 3)], [(3, 13), (13, 3)], [(3, 14), (6, 13), (13, 6), (14, 3)], [(3, 15), (15, 3)], [(3, 16), (11, 12), (12, 11), (16, 3)], [(3, 17), (17, 3)], [(3, 18), (18, 3)], [(3, 19), (9, 17), (17, 9), (19, 3)], [(3, 20), (20, 3)], [(4, 4)], [(4, 5), (5, 4)], [(4, 6), (6, 4)], [(4, 8), (8, 4)], [(4, 9), (9, 4)], [(4, 10), (10, 4)], [(4, 11), (11, 4)], [(4, 12), (12, 4)], [(4, 13), (8, 11), (11, 8), (13, 4)], [(4, 14), (14, 4)], [(4, 15), (15, 4)], [(4, 16), (16, 4)], [(4, 17), (7, 16), (16, 7), (17, 4)], [(4, 18), (12, 14), (14, 12), (18, 4)], [(4, 19), (11, 16), (16, 11), (19, 4)], [(4, 20), (20, 4)], [(5, 6), (6, 5)], [(5, 7), (7, 5)], [(5, 8), (8, 5)], [(5, 9), (9, 5)], [(5, 11), (11, 5)], [(5, 13), (13, 5)], [(5, 14), (10, 11), (11, 10), (14, 5)], [(5, 15), (9, 13), (13, 9), (15, 5)], [(5, 16), (16, 5)], [(5, 17), (17, 5)], [(5, 18), (18, 5)], [(5, 19), (19, 5)], [(5, 20), (8, 19), (13, 16), (16, 13), (19, 8), (20, 5)], [(6, 6)], [(6, 9), (9, 6)], [(6, 10), (10, 6)], [(6, 11), (11, 6)], [(6, 12), (12, 6)], [(6, 14), (14, 6)], [(6, 15), (15, 6)], [(6, 16), (16, 6)], [(6, 18), (18, 6)], [(6, 19), (19, 6)], [(6, 20), (20, 6)], [(7, 7)], [(7, 8), (8, 7)], [(7, 10), (10, 7)], [(7, 12), (12, 7)], [(7, 13), (13, 7)], [(7, 14), (14, 7)], [(7, 15), (15, 7)], [(7, 17), (13, 13), (17, 7)], [(7, 18), (18, 7)], [(7, 19), (11, 17), (17, 11), (19, 7)], [(7, 20), (20, 7)], [(8, 8)], [(8, 10), (10, 8)], [(8, 12), (12, 8)], [(8, 13), (13, 8)], [(8, 16), (16, 8)], [(8, 17), (17, 8)], [(8, 18), (18, 8)], [(8, 20), (20, 8)], [(9, 9)], [(9, 10), (10, 9)], [(9, 11), (11, 9)], [(9, 14), (14, 9)], [(9, 15), (15, 9)], [(9, 16), (16, 9)], [(9, 18), (18, 9)], [(9, 19), (19, 9)], [(9, 20), (15, 16), (16, 15), (20, 9)], [(10, 12), (12, 10)], [(10, 13), (13, 10)], [(10, 14), (14, 10)], [(10, 16), (16, 10)], [(10, 17), (17, 10)], [(10, 18), (18, 10)], [(10, 19), (19, 10)], [(10, 20), (20, 10)], [(11, 11)], [(11, 14), (14, 11)], [(11, 15), (15, 11)], [(11, 18), (18, 11)], [(11, 19), (19, 11)], [(11, 20), (20, 11)], [(12, 12)], [(12, 13), (13, 12)], [(12, 15), (15, 12)], [(12, 17), (17, 12)], [(12, 18), (18, 12)], [(12, 19), (19, 12)], [(12, 20), (20, 12)], [(13, 15), (15, 13)], [(13, 17), (17, 13)], [(13, 18), (18, 13)], [(13, 19), (19, 13)], [(13, 20), (20, 13)], [(14, 14)], [(14, 15), (15, 14)], [(14, 16), (16, 14)], [(14, 17), (17, 14)], [(14, 18), (18, 14)], [(14, 19), (19, 14)], [(14, 20), (20, 14)], [(15, 15)], [(15, 17), (17, 15)], [(15, 18), (18, 15)], [(15, 19), (19, 15)], [(15, 20), (20, 15)], [(16, 16)], [(16, 17), (17, 16)], [(16, 18), (18, 16)], [(16, 19), (19, 16)], [(16, 20), (20, 16)], [(17, 17)], [(17, 18), (18, 17)], [(17, 19), (19, 17)], [(17, 20), (20, 17)], [(18, 18)], [(18, 19), (19, 18)], [(18, 20), (20, 18)], [(19, 19)], [(19, 20), (20, 19)], [(20, 20)]])"
      ]
     },
     "execution_count": 17,
     "metadata": {},
     "output_type": "execute_result"
    }
   ],
   "source": [
    "sum_of_squares_database"
   ]
  },
  {
   "cell_type": "code",
   "execution_count": null,
   "metadata": {},
   "outputs": [],
   "source": []
  },
  {
   "cell_type": "code",
   "execution_count": null,
   "metadata": {},
   "outputs": [],
   "source": []
  },
  {
   "cell_type": "code",
   "execution_count": null,
   "metadata": {},
   "outputs": [],
   "source": []
  },
  {
   "cell_type": "code",
   "execution_count": null,
   "metadata": {},
   "outputs": [],
   "source": []
  },
  {
   "cell_type": "code",
   "execution_count": null,
   "metadata": {},
   "outputs": [],
   "source": []
  },
  {
   "cell_type": "code",
   "execution_count": null,
   "metadata": {},
   "outputs": [],
   "source": []
  },
  {
   "cell_type": "code",
   "execution_count": null,
   "metadata": {},
   "outputs": [],
   "source": []
  },
  {
   "cell_type": "code",
   "execution_count": null,
   "metadata": {},
   "outputs": [],
   "source": []
  },
  {
   "cell_type": "code",
   "execution_count": null,
   "metadata": {},
   "outputs": [],
   "source": []
  },
  {
   "cell_type": "code",
   "execution_count": null,
   "metadata": {},
   "outputs": [],
   "source": []
  },
  {
   "cell_type": "code",
   "execution_count": null,
   "metadata": {},
   "outputs": [],
   "source": []
  },
  {
   "cell_type": "code",
   "execution_count": null,
   "metadata": {},
   "outputs": [],
   "source": []
  },
  {
   "cell_type": "code",
   "execution_count": null,
   "metadata": {},
   "outputs": [],
   "source": []
  },
  {
   "cell_type": "code",
   "execution_count": null,
   "metadata": {},
   "outputs": [],
   "source": []
  },
  {
   "cell_type": "code",
   "execution_count": null,
   "metadata": {},
   "outputs": [],
   "source": []
  },
  {
   "cell_type": "code",
   "execution_count": null,
   "metadata": {},
   "outputs": [],
   "source": []
  },
  {
   "cell_type": "code",
   "execution_count": null,
   "metadata": {},
   "outputs": [],
   "source": []
  },
  {
   "cell_type": "code",
   "execution_count": null,
   "metadata": {},
   "outputs": [],
   "source": []
  },
  {
   "cell_type": "code",
   "execution_count": null,
   "metadata": {},
   "outputs": [],
   "source": []
  },
  {
   "cell_type": "code",
   "execution_count": null,
   "metadata": {},
   "outputs": [],
   "source": []
  },
  {
   "cell_type": "code",
   "execution_count": null,
   "metadata": {},
   "outputs": [],
   "source": []
  },
  {
   "cell_type": "code",
   "execution_count": null,
   "metadata": {},
   "outputs": [],
   "source": []
  },
  {
   "cell_type": "code",
   "execution_count": null,
   "metadata": {},
   "outputs": [],
   "source": []
  },
  {
   "cell_type": "code",
   "execution_count": null,
   "metadata": {},
   "outputs": [],
   "source": []
  },
  {
   "cell_type": "code",
   "execution_count": null,
   "metadata": {},
   "outputs": [],
   "source": []
  },
  {
   "cell_type": "code",
   "execution_count": null,
   "metadata": {},
   "outputs": [],
   "source": []
  },
  {
   "cell_type": "code",
   "execution_count": null,
   "metadata": {},
   "outputs": [],
   "source": []
  },
  {
   "cell_type": "code",
   "execution_count": null,
   "metadata": {},
   "outputs": [],
   "source": []
  },
  {
   "cell_type": "code",
   "execution_count": null,
   "metadata": {},
   "outputs": [],
   "source": []
  },
  {
   "cell_type": "code",
   "execution_count": null,
   "metadata": {},
   "outputs": [],
   "source": []
  },
  {
   "cell_type": "code",
   "execution_count": null,
   "metadata": {},
   "outputs": [],
   "source": [
    "sum_of_squares_database = dict(); sum_of_squares_database"
   ]
  },
  {
   "cell_type": "code",
   "execution_count": null,
   "metadata": {},
   "outputs": [],
   "source": [
    "sum_of_squares_database[0] = [(0,0)]; sum_of_squares_database"
   ]
  },
  {
   "cell_type": "code",
   "execution_count": null,
   "metadata": {},
   "outputs": [],
   "source": [
    "sum_of_squares_database[1] = [(0,1), (1, 0)]; sum_of_squares_database"
   ]
  },
  {
   "cell_type": "code",
   "execution_count": null,
   "metadata": {},
   "outputs": [],
   "source": [
    "sum_of_squares_database[2] = [(1,1)]; sum_of_squares_database"
   ]
  },
  {
   "cell_type": "code",
   "execution_count": null,
   "metadata": {},
   "outputs": [],
   "source": [
    "list(sum_of_squares_database.values())"
   ]
  },
  {
   "cell_type": "code",
   "execution_count": null,
   "metadata": {},
   "outputs": [],
   "source": [
    "list(map(len, list(sum_of_squares_database.values())))"
   ]
  },
  {
   "cell_type": "code",
   "execution_count": null,
   "metadata": {},
   "outputs": [],
   "source": [
    "my_list = list()\n",
    "for value in list(sum_of_squares_database.values()):\n",
    "    my_list.append(len(value))\n",
    "my_list"
   ]
  },
  {
   "cell_type": "markdown",
   "metadata": {},
   "source": [
    "After a while, we will come back and I will ask you about possible ways to rethink the problem on the sum of squares. "
   ]
  },
  {
   "cell_type": "markdown",
   "metadata": {},
   "source": [
    "Can you think of a way to solve this problem? _Hint: What do you know about equations of this form $n = a^{2} + b ^{2}$?_"
   ]
  },
  {
   "cell_type": "markdown",
   "metadata": {},
   "source": [
    "This brings up the question of how to do such plotting in the first place? We will look at this in more detail in the next [**Section**](#more-plotting-and-graphics-in-two-dimensions)."
   ]
  },
  {
   "cell_type": "markdown",
   "metadata": {},
   "source": [
    "## More Plotting and Graphics in Two Dimensions <a class = \"anchor\" id = \"more-plotting-and-graphics-in-two-dimensions\"></a>\n",
    "There is absolutely no way we could cover all the graphics in _SageMath_ (or the program that does it for _SageMath_, <a href=\"http://matplotlib.org/\" target=\"_blank\">matplotlib</a>) in one day, or even a week. We will look at a bunch of different resources you have access to, and see lots of different plot types. As we go through these resources, think of how they will be of use in solving our new experiment or where you could have used them some time back in your academic career. I definitely do not know everything about the plotting command. Nevertheless, you may interrupt me with your question so that we can explore the solution together. \n",
    "\n",
    "   * We will begin with the online documentation on [advanced 2D-plotting](https://doc.sagemath.org/html/en/prep/Advanced-2DPlotting.html) in the built-in live documentation. \n",
    "   * There are two very important pages with many, MANY examples - the documentation for [plot](http://www.sagemath.org/doc/reference/plotting/sage/plot/plot.html) and that for [showing graphics](http://www.sagemath.org/doc/reference/plotting/sage/plot/graphics.html#sage.plot.graphics.Graphics.show).\n",
    "   * The [general plotting reference](http://www.sagemath.org/doc/reference/plotting/index.html) - there are a lot of surprises, like animation, etc.\n",
    "\n",
    "Remember, you should feel free to stop listening for a while if you want to try something out!  \n",
    "Once we've seen enough examples, please either start using _SageMath_ to explore the sums of squares, _or_ try to recreate your favorite graphic using _SageMath_!"
   ]
  },
  {
   "cell_type": "code",
   "execution_count": null,
   "metadata": {},
   "outputs": [],
   "source": []
  }
 ],
 "metadata": {
  "kernelspec": {
   "display_name": "SageMath 10.4",
   "language": "sage",
   "name": "sagemath"
  },
  "language_info": {
   "codemirror_mode": {
    "name": "ipython",
    "version": 3
   },
   "file_extension": ".py",
   "mimetype": "text/x-python",
   "name": "python",
   "nbconvert_exporter": "python",
   "pygments_lexer": "ipython3",
   "version": "3.11.2"
  },
  "varInspector": {
   "cols": {
    "lenName": 16,
    "lenType": 16,
    "lenVar": 40
   },
   "kernels_config": {
    "python": {
     "delete_cmd_postfix": "",
     "delete_cmd_prefix": "del ",
     "library": "var_list.py",
     "varRefreshCmd": "print(var_dic_list())"
    },
    "r": {
     "delete_cmd_postfix": ") ",
     "delete_cmd_prefix": "rm(",
     "library": "var_list.r",
     "varRefreshCmd": "cat(var_dic_list()) "
    }
   },
   "types_to_exclude": [
    "module",
    "function",
    "builtin_function_or_method",
    "instance",
    "_Feature"
   ],
   "window_display": false
  }
 },
 "nbformat": 4,
 "nbformat_minor": 4
}
