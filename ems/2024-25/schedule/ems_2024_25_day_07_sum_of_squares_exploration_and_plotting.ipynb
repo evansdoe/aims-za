{
 "cells": [
  {
   "cell_type": "markdown",
   "metadata": {},
   "source": [
    "<img src=\"./images/aims-za-logo.jpeg\" alt=\"drawing\" style=\"width:400px;\"/>\n",
    "<h1 style=\"text-align: center;\"><a title=\"EMS-AIMS-ZA-2024-25\" href=\"https://evansdoe.github.io/aims-za/ems/2024-25\">Experimental Mathematics Using SageMath — AIMS-ZA-2024-25</a></h1>\n",
    "\n",
    "\n",
    "## Instructors: \n",
    "\n",
    "\n",
    "* <a href=\"http://evansdoe.github.io\">**Evans Ocansey**</a>"
   ]
  },
  {
   "cell_type": "markdown",
   "metadata": {},
   "source": [
    "## Day 06 — New Experiments: Sum of Squares and Plotting <a class=\"anchor\" id=\"new-experiment-sum-of-squares-and-plotting\"></a>\n",
    "\n",
    "The outline of the this notebook is as follows:"
   ]
  },
  {
   "cell_type": "code",
   "execution_count": null,
   "metadata": {},
   "outputs": [],
   "source": []
  },
  {
   "cell_type": "markdown",
   "metadata": {},
   "source": [
    "## New Experiment — Sum of Squares <a class=\"anchor\" id=\"new-experiment-sum-of-squares\"></a>\n",
    "\n",
    "With that in mind, let's begin our next exploration. Hopefully you have had some fun experimenting with the condunctor problem. Today we will introduce a new problem to keep up the fun spirit of experimental mathematics. Namely, what numbers can be written in the form $n=a^2+b^2$?\n",
    "\n",
    "Here are a cases that do and do not work.\n",
    "\n",
    "   * $2 = 1^2+1^2$ works;\n",
    "   * $3$ does not work, since we only allow integers.  $1+1$ is too small, $1^2+2^2=5$ is too big;\n",
    "   * $4$ actually <em>does</em> work, because we allow $4 = 0^2+2^2$.  (That's just one of our rules; you could play a different game if you wanted.);\n",
    "   * That means $1=1^2+0^2$ works.\n",
    "   * $5$ works.\n",
    "And so forth. "
   ]
  },
  {
   "cell_type": "code",
   "execution_count": null,
   "metadata": {},
   "outputs": [],
   "source": []
  },
  {
   "cell_type": "markdown",
   "metadata": {},
   "source": [
    "### Students' conjectures <a class=\"anchor\" id=\"students-conjectures\"></a> \n",
    "\n",
    "The following conjectures were made by students in today's class after working with pens and papers to generate data and observing it.\n",
    "\n",
    "- If $n$ is odd, then the pair $(a,b)$ has one to be even and the other odd.\n",
    "- If $a$ and $b$ are both even, then $n$ is even and if $a$ and $b$ are both odd, then $n$ is even.\n",
    "- If $n=a^2+b^2$ for $a,b\\in\\mathbb{N}$ then $a,b\\leq\\sqrt{n}$.\n",
    "- If $n=a^2+b^2$ for $a,b\\in\\mathbb{N}$, then the maximum number of pairs $(a,b)$ for fixed $n$ is equal to 4.\n",
    "- If $n$ has 4 pairs of solution, then $n$ is a multiple of $5$.\n",
    "- If $n$ is prime and $n > 2$, then the number of $(a,b)$ is always $2$.\n",
    "- If $a=b$, $n=2a^2$ or $n=2b^2$. If a or b is equal to zero, then $n=a^2$ or $b^2$.\n",
    "- If $n$ is a perfect square, the number of $(a,b)$ is 2.\n",
    "- If $n$ is an odd prime and can be written as 1 mod 4, then it can be written as $a^2+b^2$."
   ]
  },
  {
   "cell_type": "code",
   "execution_count": null,
   "metadata": {},
   "outputs": [],
   "source": []
  },
  {
   "cell_type": "markdown",
   "metadata": {},
   "source": [
    "## Exploratory Questions — Sum of Squares <a class=\"anchor\" id=\"exploratory-questions-sum-of-squares\"></a>\n",
    "Can you think of questions that you can explore experimentally? Last Friday, we formulated the following questions. I also added extra questions.\n",
    "\n",
    "1. Which positive integers can be written as a sum of two squares?\n",
    "2. Which ones cannot be written?\n",
    "3. Are numbers that can be represented as a sum of two squares always odd or always even? Or do they vary?\n",
    "4. What are the sum of squares that are even or odd integers?\n",
    "5. Is the sum of squares of two numbers generally even or odd? What factors influence this?\n",
    "6. What are the sum of squares that are perfect squares? What is the probability that the sum of squares is a perfect square? When is this condition true?\n",
    "7. If $a$ is a factor of $b$, under what conditions is the sum of their squares a perfect square?\n",
    "8. Can either $a$ or $b$ be a factor of the sum of their squares?\n",
    "9. For which values of $a$ and $b$ is the sum of their squares a prime number?\n",
    "10. Can there be two or more distinct pairs of $a$ and $b$ that yield the same sum of squares? If so, what are these pairs?\n",
    "11. Is the sum of the squares of two consecutive integers always odd? If not, when does it differ?\n",
    "12. If $a$ and $b$ are both odd, is the sum of their squares odd or even?\n",
    "13. If $a$ is odd and $b$ is even, what is the sum of their squares?\n",
    "14. If $a$ is the only even prime (i.e., $2$) and $b$ is an odd prime, is the sum of their squares a prime number?\n",
    "15. Which numbers can be written as a sum of squares of two prime numbers?\n",
    "16. Which positive integers can be expressed as the sum of squares of their factors? Are there identifiable patterns?\n",
    "17. Given $a$ and $b$ are both prime, under what conditions is $a^2 + b^2$ also prime?\n",
    "18. Are there forms other than $x^2 + 0^2$ for representing a square root as a sum of squares?\n",
    "\n",
    "Each question could reveal patterns or conjectures. Let's proceed systematically as follows:\n",
    "\n",
    "   - **Identify** when the statement holds true or false.\n",
    "   - **Analyze patterns** in the results generated.\n",
    "   - **Make conjectures** about underlying rules or relationships based on observed patterns."
   ]
  },
  {
   "cell_type": "markdown",
   "metadata": {},
   "source": [
    "### Generate Sum of Squares Data <a class = \"anchor\" id=\"generate-sum-of-squares-data\"></a>"
   ]
  },
  {
   "cell_type": "code",
   "execution_count": 22,
   "metadata": {},
   "outputs": [],
   "source": [
    "def generate_sum_of_squares_data(\n",
    "    a_bound: int = 6,\n",
    "    b_bound: int = 6\n",
    ") -> dict[int, list[tuple[int, int]]]:\n",
    "    r\"\"\"Generates a database of integers as sums of two squares.\n",
    "\n",
    "    This function creates a dictionary where each key is an integer \n",
    "    that can be represented as the sum of squares of two non-negative \n",
    "    integers `a` and `b`, with `a` bounded by `a_bound` and `b` bounded \n",
    "    by `b_bound`. The dictionary is sorted by its keys in ascending order. \n",
    "    The value for each key is a list of tuples, each tuple representing \n",
    "    a unique pair `(a, b)` such that `n = a^2 + b^2`.\n",
    "\n",
    "    Args:\n",
    "        a_bound (int): The upper bound for the integer `a` (inclusive). Defaults to 6.\n",
    "        b_bound (int): The upper bound for the integer `b` (inclusive). Defaults to 6.\n",
    "\n",
    "    Returns:\n",
    "        dict[int, list[tuple[int, int]]]: A dictionary where each key is an integer \n",
    "        that can be written as `a^2 + b^2` for some integers `a` and `b` within \n",
    "        the specified bounds. The value for each key is a list of tuples, \n",
    "        each tuple being a pair `(a, b)` that satisfies the sum of squares condition.\n",
    "\n",
    "    \n",
    "    Example:\n",
    "        >>> generate_sum_of_squares_data(3, 3)\n",
    "        {0: [(0, 0)], 1: [(1, 0), (0, 1)], 2: [(1, 1)], 4: [(2, 0), (0, 2)], \n",
    "         5: [(2, 1), (1, 2)], 9: [(3, 0), (0, 3)], 10: [(3, 1), (1, 3)], 13: [(3, 2), (2, 3)]}\n",
    "    \"\"\"\n",
    "    \n",
    "    sum_of_squares_database = {}\n",
    "    for a in [0..a_bound]:\n",
    "        for b in [0..b_bound]:\n",
    "            n = a**2 + b**2\n",
    "            if n not in sum_of_squares_database:\n",
    "                sum_of_squares_database[n] = [(a, b)]\n",
    "            else:\n",
    "                sum_of_squares_database[n].append((a, b))\n",
    "    return dict(sorted(sum_of_squares_database.items()))"
   ]
  },
  {
   "cell_type": "code",
   "execution_count": null,
   "metadata": {},
   "outputs": [],
   "source": []
  },
  {
   "cell_type": "markdown",
   "metadata": {},
   "source": [
    "### Exploring Question 1 <a class=\"anchor\" id=\"exploring-question-01\"></a>\n",
    "\n",
    "**Question 1**\n",
    "Which positive integers can be written as a sum of two squares?"
   ]
  },
  {
   "cell_type": "code",
   "execution_count": null,
   "metadata": {},
   "outputs": [],
   "source": []
  },
  {
   "cell_type": "code",
   "execution_count": null,
   "metadata": {},
   "outputs": [],
   "source": []
  },
  {
   "cell_type": "code",
   "execution_count": null,
   "metadata": {},
   "outputs": [],
   "source": []
  },
  {
   "cell_type": "markdown",
   "metadata": {},
   "source": [
    "### Exploring Question 2 <a class=\"anchor\" id=\"exploring-question-02\"></a>\n",
    "\n",
    "**Question 2**\n",
    "Which ones cannot be written?"
   ]
  },
  {
   "cell_type": "code",
   "execution_count": null,
   "metadata": {},
   "outputs": [],
   "source": []
  },
  {
   "cell_type": "code",
   "execution_count": null,
   "metadata": {},
   "outputs": [],
   "source": []
  },
  {
   "cell_type": "code",
   "execution_count": null,
   "metadata": {},
   "outputs": [],
   "source": []
  },
  {
   "cell_type": "markdown",
   "metadata": {},
   "source": [
    "### Exploring Question 3 <a class=\"anchor\" id=\"exploring-question-03\"></a>\n",
    "\n",
    "**Question 3**\n",
    "Are numbers that can be represented as a sum of two squares always odd or always even? Or do they vary?"
   ]
  },
  {
   "cell_type": "code",
   "execution_count": null,
   "metadata": {},
   "outputs": [],
   "source": []
  },
  {
   "cell_type": "code",
   "execution_count": null,
   "metadata": {},
   "outputs": [],
   "source": []
  },
  {
   "cell_type": "code",
   "execution_count": null,
   "metadata": {},
   "outputs": [],
   "source": []
  },
  {
   "cell_type": "markdown",
   "metadata": {},
   "source": [
    "### Exploring Question 4 <a class=\"anchor\" id=\"exploring-question-04\"></a>\n",
    "\n",
    "**Question 4**\n",
    "\n",
    "What are the sum of squares that are even or odd integers?"
   ]
  },
  {
   "cell_type": "code",
   "execution_count": null,
   "metadata": {},
   "outputs": [],
   "source": []
  },
  {
   "cell_type": "code",
   "execution_count": null,
   "metadata": {},
   "outputs": [],
   "source": []
  },
  {
   "cell_type": "code",
   "execution_count": null,
   "metadata": {},
   "outputs": [],
   "source": []
  },
  {
   "cell_type": "markdown",
   "metadata": {},
   "source": [
    "### Exploring Question 5 <a class=\"anchor\" id=\"exploring-question-05\"></a>\n",
    "\n",
    "**Question 5**\n",
    "\n",
    "Is the sum of squares of two numbers generally even or odd? What factors influence this?"
   ]
  },
  {
   "cell_type": "code",
   "execution_count": null,
   "metadata": {},
   "outputs": [],
   "source": []
  },
  {
   "cell_type": "code",
   "execution_count": null,
   "metadata": {},
   "outputs": [],
   "source": []
  },
  {
   "cell_type": "code",
   "execution_count": null,
   "metadata": {},
   "outputs": [],
   "source": []
  },
  {
   "cell_type": "markdown",
   "metadata": {},
   "source": [
    "### Exploring Question 6 <a class=\"anchor\" id=\"exploring-question-06\"></a>\n",
    "\n",
    "**Question 6**\n",
    "\n",
    "What are the sum of squares that are perfect squares? What is the probability that the sum of squares is a perfect square? When is this condition true?"
   ]
  },
  {
   "cell_type": "code",
   "execution_count": null,
   "metadata": {},
   "outputs": [],
   "source": []
  },
  {
   "cell_type": "code",
   "execution_count": null,
   "metadata": {},
   "outputs": [],
   "source": []
  },
  {
   "cell_type": "code",
   "execution_count": null,
   "metadata": {},
   "outputs": [],
   "source": []
  },
  {
   "cell_type": "code",
   "execution_count": null,
   "metadata": {},
   "outputs": [],
   "source": []
  },
  {
   "cell_type": "markdown",
   "metadata": {},
   "source": [
    "### Exploring Question 7 <a class=\"anchor\" id=\"exploring-question-07\"></a>\n",
    "\n",
    "**Question 7**\n",
    "\n",
    "If $a$ is a factor of $b$, under what conditions is the sum of their squares a perfect square?"
   ]
  },
  {
   "cell_type": "code",
   "execution_count": null,
   "metadata": {},
   "outputs": [],
   "source": []
  },
  {
   "cell_type": "code",
   "execution_count": null,
   "metadata": {},
   "outputs": [],
   "source": []
  },
  {
   "cell_type": "code",
   "execution_count": null,
   "metadata": {},
   "outputs": [],
   "source": []
  },
  {
   "cell_type": "markdown",
   "metadata": {},
   "source": [
    "### Exploring Question 8 <a class=\"anchor\" id=\"exploring-question-08\"></a>\n",
    "\n",
    "**Question 8**\n",
    "\n",
    "Can either $a$ or $b$ be a factor of the sum of their squares?"
   ]
  },
  {
   "cell_type": "code",
   "execution_count": null,
   "metadata": {},
   "outputs": [],
   "source": []
  },
  {
   "cell_type": "code",
   "execution_count": null,
   "metadata": {},
   "outputs": [],
   "source": []
  },
  {
   "cell_type": "code",
   "execution_count": null,
   "metadata": {},
   "outputs": [],
   "source": []
  },
  {
   "cell_type": "markdown",
   "metadata": {},
   "source": [
    "### Exploring Question 9 <a class=\"anchor\" id=\"exploring-question-09\"></a>\n",
    "\n",
    "**Question 9**\n",
    "\n",
    "For which values of $a$ and $b$ is the sum of their squares a prime number?"
   ]
  },
  {
   "cell_type": "code",
   "execution_count": null,
   "metadata": {},
   "outputs": [],
   "source": []
  },
  {
   "cell_type": "code",
   "execution_count": null,
   "metadata": {},
   "outputs": [],
   "source": []
  },
  {
   "cell_type": "code",
   "execution_count": null,
   "metadata": {},
   "outputs": [],
   "source": []
  },
  {
   "cell_type": "markdown",
   "metadata": {},
   "source": [
    "### Exploring Question 10 <a class=\"anchor\" id=\"exploring-question-10\"></a>\n",
    "\n",
    "**Question 10**\n",
    "\n",
    "Can there be two or more distinct pairs of $a$ and $b$ that yield the same sum of squares? If so, what are these pairs?"
   ]
  },
  {
   "cell_type": "code",
   "execution_count": null,
   "metadata": {},
   "outputs": [],
   "source": []
  },
  {
   "cell_type": "code",
   "execution_count": null,
   "metadata": {},
   "outputs": [],
   "source": []
  },
  {
   "cell_type": "code",
   "execution_count": null,
   "metadata": {},
   "outputs": [],
   "source": []
  },
  {
   "cell_type": "markdown",
   "metadata": {},
   "source": [
    "### Exploring Question 11 <a class=\"anchor\" id=\"exploring-question-11\"></a>\n",
    "\n",
    "**Question 11**\n",
    "\n",
    "Is the sum of the squares of two consecutive integers always odd? If not, when does it differ?"
   ]
  },
  {
   "cell_type": "code",
   "execution_count": null,
   "metadata": {},
   "outputs": [],
   "source": []
  },
  {
   "cell_type": "code",
   "execution_count": null,
   "metadata": {},
   "outputs": [],
   "source": []
  },
  {
   "cell_type": "code",
   "execution_count": null,
   "metadata": {},
   "outputs": [],
   "source": []
  },
  {
   "cell_type": "markdown",
   "metadata": {},
   "source": [
    "### Exploring Question 12 <a class=\"anchor\" id=\"exploring-question-12\"></a>\n",
    "\n",
    "**Question 12**\n",
    "\n",
    "If $a$ and $b$ are both odd, is the sum of their squares odd or even?"
   ]
  },
  {
   "cell_type": "code",
   "execution_count": null,
   "metadata": {},
   "outputs": [],
   "source": []
  },
  {
   "cell_type": "code",
   "execution_count": null,
   "metadata": {},
   "outputs": [],
   "source": []
  },
  {
   "cell_type": "code",
   "execution_count": null,
   "metadata": {},
   "outputs": [],
   "source": []
  },
  {
   "cell_type": "markdown",
   "metadata": {},
   "source": [
    "### Exploring Question 13 <a class=\"anchor\" id=\"exploring-question-13\"></a>\n",
    "\n",
    "**Question 13**\n",
    "\n",
    "If $a$ is odd and $b$ is even, what is the sum of their squares?"
   ]
  },
  {
   "cell_type": "code",
   "execution_count": null,
   "metadata": {},
   "outputs": [],
   "source": []
  },
  {
   "cell_type": "code",
   "execution_count": null,
   "metadata": {},
   "outputs": [],
   "source": []
  },
  {
   "cell_type": "code",
   "execution_count": null,
   "metadata": {},
   "outputs": [],
   "source": []
  },
  {
   "cell_type": "markdown",
   "metadata": {},
   "source": [
    "### Exploring Question 14 <a class=\"anchor\" id=\"exploring-question-14\"></a>\n",
    "\n",
    "**Question 14**\n",
    "\n",
    "If $a$ is the only even prime (i.e., $2$) and $b$ is an odd prime, is the sum of their squares a prime number?"
   ]
  },
  {
   "cell_type": "code",
   "execution_count": null,
   "metadata": {},
   "outputs": [],
   "source": []
  },
  {
   "cell_type": "markdown",
   "metadata": {},
   "source": [
    "### Exploring Question 15 <a class=\"anchor\" id=\"exploring-question-15\"></a>\n",
    "\n",
    "**Question 15**\n",
    "\n",
    "Which numbers can be written as a sum of squares of two prime numbers?"
   ]
  },
  {
   "cell_type": "code",
   "execution_count": null,
   "metadata": {},
   "outputs": [],
   "source": []
  },
  {
   "cell_type": "code",
   "execution_count": null,
   "metadata": {},
   "outputs": [],
   "source": []
  },
  {
   "cell_type": "code",
   "execution_count": null,
   "metadata": {},
   "outputs": [],
   "source": []
  },
  {
   "cell_type": "code",
   "execution_count": null,
   "metadata": {},
   "outputs": [],
   "source": []
  },
  {
   "cell_type": "markdown",
   "metadata": {},
   "source": [
    "### Exploring Question 16 <a class=\"anchor\" id=\"exploring-question-16\"></a>\n",
    "\n",
    "**Question 16**\n",
    "\n",
    "Which positive integers can be expressed as the sum of squares of their factors? Are there identifiable patterns?"
   ]
  },
  {
   "cell_type": "code",
   "execution_count": null,
   "metadata": {},
   "outputs": [],
   "source": []
  },
  {
   "cell_type": "code",
   "execution_count": null,
   "metadata": {},
   "outputs": [],
   "source": []
  },
  {
   "cell_type": "code",
   "execution_count": null,
   "metadata": {},
   "outputs": [],
   "source": []
  },
  {
   "cell_type": "markdown",
   "metadata": {},
   "source": [
    "### Exploring Question 17 <a class=\"anchor\" id=\"exploring-question-17\"></a>\n",
    "\n",
    "**Question 17**\n",
    "\n",
    "Given $a$ and $b$ are both prime, under what conditions is $a^2 + b^2$ also prime?"
   ]
  },
  {
   "cell_type": "code",
   "execution_count": null,
   "metadata": {},
   "outputs": [],
   "source": []
  },
  {
   "cell_type": "code",
   "execution_count": null,
   "metadata": {},
   "outputs": [],
   "source": []
  },
  {
   "cell_type": "code",
   "execution_count": null,
   "metadata": {},
   "outputs": [],
   "source": []
  },
  {
   "cell_type": "markdown",
   "metadata": {},
   "source": [
    "### Exploring Question 18 <a class=\"anchor\" id=\"exploring-question-18\"></a>\n",
    "\n",
    "**Question 18**\n",
    "\n",
    "Are there forms other than $x^2 + 0^2$ for representing a square root as a sum of squares?"
   ]
  },
  {
   "cell_type": "code",
   "execution_count": null,
   "metadata": {},
   "outputs": [],
   "source": []
  },
  {
   "cell_type": "code",
   "execution_count": null,
   "metadata": {},
   "outputs": [],
   "source": []
  },
  {
   "cell_type": "code",
   "execution_count": null,
   "metadata": {},
   "outputs": [],
   "source": []
  },
  {
   "cell_type": "markdown",
   "metadata": {},
   "source": [
    "### Exploring Conjecture 1 <a class=\"anchor\" id=\"exploring-conjecture-01\"></a>\n",
    "**Conjecture 1**\n",
    "\n",
    "If $n$ is odd, then the pair $(a,b)$ has one to be even and the other odd."
   ]
  },
  {
   "cell_type": "code",
   "execution_count": null,
   "metadata": {},
   "outputs": [],
   "source": []
  },
  {
   "cell_type": "code",
   "execution_count": null,
   "metadata": {},
   "outputs": [],
   "source": []
  },
  {
   "cell_type": "code",
   "execution_count": null,
   "metadata": {},
   "outputs": [],
   "source": []
  },
  {
   "cell_type": "markdown",
   "metadata": {},
   "source": [
    "### Exploring Conjecture 2 <a class=\"anchor\" id=\"exploring-conjecture-02\"></a>\n",
    "\n",
    "**Conjecture 2**\n",
    "\n",
    "If $a$ and $b$ are both even, then $n$ is even and if $a$ and $b$ are both odd, then $n$ is even."
   ]
  },
  {
   "cell_type": "code",
   "execution_count": null,
   "metadata": {},
   "outputs": [],
   "source": []
  },
  {
   "cell_type": "code",
   "execution_count": null,
   "metadata": {},
   "outputs": [],
   "source": []
  },
  {
   "cell_type": "code",
   "execution_count": null,
   "metadata": {},
   "outputs": [],
   "source": []
  },
  {
   "cell_type": "markdown",
   "metadata": {},
   "source": [
    "### Exploring Conjecture 3 <a class=\"anchor\" id=\"exploring-conjecture-03\"></a>\n",
    "\n",
    "**Conjecture 3**\n",
    "\n",
    "If $n=a^2+b^2$ for $a,b\\in\\mathbb{N}$ then $a,b\\leq\\sqrt{n}$."
   ]
  },
  {
   "cell_type": "code",
   "execution_count": null,
   "metadata": {},
   "outputs": [],
   "source": []
  },
  {
   "cell_type": "code",
   "execution_count": null,
   "metadata": {},
   "outputs": [],
   "source": []
  },
  {
   "cell_type": "code",
   "execution_count": null,
   "metadata": {},
   "outputs": [],
   "source": []
  },
  {
   "cell_type": "markdown",
   "metadata": {},
   "source": [
    "### Exploring Conjecture 4 <a class=\"anchor\" id=\"exploring-conjecture-04\"></a>\n",
    "\n",
    "**Conjecture 4**\n",
    "\n",
    "If $n$ has 4 pairs of solution, then $n$ is a multiple of $5$."
   ]
  },
  {
   "cell_type": "code",
   "execution_count": null,
   "metadata": {},
   "outputs": [],
   "source": []
  },
  {
   "cell_type": "code",
   "execution_count": null,
   "metadata": {},
   "outputs": [],
   "source": []
  },
  {
   "cell_type": "code",
   "execution_count": null,
   "metadata": {},
   "outputs": [],
   "source": []
  },
  {
   "cell_type": "markdown",
   "metadata": {},
   "source": [
    "### Exploring Conjecture 5 <a class=\"anchor\" id=\"exploring-conjecture-05\"></a>\n",
    "\n",
    "**Conjecture 5**\n",
    "\n",
    "If $n$ has 4 pairs of solution, then $n$ is a multiple of $5$."
   ]
  },
  {
   "cell_type": "code",
   "execution_count": null,
   "metadata": {},
   "outputs": [],
   "source": []
  },
  {
   "cell_type": "code",
   "execution_count": null,
   "metadata": {},
   "outputs": [],
   "source": []
  },
  {
   "cell_type": "code",
   "execution_count": null,
   "metadata": {},
   "outputs": [],
   "source": []
  },
  {
   "cell_type": "markdown",
   "metadata": {},
   "source": [
    "### Exploring Conjecture 6 <a class=\"anchor\" id=\"exploring-conjecture-06\"></a>\n",
    "\n",
    "**Conjecture 6**\n",
    "\n",
    "If $n$ is prime and $n > 2$, then the number of $(a,b)$ is always $2$."
   ]
  },
  {
   "cell_type": "code",
   "execution_count": null,
   "metadata": {},
   "outputs": [],
   "source": []
  },
  {
   "cell_type": "code",
   "execution_count": null,
   "metadata": {},
   "outputs": [],
   "source": []
  },
  {
   "cell_type": "code",
   "execution_count": null,
   "metadata": {},
   "outputs": [],
   "source": []
  },
  {
   "cell_type": "markdown",
   "metadata": {},
   "source": [
    "### Exploring Conjecture 7 <a class=\"anchor\" id=\"exploring-conjecture-07\"></a>\n",
    "\n",
    "**Conjecture 7**\n",
    "\n",
    "If $a=b$, $n=2a^2$ or $n=2b^2$. If $a$ or $b$ is equal to zero, then $n=a^2$ or $b^2$."
   ]
  },
  {
   "cell_type": "code",
   "execution_count": null,
   "metadata": {},
   "outputs": [],
   "source": []
  },
  {
   "cell_type": "code",
   "execution_count": null,
   "metadata": {},
   "outputs": [],
   "source": []
  },
  {
   "cell_type": "code",
   "execution_count": null,
   "metadata": {},
   "outputs": [],
   "source": []
  },
  {
   "cell_type": "markdown",
   "metadata": {},
   "source": [
    "### Exploring Conjecture 8 <a class=\"anchor\" id=\"exploring-conjecture-08\"></a>\n",
    "\n",
    "**Conjecture 8**\n",
    "\n",
    "If $n$ is a perfect square, the number of $(a,b)$ is 2."
   ]
  },
  {
   "cell_type": "code",
   "execution_count": null,
   "metadata": {},
   "outputs": [],
   "source": []
  },
  {
   "cell_type": "code",
   "execution_count": null,
   "metadata": {},
   "outputs": [],
   "source": []
  },
  {
   "cell_type": "code",
   "execution_count": null,
   "metadata": {},
   "outputs": [],
   "source": []
  },
  {
   "cell_type": "markdown",
   "metadata": {},
   "source": [
    "### Exploring Conjecture 9 <a class=\"anchor\" id=\"exploring-conjecture-09\"></a>\n",
    "\n",
    "**Conjecture 9**\n",
    "\n",
    "If $n$ is an odd prime and can be written as $1\\, \\rm{mod}\\,4$, then it can be written as $a^2+b^2$."
   ]
  },
  {
   "cell_type": "code",
   "execution_count": null,
   "metadata": {},
   "outputs": [],
   "source": []
  },
  {
   "cell_type": "code",
   "execution_count": null,
   "metadata": {},
   "outputs": [],
   "source": []
  },
  {
   "cell_type": "code",
   "execution_count": null,
   "metadata": {},
   "outputs": [],
   "source": []
  },
  {
   "cell_type": "markdown",
   "metadata": {},
   "source": [
    "## Congruences <a class=\"anchor\" id=\"congruences\"></a>\n",
    "\n",
    "During yesterday's lecture, one of you made a conjecture involving modulo arithmetic. In order for us to understand this operation and how to use in Sage, I will briefly talk about it here. The operation has to do with divisibility and non-divisibility. \n",
    "\n",
    "To start, let's compute. What is the remainder of $25$ when divided by $6$? Do it by hand first.\n"
   ]
  },
  {
   "cell_type": "code",
   "execution_count": 12,
   "metadata": {},
   "outputs": [
    {
     "data": {
      "text/plain": [
       "1"
      ]
     },
     "execution_count": 12,
     "metadata": {},
     "output_type": "execute_result"
    }
   ],
   "source": [
    "mod(25, 6)"
   ]
  },
  {
   "cell_type": "markdown",
   "metadata": {},
   "source": [
    "From the division algorithm, we know that such a remainder is unique. If we divide $x$ by $m$, then $0 \\leq \\text{mod}(x, m) < m$.\n",
    "\n",
    "But lots and lots of different numbers can have the same remainder!\n"
   ]
  },
  {
   "cell_type": "code",
   "execution_count": 18,
   "metadata": {},
   "outputs": [
    {
     "data": {
      "text/plain": [
       "[1, 1, 1, 1, 1, 1, 1, 1, 1]"
      ]
     },
     "execution_count": 18,
     "metadata": {},
     "output_type": "execute_result"
    }
   ],
   "source": [
    "[mod(x,6) for x in [1, 7, 13, 19, 25, -5, -11, 6001, -17]]"
   ]
  },
  {
   "cell_type": "code",
   "execution_count": null,
   "metadata": {},
   "outputs": [],
   "source": []
  },
  {
   "cell_type": "markdown",
   "metadata": {},
   "source": [
    "In mathematics, what we often do in such a situation where structure is shared is to connect things with a *relation*.\n",
    "\n",
    "A relation is a very general notion, and basically it exists once you define it. Our relation will be called **congruence**, and it is massively important. It is also relatively new! We essentially use the same definitions and notation that Gauss came up with just two centuries ago.\n",
    "\n",
    "**Definition**: We say that $a$ is congruent to $b$ modulo $n$, or $a \\equiv b \\, ({\\rm mod} \\, n)$, precisely if $n \\mid (a - b)$.\n",
    "\n",
    "This is *exactly* the same thing as leaving the same remainder. It is very useful to try to prove that these conditions are the same.\n",
    "\n",
    "In our case, saying $25 \\equiv 1 \\equiv -5$ (mod $6$) is the same as saying $25 = 4 \\cdot 6 + 1$ and $1 = 0 \\cdot 6 + 1$ and $-5 = -1 \\cdot 6 + 1$.\n",
    "\n",
    "This idea gives us a *lot* of power. For instance, calculating $2^{1000000000}$ (mod 3) is instantaneous for me — it's 1!\n",
    "\n",
    "I can check it with Sage:\n"
   ]
  },
  {
   "cell_type": "code",
   "execution_count": 19,
   "metadata": {},
   "outputs": [
    {
     "name": "stdout",
     "output_type": "stream",
     "text": [
      "CPU times: user 27.8 ms, sys: 15.8 ms, total: 43.6 ms\n",
      "Wall time: 43.2 ms\n"
     ]
    },
    {
     "data": {
      "text/plain": [
       "1"
      ]
     },
     "execution_count": 19,
     "metadata": {},
     "output_type": "execute_result"
    }
   ],
   "source": [
    "time mod(2^1000000000,3)"
   ]
  },
  {
   "cell_type": "markdown",
   "metadata": {},
   "source": [
    "Yet I did it instantaneously in my head. Of course, the reason is not that I am clever, but that congruence can be turned into arithmetic! Here are two useful properties:\n",
    "\n",
    "- If $a \\equiv b$ (mod $m$), then $a + c \\equiv b + c$ (mod $m$).\n",
    "- If $a \\equiv b$ (mod $m$), then $ac \\equiv bc$ (mod $m$).\n",
    "\n",
    "Now I reveal my secret: $2 \\equiv -1$ (mod 3), and $(-1)^{1000000000} = 1$, like all even powers of negative one. Ta-dah!\n",
    "\n",
    "What I've done is *first* think of the original number as in the congruence, and then taken its power. Sage verifies this approach is much faster, even for much bigger powers.\n"
   ]
  },
  {
   "cell_type": "code",
   "execution_count": null,
   "metadata": {},
   "outputs": [],
   "source": []
  },
  {
   "cell_type": "markdown",
   "metadata": {},
   "source": [
    "What was computed above is not a trick; I definitely couldn't do $2000^{1000}$, or even $16^{1000}$, in my head.\n",
    "\n",
    "There is another set of properties that congruence has. Congruence is *reflexive, symmetric, and transitive*. That is, all the things you know are true about equality are also true about congruence (with a particular modulus $n$ picked, of course).\n",
    "\n",
    "- For any $a \\in \\mathbb{Z}$, $a \\equiv a$ (mod $n$).\n",
    "- If $a \\equiv b$ (mod $n$), then $b \\equiv a$ (mod $n$).\n",
    "- If it happens that *both* $a \\equiv b$ and $b \\equiv c$ (mod $n$), then $a \\equiv c$ (mod $n$) as well.\n",
    "\n",
    "If we combine all of these facts, it basically means we can divide up all the integers into \"equivalence classes.\" That is, $\\mathbb{Z}$ can be broken up into disjoint pieces which we are free to consider as units, and which stay different.\n",
    "\n",
    "We denote such a class by the notation \n",
    "\n",
    "$$[a] = \\{\\text{all numbers congruent to } a \\text{ modulo } n\\} \\; .$$ \n",
    "\n",
    "So, for instance, the equivalence class we started with is \n",
    "\n",
    "$$[1] = \\{1, 7, 13, 19, 25, -5, -11, 6001, \\ldots\\}$$ \n",
    "\n",
    "or perhaps better written as \n",
    "\n",
    "$$\\{1 + 6n \\mid n \\in \\mathbb{Z}\\} = [1] \\; .$$\n",
    "\n",
    "**Definition**: We call the set of equivalence classes modulo $n$ the *integers modulo n*, and denote them by $\\mathbb{Z}_n$.\n"
   ]
  },
  {
   "cell_type": "code",
   "execution_count": 20,
   "metadata": {},
   "outputs": [
    {
     "name": "stdout",
     "output_type": "stream",
     "text": [
      "CPU times: user 70.2 ms, sys: 53.1 ms, total: 123 ms\n",
      "Wall time: 123 ms\n"
     ]
    },
    {
     "data": {
      "text/plain": [
       "1"
      ]
     },
     "execution_count": 20,
     "metadata": {},
     "output_type": "execute_result"
    }
   ],
   "source": [
    "time mod(2^3000000000,7)"
   ]
  },
  {
   "cell_type": "code",
   "execution_count": 21,
   "metadata": {},
   "outputs": [
    {
     "name": "stdout",
     "output_type": "stream",
     "text": [
      "CPU times: user 55 µs, sys: 8 µs, total: 63 µs\n",
      "Wall time: 65.8 µs\n"
     ]
    },
    {
     "data": {
      "text/plain": [
       "1"
      ]
     },
     "execution_count": 21,
     "metadata": {},
     "output_type": "execute_result"
    }
   ],
   "source": [
    "time mod(2,7)^3000000000"
   ]
  },
  {
   "cell_type": "code",
   "execution_count": null,
   "metadata": {},
   "outputs": [],
   "source": []
  },
  {
   "cell_type": "code",
   "execution_count": null,
   "metadata": {},
   "outputs": [],
   "source": []
  },
  {
   "cell_type": "markdown",
   "metadata": {},
   "source": [
    "### More Sums of Squares <a class=\"anchor\" id=\"more-sum-of-squares\"></a>\n",
    "\n",
    "Last time, we spent a significant amount of time asking and trying to answer some questions about \n",
    "\n",
    "$$n = a^2 + b^2$$ \n",
    "\n",
    "Our final goal for today is to introduce so many questions that you could all pick a different one (perhaps using dicts to keep track of your data) and then to give significant time to explore some of them on your own.\n",
    "\n",
    "Here are some questions we asked last time.\n",
    "\n",
    "- Which positive integers can be written $n = a^2 + b^2$?\n",
    "- Which ones cannot be written this way?\n",
    "- Are there any special types of numbers that can be written? (Or that cannot?)\n",
    "  - Primes\n",
    "  - even/odd, modulo 3, modulo 4, modulo 5, ...\n",
    "  - squares, cubes, ...\n",
    "  - Combinations of the above\n",
    "- Can we get a formula for which numbers can be written?\n",
    "- How many ways can you write $n$ as a sum of two squares?\n",
    "\n",
    "**Surprise**: Each of these questions can be extended to a similar situation that might be entirely new!\n",
    "\n",
    "- Which positive integers can be written $n = a^2 + 2b^2$?\n",
    "  - (And in how many ways?)\n",
    "- Which positive integers can be written $n = a^2 + 3b^2$?\n",
    "  - (And in how many ways?)\n",
    "- (And so forth...)\n",
    "\n",
    "Or, we could go a different direction:\n",
    "\n",
    "- Which positive integers can be written $n = a^2 + ab + b^2$?\n",
    "  - (And in how many... you get the point.)\n",
    "- Which positive integers can be written $n = a^2 + 2ab + b^2$?\n",
    "- Which positive integers can be written $n = a^2 + 2ab + 2b^2$?\n",
    "- (And so forth...)\n",
    "\n",
    "These are **NOT** all equivalent questions! In fact, one of these three questions is nearly trivial, one is equivalent to another question, while a third is quite different. Which is which?\n",
    "\n",
    "Okay, keep experimenting!\n",
    "\n",
    "My number one advice to you is to think *small* when looking for patterns. Don't try to figure a whole question out! Ask questions about just the evens, or just another kind of number, or what happens when you add or multiply two numbers. I wish you well in your exploration!\n",
    "Finally structure your exploration just as I did for you. Give each exploration a heading so you do not get confuse.\n"
   ]
  },
  {
   "cell_type": "code",
   "execution_count": null,
   "metadata": {},
   "outputs": [],
   "source": []
  },
  {
   "cell_type": "code",
   "execution_count": null,
   "metadata": {},
   "outputs": [],
   "source": []
  },
  {
   "cell_type": "code",
   "execution_count": null,
   "metadata": {},
   "outputs": [],
   "source": []
  },
  {
   "cell_type": "markdown",
   "metadata": {},
   "source": [
    "Can you think of a way to solve this problem? _Hint: What do you know about equations of this form $n = a^{2} + b ^{2}$?_"
   ]
  },
  {
   "cell_type": "markdown",
   "metadata": {},
   "source": [
    "This brings up the question of how to do such plotting in the first place? We will look at this in more detail in the next [**Section**](#more-plotting-and-graphics-in-two-dimensions)."
   ]
  },
  {
   "cell_type": "markdown",
   "metadata": {},
   "source": [
    "## More Plotting and Graphics in Two Dimensions <a class = \"anchor\" id = \"more-plotting-and-graphics-in-two-dimensions\"></a>\n",
    "There is absolutely no way we could cover all the graphics in _SageMath_ (or the program that does it for _SageMath_, <a href=\"http://matplotlib.org/\" target=\"_blank\">matplotlib</a>) in one day, or even a week. We will look at a bunch of different resources you have access to, and see lots of different plot types. As we go through these resources, think of how they will be of use in solving our new experiment or where you could have used them some time back in your academic career. I definitely do not know everything about the plotting command. Nevertheless, you may interrupt me with your question so that we can explore the solution together. \n",
    "\n",
    "   * We will begin with the online documentation on [advanced 2D-plotting](https://doc.sagemath.org/html/en/prep/Advanced-2DPlotting.html) in the built-in live documentation. \n",
    "   * There are two very important pages with many, MANY examples - the documentation for [plot](http://www.sagemath.org/doc/reference/plotting/sage/plot/plot.html) and that for [showing graphics](http://www.sagemath.org/doc/reference/plotting/sage/plot/graphics.html#sage.plot.graphics.Graphics.show).\n",
    "   * The [general plotting reference](http://www.sagemath.org/doc/reference/plotting/index.html) - there are a lot of surprises, like animation, etc.\n",
    "\n",
    "Remember, you should feel free to stop listening for a while if you want to try something out!  \n",
    "Once we've seen enough examples, please either start using _SageMath_ to explore the sums of squares, _or_ try to recreate your favorite graphic using _SageMath_!"
   ]
  },
  {
   "cell_type": "code",
   "execution_count": null,
   "metadata": {},
   "outputs": [],
   "source": []
  }
 ],
 "metadata": {
  "kernelspec": {
   "display_name": "SageMath 10.4",
   "language": "sage",
   "name": "sagemath"
  },
  "language_info": {
   "codemirror_mode": {
    "name": "ipython",
    "version": 3
   },
   "file_extension": ".py",
   "mimetype": "text/x-python",
   "name": "python",
   "nbconvert_exporter": "python",
   "pygments_lexer": "ipython3",
   "version": "3.11.2"
  },
  "varInspector": {
   "cols": {
    "lenName": 16,
    "lenType": 16,
    "lenVar": 40
   },
   "kernels_config": {
    "python": {
     "delete_cmd_postfix": "",
     "delete_cmd_prefix": "del ",
     "library": "var_list.py",
     "varRefreshCmd": "print(var_dic_list())"
    },
    "r": {
     "delete_cmd_postfix": ") ",
     "delete_cmd_prefix": "rm(",
     "library": "var_list.r",
     "varRefreshCmd": "cat(var_dic_list()) "
    }
   },
   "types_to_exclude": [
    "module",
    "function",
    "builtin_function_or_method",
    "instance",
    "_Feature"
   ],
   "window_display": false
  }
 },
 "nbformat": 4,
 "nbformat_minor": 4
}
