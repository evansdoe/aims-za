{
 "cells": [
  {
   "cell_type": "markdown",
   "metadata": {},
   "source": [
    "<img src=\"./images/aims-za-logo.jpeg\" alt=\"drawing\" style=\"width:400px;\"/>\n",
    "<h1 style=\"text-align: center;\"><a title=\"EMS-AIMS-ZA-2024-25\" href=\"https://course-website\">Experimental Mathematics Using SageMath — AIMS-ZA-2024-25</a></h1>\n",
    "\n",
    "\n",
    "## Instructors: \n",
    "\n",
    "* <a href=\"http://evansdoe.github.io\">**Evans Ocansey**</a>"
   ]
  },
  {
   "cell_type": "markdown",
   "metadata": {},
   "source": [
    "## Day 10 — More on Pieces of Numbers <a class=\"anchor\" id=\"more-on-pieces-of-numbers\"></a>\n",
    "\n",
    "\n"
   ]
  },
  {
   "cell_type": "markdown",
   "metadata": {},
   "source": [
    "The outline of the this notebook is as follows:\n",
    "\n",
    "## Table of Contents: <a class=\"anchor\" id=\"day-10-toc\"></a> \n",
    "* [ ] [<font color=blue>Recall from last lecture</font>](#recall-from-last-lecture)\n",
    "* [ ] [<font color=blue>The Partition Class — Using Keywords</font>](#the-partition-class-using-keywords)\n",
    "  * [<font color=blue>Keyword — max_slope</font>](#keyword-max-slope)\n",
    "  * [<font color=blue>Keyword — parts_in</font>](#keyword-parts-in)\n",
    "  * [<font color=blue>Keyword — min_length</font>](#keyword-min-length)\n",
    "  * [<font color=blue>Keyword — min_part</font>](#keyword-min-part)\n",
    "  * [<font color=blue>Keyword — length</font>](#keyword-length)\n",
    "* [ ] [<font color=blue>Statements to Explore</font>](#statements-to-explore) \n",
    "  *\t[<font color=blue>Statement 1 — Odd Parts</font>](#statement-1-odd-parts)\n",
    "  *\t[<font color=blue>Statement 2 — Even Parts</font>](#statement-2-even-parts)\n",
    "  *\t[<font color=blue>Statement 3 — Distinct Parts</font>](#statement-3-distinct-parts)\n",
    "  *\t[<font color=blue>Statement 4 — Distinct Odd Parts</font>](#statement-4-distinct-odd-parts)\n",
    "  *\t[<font color=blue>Statement 5 — Parts Modulo 3</font>](#statement-5-parts-modulo-3)\n",
    "  *\t[<font color=blue>Statement 6 — Parts Modulo 5</font>](#statement-6-parts-modulo-5)\n",
    "  *\t[<font color=blue>Statement 7 — Powers of 2</font>](#statement-7-powers-of-2)\n",
    "  *\t[<font color=blue>Statement 8 — Parts at most k</font>](#statement-8-parts-at-most-k)\n",
    "  *\t[<font color=blue>Statement 9 — Self Conjugate</font>](#statement-9-self-conjugate)\n",
    "  *\t[<font color=blue>Statement 10 — Biggest part is $k$</font>](#statement-10-biggest-part-is-k)\n",
    "  *\t[<font color=blue>Statement 11 — Exactly $k$ parts</font>](#statement-11-exactly-k-parts)\n",
    "  *\t[<font color=blue>Statement 12 — Each part occurs at most twice</font>](#statement-12-each-part-occurs-at-most-twice)\n",
    "  *\t[<font color=blue>Statement 13 — Difference between parts is at least $k$</font>](#statement-13-difference-between-parts-is-at-least-k)\n",
    "  *\t[<font color=blue>Statement 14 — Prime parts</font>](#statement-14-prime-parts)\n",
    "  *\t[<font color=blue>Statement 15 — At least $k$ odd parts</font>](#statement-15-at-least-k-odd-parts)\n",
    "  *\t[<font color=blue>Statement 16 — At least $k$ even parts</font>](#statement-16-at-least-k-even-parts)\n",
    "  *\t[<font color=blue>Statement 17 — Even multiplicity of each part</font>](#statement-17-even-multiplicity)\n",
    "  *\t[<font color=blue>Statement 18 — Number of $k$ parts</font>](#statement-18-number-of-k-parts)\n",
    "  *\t[<font color=blue>Statement 19 — Perfect square relation</font>](#statement-19-perfect-square-relation)\n",
    "  *\t[<font color=blue>Statement 20 — Armstrong Numbers</font>](#statement-20-armstrong-numbers)\n",
    "  *\t[<font color=blue>Statement 21 — Product equals $n$</font>](#statement-21-product-equals-n)\n",
    "  *\t[<font color=blue>Statement 22 — Distribution</font>](#statement-22-distribution)\n",
    "  *\t[<font color=blue>Statement 23 — Partition Formula</font>](#statement-23-partition-formula)\n",
    "* [ ] [<font color=blue>Modulo</font>](#modulo) \n",
    "* [ ] [<font color=blue>Geometric Representation</font>](#geometric-representation)\n",
    "* [ ] [<font color=blue>Conjectures</font>](#conjectures) \n",
    "  * [<font color=blue>Exploring Conjecture 1</font>](#exploring-conjecture-1)\n",
    "  * [<font color=blue>Exploring Conjecture 2</font>](#exploring-conjecture-2)\n",
    "  * [<font color=blue>Exploring Conjecture 3</font>](#exploring-conjecture-3)\n",
    "* [ ] [<font color=blue>Sage Interact Quickstart</font>](#sage-interact-quickstart)\n",
    "  * [<font color=blue>Start with just one command</font>](#start-with-just-one-command)\n",
    "  * [<font color=blue>Adding Complexity</font>](#adding-complexity)\n",
    "  * [<font color=blue>Control Types</font>](#control-types)"
   ]
  },
  {
   "cell_type": "markdown",
   "metadata": {},
   "source": [
    "## Recall from last lecture <a class=\"anchor\" id=\"recall-from-last-lecture\"></a>\n",
    "\n",
    "In yesterday's lecture, we looked at the number of integer partitions $p(n)$ of an positive integer $n$. \n",
    "\n",
    "**Definition**: A parition of $n$ is defined as a representation of $n$ as a sum of positive integers, called summands or parts of the partition. The order of the summands is irrelevant."
   ]
  },
  {
   "cell_type": "markdown",
   "metadata": {},
   "source": [
    "Let's remind ourselves of the `Partitions` class and get ourselves familiar with the keywords. They will be of help in our exploration."
   ]
  },
  {
   "cell_type": "code",
   "execution_count": null,
   "metadata": {},
   "outputs": [],
   "source": [
    "Partitions?"
   ]
  },
  {
   "cell_type": "markdown",
   "metadata": {},
   "source": [
    "How will you define partitions of $8$?"
   ]
  },
  {
   "cell_type": "code",
   "execution_count": null,
   "metadata": {},
   "outputs": [],
   "source": [
    "all_partitions_of_eight = Partitions(8); all_partitions_of_eight"
   ]
  },
  {
   "cell_type": "markdown",
   "metadata": {},
   "source": [
    "<p>With the <span id=\"cell_outer_34\"><code class=\"docutils literal\"><span class=\"pre\">list</span></code></span> method, I can list all the partitions of $8$ by doing the following</p>"
   ]
  },
  {
   "cell_type": "code",
   "execution_count": null,
   "metadata": {},
   "outputs": [],
   "source": [
    "all_partitions_of_eight.list()"
   ]
  },
  {
   "cell_type": "markdown",
   "metadata": {},
   "source": [
    "Define partitions of $5$ and list all the partitions."
   ]
  },
  {
   "cell_type": "code",
   "execution_count": null,
   "metadata": {},
   "outputs": [],
   "source": [
    "all_partitions_of_5"
   ]
  },
  {
   "cell_type": "markdown",
   "metadata": {},
   "source": [
    "## The Partition Class — Using Keywords <a class=\"anchor\" id=\"the-partition-class-using-keywords\"></a>\n",
    "\n",
    "As you have observed after reading the documentation, the `Partitions` class has keywords that could make our exploration easier. They are the following:\n",
    "\n",
    "- `starting`\n",
    "- `ending`\n",
    "- `min_part`\n",
    "- `max_part`\n",
    "- `max_length`\n",
    "- `min_length`\n",
    "- `length`\n",
    "- `max_slope`\n",
    "- `min_slope`\n",
    "- `inner`\n",
    "- `outer`\n",
    "- `parts_in`\n",
    "- `regular`\n",
    "- `restricted`\n",
    "\n",
    "You should have explored with these keywords. If not, try and pair with someone who has not and work together to understand them. They will be useful in the exploration.\n",
    "\n",
    "\n",
    "I will explore a few of them."
   ]
  },
  {
   "cell_type": "markdown",
   "metadata": {},
   "source": [
    "### Keyword — max_slope <a class=\"anchor\" id=\"keyword-max-slope\"></a>\n",
    "\n",
    "Using `max_slope=-1` I can produce all partitions of an $n$ into distinct parts; that is, each part differs from the next by at least 1. Use a different `max_slope` to get parts that differ by, say, $2$. I want to know all the partitions of $8$ with distinct parts."
   ]
  },
  {
   "cell_type": "code",
   "execution_count": null,
   "metadata": {},
   "outputs": [],
   "source": [
    "list(Partitions(8, max_slope = -1))"
   ]
  },
  {
   "cell_type": "markdown",
   "metadata": {},
   "source": [
    "<p>Do same for partitions of $5$.</p>"
   ]
  },
  {
   "cell_type": "code",
   "execution_count": null,
   "metadata": {},
   "outputs": [],
   "source": []
  },
  {
   "cell_type": "markdown",
   "metadata": {},
   "source": [
    "### Keyword — parts_in <a class=\"anchor\" id=\"keyword-parts-in\"></a>\n",
    "\n",
    "How about if I want to list all partitions of $n$ with either odd or even parts? I can do that with the `parts_in` option."
   ]
  },
  {
   "cell_type": "code",
   "execution_count": null,
   "metadata": {},
   "outputs": [],
   "source": [
    "list(Partitions(8, parts_in = [2,4..8])) # all partitions of eight with even parts"
   ]
  },
  {
   "cell_type": "markdown",
   "metadata": {},
   "source": [
    "<p>List all the partitions of $5$ with odd parts.</p>"
   ]
  },
  {
   "cell_type": "code",
   "execution_count": null,
   "metadata": {},
   "outputs": [],
   "source": []
  },
  {
   "cell_type": "markdown",
   "metadata": {},
   "source": [
    "With the `cardinality` method I can compute the number of such partitions."
   ]
  },
  {
   "cell_type": "code",
   "execution_count": null,
   "metadata": {},
   "outputs": [],
   "source": [
    "Partitions(8, parts_in = [2,4..8]).cardinality()"
   ]
  },
  {
   "cell_type": "markdown",
   "metadata": {},
   "source": [
    "<p>How many partitions of $5$ with old parts are there?</p>"
   ]
  },
  {
   "cell_type": "code",
   "execution_count": null,
   "metadata": {},
   "outputs": [],
   "source": []
  },
  {
   "cell_type": "markdown",
   "metadata": {},
   "source": [
    "### Keyword — min_length <a class=\"anchor\" id=\"keyword-min_length\"></a>\n",
    "\n",
    "With `min_length=k`, I can get those partitions that have at least $k$ parts. Let's list all partitions of $8$ with at least $4$ parts and compute its cardinality."
   ]
  },
  {
   "cell_type": "code",
   "execution_count": null,
   "metadata": {},
   "outputs": [],
   "source": [
    "Partitions(8, min_length=4).list()"
   ]
  },
  {
   "cell_type": "code",
   "execution_count": null,
   "metadata": {},
   "outputs": [],
   "source": [
    "len(Partitions(8, min_length=4).list())"
   ]
  },
  {
   "cell_type": "markdown",
   "metadata": {},
   "source": [
    "<p>List all the partitions of $5$ with at least $2$ parts and compute its cardinality.</p>"
   ]
  },
  {
   "cell_type": "code",
   "execution_count": null,
   "metadata": {},
   "outputs": [],
   "source": []
  },
  {
   "cell_type": "markdown",
   "metadata": {},
   "source": [
    "### Keyword — min_part <a class=\"anchor\" id=\"keyword-min-part\"></a>\n",
    "\n",
    "We can also list all the partitions of $n$ with parts that are at least $k$ with `min_part=k`. That is, those partitions of $n$ whose parts are all greater than or equal to $k$.  \n",
    "\n",
    "Let's list all the partitions of $8$ with parts that are at least $3$ and find its cardinality."
   ]
  },
  {
   "cell_type": "code",
   "execution_count": null,
   "metadata": {},
   "outputs": [],
   "source": [
    "Partitions(8, min_part=3).list()"
   ]
  },
  {
   "cell_type": "code",
   "execution_count": null,
   "metadata": {},
   "outputs": [],
   "source": [
    "Partitions(8, min_part=3).cardinality()"
   ]
  },
  {
   "cell_type": "markdown",
   "metadata": {},
   "source": [
    "<p>List all the partitions of $5$ with parts that are at least $2$ and find its cardinality.</p>"
   ]
  },
  {
   "cell_type": "code",
   "execution_count": null,
   "metadata": {},
   "outputs": [],
   "source": []
  },
  {
   "cell_type": "markdown",
   "metadata": {},
   "source": [
    "### Keyword — length <a class=\"anchor\" id=\"keyword-length\"></a>\n",
    "\n",
    "What if I want the number of partitions of $n$ with exactly $k$ parts? We can do this with the `length` option. For example, let us find the number of partitions of $8$ with exactly $3$ parts and list them."
   ]
  },
  {
   "cell_type": "code",
   "execution_count": null,
   "metadata": {},
   "outputs": [],
   "source": [
    "Partitions(8, length=3).cardinality()"
   ]
  },
  {
   "cell_type": "code",
   "execution_count": null,
   "metadata": {},
   "outputs": [],
   "source": [
    "Partitions(8, length=3).list()"
   ]
  },
  {
   "cell_type": "markdown",
   "metadata": {},
   "source": [
    "<p>Now find the number of partitions of $5$ with exactly $3$ parts and list them.</p>"
   ]
  },
  {
   "cell_type": "code",
   "execution_count": null,
   "metadata": {},
   "outputs": [],
   "source": []
  },
  {
   "cell_type": "markdown",
   "metadata": {},
   "source": [
    "### Combining keywords <a class=\"anchor\" id=\"combining-keywords\"></a>\n",
    "\n",
    "We can even combine all these options. Say for example we want to list all the partitions of $10$ with exactly $3$ parts such that these parts are at least $2$."
   ]
  },
  {
   "cell_type": "code",
   "execution_count": null,
   "metadata": {},
   "outputs": [],
   "source": [
    "Partitions(10, min_part=2, length=3).list()"
   ]
  },
  {
   "cell_type": "markdown",
   "metadata": {},
   "source": [
    "<p>List all the partitions of $15$ with exactly $4$ parts such that these parts are at least $5$.</p>"
   ]
  },
  {
   "cell_type": "code",
   "execution_count": null,
   "metadata": {},
   "outputs": [],
   "source": []
  },
  {
   "cell_type": "code",
   "execution_count": null,
   "metadata": {},
   "outputs": [],
   "source": []
  },
  {
   "cell_type": "markdown",
   "metadata": {},
   "source": [
    "## Statements to Explore <a class=\"anchor\" id=\"statements-to-explore\"></a>\n",
    "\n",
    "Now let us use these tools to explore potential relationships between the partitions of numbers and, if possible, make conjectures and attempt to prove them. In your explorations, utilize all the programming tools you have learned. Below are some statements to investigate:\n",
    "\n",
    "\n",
    "1. **Odd Parts**: The number of partitions of $n$ where all parts are odd, denoted $p(n\\,|\\,\\text{odd parts})$.\n",
    "   \n",
    "2. **Even Parts**: The number of partitions of $n$ where all parts are even, denoted $p(n\\,|\\,\\text{even parts})$.\n",
    "3. **Distinct Parts**: The number of partitions of $n$ where all parts are distinct, denoted $p(n\\,|\\,\\text{distinct parts})$.\n",
    "4. **Distinct Odd Parts**: The number of partitions of $n$ where all parts are both odd and distinct, denoted $p(n\\,|\\,\\text{distinct odd parts})$.\n",
    "5. **Parts Modulo 3**: The number of partitions of $n$ where all parts satisfy $ \\text{part} \\equiv \\pm 1 \\bmod 3$, denoted $p(n\\,|\\,\\text{all parts} \\equiv \\pm 1 \\bmod 3)$.\n",
    "6. **Parts Modulo 5**: The number of partitions of $n$ where all parts satisfy $ \\text{part} \\equiv \\pm 1 \\bmod 5$, denoted $p(n\\,|\\,\\text{all parts} \\equiv \\pm 1 \\bmod 5)$.\n",
    "7. **Powers of 2**: The number of partitions of $n$ where all parts are powers of $2$, denoted $p(n\\,|\\,\\text{all parts are powers of } 2)$.\n",
    "8. **Parts at Most 2**: The number of partitions of $n$ where all parts are at most $2$, denoted $p(n\\,|\\,\\text{all parts are at most } 2)$.\n",
    "9. **Self-Conjugate**: The number of self-conjugate partitions of $n$, denoted $p(n\\,|\\,\\text{self-conjugate})$.\n",
    "10. **Parts at Most $k$**: The number of partitions of $n$ where all parts are at most $k$, for a fixed $k \\geq 1$, denoted $p(n\\,|\\,\\text{all parts are at most } k)$.\n",
    "11. **Biggest Part is $k$**: The number of partitions of $n$ where the largest part is exactly $k$, for a fixed $k \\geq 1$, denoted $p(n\\,|\\,\\text{the biggest part is } k)$.\n",
    "12. **Exactly $k$ Parts**: The number of partitions of $n$ with exactly $k$ parts, for a fixed $k \\geq 1$, denoted $p(n\\,|\\,\\text{there are exactly } k \\text{ parts})$.\n",
    "13. **Each Part Occurs at Most Twice**: The number of partitions of $n$ where each part occurs at most twice, denoted $p(n\\,|\\,\\text{each part occurs at most twice})$.\n",
    "14. **At Most $k$ Parts**: The number of partitions of $n$ with at most $k$ parts, for a fixed $k \\geq 1$, denoted $p(n\\,|\\,\\text{there are at most } k \\text{ parts})$.\n",
    "15. **Difference Between Parts is At Least 2**: The number of partitions of $n$ where the difference between any two parts is at least $2$, denoted $p(n\\,|\\,\\text{the difference between any two parts is at least } 2)$.\n",
    "16. **Prime Parts**: The number of partitions of $n$ where all parts are prime numbers, denoted $p(n\\,|\\,\\text{prime parts})$.\n",
    "17. **At Least One Odd Part**: The number of partitions of $n$ that include at least one odd part, denoted $p(n\\,|\\,\\text{at least one odd part})$.\n",
    "18. **At Least One Even Part**: The number of partitions of $n$ that include at least one even part, denoted $p(n\\,|\\,\\text{at least one even part})$.\n",
    "19. **Even Multiplicity of Each Part**: The number of partitions of $n$ where each part appears an even number of times, denoted $p(n\\,|\\,\\text{even number of each part})$.\n",
    "20. **Number of $k$ parts**: For each partition of $n$, how many times does the part $k$ appear in each partition?\n",
    "21. **Perfect Square Relation**: Given that $p$ is a perfect square, $p = n^2$ for some integer $n$, investigate whether there is a relationship between the number of partitions of $p$ and the number of partitions of $n$.\n",
    "22. **Armstrong Numbers**: Determine the number of partitions of $n$ when $n$ is an Armstrong number. ([See the definition of Armstrong numbers](http://mathworld.wolfram.com/NarcissisticNumber.html)).\n",
    "23. **Product of Parts Equals $n$**: The number of partitions of $n$ where the product of all parts equals $n$, denoted $p(n\\,|\\,\\text{product of parts is } n)$.\n",
    "24. **Distribution**: Is there a distribution governing the number of partitions of $n$? If so, determine and describe it.\n",
    "25. **Partition Formula**: Is there a general formula for computing the number of partitions of $n$? If so, find and verify it.\n",
    "\n",
    "\n",
    "### Goal:\n",
    "Explore these statements to uncover possible relationships, distributions, or hidden structures in integer partitions. Analyze and document your findings for further study or conjecture validation.\n"
   ]
  },
  {
   "cell_type": "code",
   "execution_count": null,
   "metadata": {},
   "outputs": [],
   "source": []
  },
  {
   "cell_type": "code",
   "execution_count": null,
   "metadata": {},
   "outputs": [],
   "source": []
  },
  {
   "cell_type": "markdown",
   "metadata": {},
   "source": [
    "### Statement 1 — Odd Parts <a class=\"anchor\" id=\"statement-1-odd-parts\"></a>\n",
    "\n",
    "The number of partitions of $n$ where all parts are odd, denoted $p(n\\,|\\,\\text{odd parts})$."
   ]
  },
  {
   "cell_type": "code",
   "execution_count": null,
   "metadata": {},
   "outputs": [],
   "source": []
  },
  {
   "cell_type": "code",
   "execution_count": null,
   "metadata": {},
   "outputs": [],
   "source": []
  },
  {
   "cell_type": "markdown",
   "metadata": {},
   "source": [
    "### Statement 2 — Even Parts <a class=\"anchor\" id=\"statement-2-even-parts\"></a>\n",
    "\n",
    "The number of partitions of $n$ where all parts are even, denoted $p(n\\,|\\,\\text{even parts})$"
   ]
  },
  {
   "cell_type": "code",
   "execution_count": null,
   "metadata": {},
   "outputs": [],
   "source": []
  },
  {
   "cell_type": "code",
   "execution_count": null,
   "metadata": {},
   "outputs": [],
   "source": []
  },
  {
   "cell_type": "markdown",
   "metadata": {},
   "source": [
    "### Statement 3 — Distinct Parts <a class=\"anchor\" id=\"statement-3-distinct-parts\"></a>\n",
    "\n",
    "The number of partitions of $n$ where all parts are distinct, denoted $p(n\\,|\\,\\text{distinct parts})$."
   ]
  },
  {
   "cell_type": "code",
   "execution_count": null,
   "metadata": {},
   "outputs": [],
   "source": []
  },
  {
   "cell_type": "code",
   "execution_count": null,
   "metadata": {},
   "outputs": [],
   "source": []
  },
  {
   "cell_type": "markdown",
   "metadata": {},
   "source": [
    "### Statement 4 — Distinct Odd Parts <a class=\"anchor\" id=\"statement-4-distinct-odd-parts\"></a>\n",
    "\n",
    "The number of partitions of $n$ where all parts are both odd and distinct, denoted $p(n\\,|\\,\\text{distinct odd parts})$."
   ]
  },
  {
   "cell_type": "code",
   "execution_count": null,
   "metadata": {},
   "outputs": [],
   "source": []
  },
  {
   "cell_type": "code",
   "execution_count": null,
   "metadata": {},
   "outputs": [],
   "source": []
  },
  {
   "cell_type": "markdown",
   "metadata": {},
   "source": [
    "### Statement 5 — Parts Modulo 3 <a class=\"anchor\" id=\"statement-5-parts-modulo-3\"></a>\n",
    "\n",
    "The number of partitions of $n$ where all parts satisfy $ \\text{part} \\equiv \\pm 1 \\bmod 3$, denoted $p(n\\,|\\,\\text{all parts} \\equiv \\pm 1 \\bmod 3)$."
   ]
  },
  {
   "cell_type": "code",
   "execution_count": null,
   "metadata": {},
   "outputs": [],
   "source": []
  },
  {
   "cell_type": "code",
   "execution_count": null,
   "metadata": {},
   "outputs": [],
   "source": []
  },
  {
   "cell_type": "markdown",
   "metadata": {},
   "source": [
    "### Statement 6 — Parts Modulo 5 <a class=\"anchor\" id=\"statement-6-parts-modulo-5\"></a>\n",
    "\n",
    "The number of partitions of $n$ where all parts satisfy $ \\text{part} \\equiv \\pm 1 \\bmod 5$, denoted $p(n\\,|\\,\\text{all parts} \\equiv \\pm 1 \\bmod 5)$."
   ]
  },
  {
   "cell_type": "code",
   "execution_count": null,
   "metadata": {},
   "outputs": [],
   "source": []
  },
  {
   "cell_type": "code",
   "execution_count": null,
   "metadata": {},
   "outputs": [],
   "source": []
  },
  {
   "cell_type": "markdown",
   "metadata": {},
   "source": [
    "### Statement 7 — Powers of 2 <a class=\"anchor\" id=\"statement-7-powers-of-2\"></a>\n",
    "\n",
    "The number of partitions of $n$ where all parts are powers of $2$, denoted $p(n\\,|\\,\\text{all parts are powers of } 2)$."
   ]
  },
  {
   "cell_type": "code",
   "execution_count": null,
   "metadata": {},
   "outputs": [],
   "source": []
  },
  {
   "cell_type": "code",
   "execution_count": null,
   "metadata": {},
   "outputs": [],
   "source": []
  },
  {
   "cell_type": "markdown",
   "metadata": {},
   "source": [
    "### Statement 8 — Parts at most $k$ <a class=\"anchor\" id=\"statement-8-parts-at-most-k\"></a>\n",
    "\n",
    "The number of partitions of $n$ where all parts are at most $k$, for a fixed $k \\geq 1$, denoted $p(n\\,|\\,\\text{all parts are at most } k)$."
   ]
  },
  {
   "cell_type": "code",
   "execution_count": null,
   "metadata": {},
   "outputs": [],
   "source": []
  },
  {
   "cell_type": "code",
   "execution_count": null,
   "metadata": {},
   "outputs": [],
   "source": []
  },
  {
   "cell_type": "markdown",
   "metadata": {},
   "source": [
    "### Statement 9 — Self-Conjugate <a class=\"anchor\" id=\"statement-9-self-conjugate\"></a>\n",
    "\n",
    "The number of self-conjugate partitions of $n$, denoted $p(n\\,|\\,\\text{self-conjugate})$."
   ]
  },
  {
   "cell_type": "code",
   "execution_count": null,
   "metadata": {},
   "outputs": [],
   "source": []
  },
  {
   "cell_type": "code",
   "execution_count": null,
   "metadata": {},
   "outputs": [],
   "source": []
  },
  {
   "cell_type": "markdown",
   "metadata": {},
   "source": [
    "### Statement 10 — Biggest part is $k$<a class=\"anchor\" id=\"statement-10-biggest-part-is-k\"></a>\n",
    "\n",
    "The number of partitions of $n$ where the largest part is exactly $k$, for a fixed $k \\geq 1$, denoted $p(n\\,|\\,\\text{the biggest part is } k)$."
   ]
  },
  {
   "cell_type": "code",
   "execution_count": null,
   "metadata": {},
   "outputs": [],
   "source": []
  },
  {
   "cell_type": "code",
   "execution_count": null,
   "metadata": {},
   "outputs": [],
   "source": []
  },
  {
   "cell_type": "markdown",
   "metadata": {},
   "source": [
    "### Statement 11 — Exactly $k$ parts<a class=\"anchor\" id=\"statement-11-exactly-k-parts\"></a>\n",
    "\n",
    "The number of partitions of $n$ with exactly $k$ parts, for a fixed $k \\geq 1$, denoted $p(n\\,|\\,\\text{there are exactly } k \\text{ parts})$."
   ]
  },
  {
   "cell_type": "code",
   "execution_count": null,
   "metadata": {},
   "outputs": [],
   "source": []
  },
  {
   "cell_type": "code",
   "execution_count": null,
   "metadata": {},
   "outputs": [],
   "source": []
  },
  {
   "cell_type": "markdown",
   "metadata": {},
   "source": [
    "### Statement 12 — Each part occurs at most twice<a class=\"anchor\" id=\"statement-12-each-part-occurs-at-most-twice\"></a>\n",
    "\n",
    "The number of partitions of $n$ where each part occurs at most twice, denoted $p(n\\,|\\,\\text{each part occurs at most twice})$."
   ]
  },
  {
   "cell_type": "code",
   "execution_count": null,
   "metadata": {},
   "outputs": [],
   "source": []
  },
  {
   "cell_type": "code",
   "execution_count": null,
   "metadata": {},
   "outputs": [],
   "source": []
  },
  {
   "cell_type": "markdown",
   "metadata": {},
   "source": [
    "### Statement 13 — Difference between parts is at least $k$<a class=\"anchor\" id=\"statement-13-difference-between-parts-is-at-least-k\"></a>\n",
    "\n",
    "The number of partitions of $n$ where the difference between any two parts is at least $2$, denoted $p(n\\,|\\,\\text{the difference between any two parts is at least } k)$."
   ]
  },
  {
   "cell_type": "code",
   "execution_count": null,
   "metadata": {},
   "outputs": [],
   "source": []
  },
  {
   "cell_type": "code",
   "execution_count": null,
   "metadata": {},
   "outputs": [],
   "source": []
  },
  {
   "cell_type": "markdown",
   "metadata": {},
   "source": [
    "### Statement 14 — Prime parts<a class=\"anchor\" id=\"statement-14-prime-parts\"></a>\n",
    "\n",
    "The number of partitions of $n$ where all parts are prime numbers, denoted $p(n\\,|\\,\\text{prime parts})$."
   ]
  },
  {
   "cell_type": "code",
   "execution_count": null,
   "metadata": {},
   "outputs": [],
   "source": []
  },
  {
   "cell_type": "code",
   "execution_count": null,
   "metadata": {},
   "outputs": [],
   "source": []
  },
  {
   "cell_type": "markdown",
   "metadata": {},
   "source": [
    "### Statement 15 — At least $k$ odd part<a class=\"anchor\" id=\"statement-15-at-least-one-odd-part\"></a>\n",
    "\n",
    "The number of partitions of $n$ that include at least $k$ odd parts, denoted $p(n\\,|\\,\\text{at least } k \\text{ odd parts})$."
   ]
  },
  {
   "cell_type": "code",
   "execution_count": null,
   "metadata": {},
   "outputs": [],
   "source": []
  },
  {
   "cell_type": "code",
   "execution_count": null,
   "metadata": {},
   "outputs": [],
   "source": []
  },
  {
   "cell_type": "markdown",
   "metadata": {},
   "source": [
    "### Statement 16 — At least $k$ even part<a class=\"anchor\" id=\"statement-16-at-least-one-even-part\"></a>\n",
    "\n",
    "The number of partitions of $n$ that include at least $k$ even part, denoted $p(n\\,|\\,\\text{at least } k \\text{ even parts})$."
   ]
  },
  {
   "cell_type": "code",
   "execution_count": null,
   "metadata": {},
   "outputs": [],
   "source": []
  },
  {
   "cell_type": "code",
   "execution_count": null,
   "metadata": {},
   "outputs": [],
   "source": []
  },
  {
   "cell_type": "markdown",
   "metadata": {},
   "source": [
    "### Statement 17 — Even multiplicity of each part<a class=\"anchor\" id=\"statement-17-even-multiplicity-of-each-part\"></a>\n",
    "\n",
    "The number of partitions of $n$ where each part appears an even number of times, denoted $p(n\\,|\\,\\text{even number of each part})$."
   ]
  },
  {
   "cell_type": "code",
   "execution_count": null,
   "metadata": {},
   "outputs": [],
   "source": []
  },
  {
   "cell_type": "code",
   "execution_count": null,
   "metadata": {},
   "outputs": [],
   "source": []
  },
  {
   "cell_type": "markdown",
   "metadata": {},
   "source": [
    "### Statement 18 — Number of $k$ parts <a class=\"anchor\" id=\"statement-18-number-of-k-parts\"></a>\n",
    "\n",
    "For each partition of $n$, how many times does the part $k$ appear in each partition?"
   ]
  },
  {
   "cell_type": "code",
   "execution_count": null,
   "metadata": {},
   "outputs": [],
   "source": []
  },
  {
   "cell_type": "code",
   "execution_count": null,
   "metadata": {},
   "outputs": [],
   "source": []
  },
  {
   "cell_type": "markdown",
   "metadata": {},
   "source": [
    "### Statement 19 — Perfect square relation <a class=\"anchor\" id=\"statement-19-perfect-square-relation\"></a>\n",
    "\n",
    "Given that $p$ is a perfect square, $p = n^2$ for some integer $n$, investigate whether there is a relationship between the number of partitions of $p$ and the number of partitions of $n$."
   ]
  },
  {
   "cell_type": "code",
   "execution_count": null,
   "metadata": {},
   "outputs": [],
   "source": []
  },
  {
   "cell_type": "code",
   "execution_count": null,
   "metadata": {},
   "outputs": [],
   "source": []
  },
  {
   "cell_type": "markdown",
   "metadata": {},
   "source": [
    "### Statement 20 — Armstrong Numbers <a class=\"anchor\" id=\"statement-20-armstrong-numbers\"></a>\n",
    "\n",
    "Determine the number of partitions of $n$ when $n$ is an Armstrong number. ([See the definition of Armstrong numbers](http://mathworld.wolfram.com/NarcissisticNumber.html))."
   ]
  },
  {
   "cell_type": "code",
   "execution_count": null,
   "metadata": {},
   "outputs": [],
   "source": []
  },
  {
   "cell_type": "code",
   "execution_count": null,
   "metadata": {},
   "outputs": [],
   "source": []
  },
  {
   "cell_type": "markdown",
   "metadata": {},
   "source": [
    "### Statement 21 — Product of parts equals $n$ <a class=\"anchor\" id=\"statement-21-product-of-parts-equals-n\"></a>\n",
    "\n",
    "The number of partitions of $n$ where the product of all parts equals $n$, denoted $p(n\\,|\\,\\text{product of parts is } n)$."
   ]
  },
  {
   "cell_type": "code",
   "execution_count": null,
   "metadata": {},
   "outputs": [],
   "source": []
  },
  {
   "cell_type": "code",
   "execution_count": null,
   "metadata": {},
   "outputs": [],
   "source": []
  },
  {
   "cell_type": "markdown",
   "metadata": {},
   "source": [
    "### Statement 22 — Distribution <a class=\"anchor\" id=\"statement-22-distribution\"></a>\n",
    "\n",
    "Is there a distribution governing the number of partitions of $n$? If so, determine and describe it."
   ]
  },
  {
   "cell_type": "code",
   "execution_count": null,
   "metadata": {},
   "outputs": [],
   "source": []
  },
  {
   "cell_type": "code",
   "execution_count": null,
   "metadata": {},
   "outputs": [],
   "source": []
  },
  {
   "cell_type": "markdown",
   "metadata": {},
   "source": [
    "### Statement 23 — Partition Formula <a class=\"anchor\" id=\"statement-23-partition-formula\"></a>\n",
    "\n",
    "Is there a general formula for computing the number of partitions of $n$? If so, find and verify it."
   ]
  },
  {
   "cell_type": "code",
   "execution_count": null,
   "metadata": {},
   "outputs": [],
   "source": []
  },
  {
   "cell_type": "code",
   "execution_count": null,
   "metadata": {},
   "outputs": [],
   "source": []
  },
  {
   "cell_type": "markdown",
   "metadata": {},
   "source": [
    "## Modulo <a class=\"anchor\" id=\"modulo\"></a>\n",
    "\n",
    "Instead of focusing on the types of partitions, one could analyze properties of the partition function $p(n)$ itself. These investigations are often more challenging, as there is no straightforward formula for $p(n)$. (The discovery of a formula, rooted in calculus, was a significant breakthrough about a century ago.) However, we can look for patterns in remainders.\n",
    "\n",
    "- Compute $p(n) \\bmod 2$ for several values of $n$. Do you notice any patterns?"
   ]
  },
  {
   "cell_type": "code",
   "execution_count": null,
   "metadata": {},
   "outputs": [],
   "source": []
  },
  {
   "cell_type": "code",
   "execution_count": null,
   "metadata": {},
   "outputs": [],
   "source": []
  },
  {
   "cell_type": "code",
   "execution_count": null,
   "metadata": {},
   "outputs": [],
   "source": []
  },
  {
   "cell_type": "markdown",
   "metadata": {},
   "source": [
    "Probably not. Try computing $p(n) \\bmod q$ for other primes $q$."
   ]
  },
  {
   "cell_type": "code",
   "execution_count": null,
   "metadata": {},
   "outputs": [],
   "source": []
  },
  {
   "cell_type": "code",
   "execution_count": null,
   "metadata": {},
   "outputs": [],
   "source": []
  },
  {
   "cell_type": "code",
   "execution_count": null,
   "metadata": {},
   "outputs": [],
   "source": []
  },
  {
   "cell_type": "markdown",
   "metadata": {},
   "source": [
    "The Indian mathematician Ramanujan discovered and proved some relationships about certain $q$, so there <em>is</em> something to find!  But it won't be as simple as a formula for every $n$, just for certain $n$.  It's fun to find."
   ]
  },
  {
   "cell_type": "code",
   "execution_count": null,
   "metadata": {},
   "outputs": [],
   "source": []
  },
  {
   "cell_type": "code",
   "execution_count": null,
   "metadata": {},
   "outputs": [],
   "source": []
  },
  {
   "cell_type": "code",
   "execution_count": null,
   "metadata": {},
   "outputs": [],
   "source": []
  },
  {
   "cell_type": "markdown",
   "metadata": {},
   "source": [
    "## Geometric Represention <a class=\"anchor\" id=\"geometric-representation\"></a>\n",
    "\n",
    "Each partition of $n$ has a geometric representation. This is called the `ferrers diagram`. There is also the `Young diagram`."
   ]
  },
  {
   "cell_type": "code",
   "execution_count": null,
   "metadata": {},
   "outputs": [],
   "source": [
    "a = Partitions(5).list(); a"
   ]
  },
  {
   "cell_type": "code",
   "execution_count": null,
   "metadata": {},
   "outputs": [],
   "source": [
    "show([part.ferrers_diagram() for part in a])"
   ]
  },
  {
   "cell_type": "code",
   "execution_count": null,
   "metadata": {},
   "outputs": [],
   "source": [
    "show(a[1].ferrers_diagram())"
   ]
  },
  {
   "cell_type": "code",
   "execution_count": null,
   "metadata": {},
   "outputs": [],
   "source": []
  },
  {
   "cell_type": "markdown",
   "metadata": {},
   "source": [
    "For each of the statement above, is there an equivalent geometric interpretation?"
   ]
  },
  {
   "cell_type": "code",
   "execution_count": null,
   "metadata": {},
   "outputs": [],
   "source": []
  },
  {
   "cell_type": "markdown",
   "metadata": {},
   "source": [
    "Can you think of any more question one could ask? Kindly list three of them and explore. See if you can derive a conjecture and prove it. You do not have to come up with a complete proof of your conjecture, but we are interested in the way you came about it and how you intend to prove it."
   ]
  },
  {
   "cell_type": "code",
   "execution_count": null,
   "metadata": {},
   "outputs": [],
   "source": []
  },
  {
   "cell_type": "code",
   "execution_count": null,
   "metadata": {},
   "outputs": [],
   "source": []
  },
  {
   "cell_type": "markdown",
   "metadata": {},
   "source": [
    "## Conjectures\n",
    "\n",
    "I have two conjectures already. I will prove one, and you will prove the other. The conjectures are as follows:\n",
    "\n",
    "1. $p(\\text{odd} \\,|\\,\\text{all parts even})=0$\n",
    "2. $p(n\\,|\\,\\text{all parts even}) = p(n\\,|\\,\\text{even number of each part})$.\n",
    "3. $p(2n\\,|\\, \\text{all parts even})=p(n)$\n",
    "\n",
    "First, let's see how I used Sage to come validate or falsify the first conjecture."
   ]
  },
  {
   "cell_type": "code",
   "execution_count": null,
   "metadata": {},
   "outputs": [],
   "source": []
  },
  {
   "cell_type": "markdown",
   "metadata": {},
   "source": [
    "### Exploring Conjecture 1 <a class=\"anchor\" id=\"exploring-conjecture-1\"></a>\n",
    "\n",
    "- $p(\\text{odd} \\,|\\,\\text{all parts even})=0$\n",
    "\n",
    "\n",
    "Let is try out some simple cases. Do you remember which keyword to use here to get all even parts? If not, check the Partitions documentation."
   ]
  },
  {
   "cell_type": "code",
   "execution_count": null,
   "metadata": {},
   "outputs": [],
   "source": [
    "Partitions?"
   ]
  },
  {
   "cell_type": "code",
   "execution_count": null,
   "metadata": {},
   "outputs": [],
   "source": [
    "list(Partitions(9, parts_in = [2,4..9]))"
   ]
  },
  {
   "cell_type": "markdown",
   "metadata": {},
   "source": [
    "<p>To aviod copy and paste, I simply write a <span id=\"cell_outer_34\"><code class=\"docutils literal\"><span class=\"pre\">lambda</span></code></span> function.</p>"
   ]
  },
  {
   "cell_type": "code",
   "execution_count": null,
   "metadata": {},
   "outputs": [],
   "source": [
    "partitions_of_odd_number_with_even_parts_lambda = lambda n : Partitions(n, parts_in = [2,4..n]).cardinality()"
   ]
  },
  {
   "cell_type": "markdown",
   "metadata": {},
   "source": [
    "<p>I can call the lambda function <span id=\"cell_outer_34\"><code class=\"docutils literal\"><span class=\"pre\">partitions_of_odd_number_with_even_parts_lambda</span></code></span> for other positive odd integers as well. For example $5$.</p>"
   ]
  },
  {
   "cell_type": "code",
   "execution_count": null,
   "metadata": {},
   "outputs": [],
   "source": [
    "partitions_of_odd_number_with_even_parts_lambda(5)"
   ]
  },
  {
   "cell_type": "markdown",
   "metadata": {},
   "source": [
    "<p>Wow! That seems to work pretty well. I can even check for more odd numbers as well by using a list comprehension.</p>"
   ]
  },
  {
   "cell_type": "code",
   "execution_count": null,
   "metadata": {},
   "outputs": [],
   "source": [
    "[partitions_of_odd_number_with_even_parts_lambda(odd_num) for odd_num in [1,3..10]]"
   ]
  },
  {
   "cell_type": "markdown",
   "metadata": {},
   "source": [
    "How can use you higher order functions, like `map`, to rephrase the code above?"
   ]
  },
  {
   "cell_type": "code",
   "execution_count": null,
   "metadata": {},
   "outputs": [],
   "source": []
  },
  {
   "cell_type": "code",
   "execution_count": null,
   "metadata": {},
   "outputs": [],
   "source": []
  },
  {
   "cell_type": "markdown",
   "metadata": {},
   "source": [
    "<p>Since I do not want to always be copying and pasting the list comprehension and changing the range all the time, I create another lambda function <span id=\"cell_outer_34\"><code class=\"docutils literal\"><span class=\"pre\">partitions_of_odd_number_with_even_parts_list</span></code></span> for that also.</p>"
   ]
  },
  {
   "cell_type": "code",
   "execution_count": null,
   "metadata": {},
   "outputs": [],
   "source": [
    "partitions_of_odd_number_with_even_parts_list = lambda n : [(m, partitions_of_odd_number_with_even_parts_lambda(m)) for m in [1,3..n]]"
   ]
  },
  {
   "cell_type": "markdown",
   "metadata": {},
   "source": [
    "<p>Now I can test this for more range. All I need is to give the range.</p>"
   ]
  },
  {
   "cell_type": "code",
   "execution_count": null,
   "metadata": {},
   "outputs": [],
   "source": [
    "partitions_of_odd_number_with_even_parts_list(10)"
   ]
  },
  {
   "cell_type": "markdown",
   "metadata": {},
   "source": [
    "<p>Now I create another lambda function <span id=\"cell_outer_34\"><code class=\"docutils literal\"><span class=\"pre\">partitions_of_odd_number_with_even_parts_table</span></code></span> to generate a table for a given range $[1,3,\\dots,n]$ where $n$ is a positive integer.</p>"
   ]
  },
  {
   "cell_type": "code",
   "execution_count": null,
   "metadata": {},
   "outputs": [],
   "source": [
    "partitions_of_odd_number_with_even_parts_table = lambda n : table([(m, partitions_of_odd_number_with_even_parts_lambda(m)) for m in [1,3..n]], header_row=[r'$\\text{odd number}$', r'$p(\\text{odd}\\,|\\,\\text{all parts even})$'], frame=True)"
   ]
  },
  {
   "cell_type": "markdown",
   "metadata": {},
   "source": [
    "<p>Now I can call the function <span id=\"cell_outer_34\"><code class=\"docutils literal\"><span class=\"pre\">partitions_of_odd_number_with_even_parts_table</span></code></span> to print out all the partitions of an odd positive integer in a given range in a table form.</p>"
   ]
  },
  {
   "cell_type": "code",
   "execution_count": null,
   "metadata": {},
   "outputs": [],
   "source": [
    "partitions_of_odd_number_with_even_parts_table(100)"
   ]
  },
  {
   "cell_type": "markdown",
   "metadata": {},
   "source": [
    "<p>In order to strictly make the input be odd integer, I write a Python function <span id=\"cell_outer_34\"><code class=\"docutils literal\"><span class=\"pre\">partitions_of_odd_number_with_even_parts_def</span></code></span> which checks if the input $n$ is an odd positive integer and then calls the lambda function <span id=\"cell_outer_34\"><code class=\"docutils literal\"><span class=\"pre\">partitions_of_odd_number_with_even_parts_table</span></code></span> for the given odd number $n$.</p>"
   ]
  },
  {
   "cell_type": "code",
   "execution_count": null,
   "metadata": {},
   "outputs": [],
   "source": [
    "def partitions_of_odd_number_with_even_parts_def(n=7):\n",
    "    '''\n",
    "    This functions assumes that the input `n` is an odd number and returns \n",
    "    the number of partitions of `n` with all even parts.\n",
    "    '''\n",
    "    assert n % 2 == 1 and n > 0, '%s is not an odd positive integer' %n\n",
    "    return partitions_of_odd_number_with_even_parts_table(n)"
   ]
  },
  {
   "cell_type": "code",
   "execution_count": null,
   "metadata": {},
   "outputs": [],
   "source": [
    "partitions_of_odd_number_with_even_parts_def(99)"
   ]
  },
  {
   "cell_type": "markdown",
   "metadata": {},
   "source": [
    "<p>It seems that my conjecture is true. But what is the conjecture? Let us first write it in simple English.</p>\n",
    "<p> </p>\n",
    "<p><strong>Conjecture:</strong> If $n$ is an odd number then the number of partitions of $n$ with all even parts is $0$. That is, $p(n\\text{ odd}\\,|\\,\\text{all even parts})=0$.</p>\n",
    "<p><em><br /></em></p>\n",
    "<p>How might one <em>prove</em> something like this?  Here is an example.</p>\n",
    "<p><strong>Not quite a proof</strong>:  No matter how many even numbers you add up, you always get an even number.  So there are no ways to write an odd number as a sum of even numbers.  That means $p(n\\,|\\,\\text{all parts even})$ is zero if $n$ is odd.</p>\n",
    "<p><strong>A very full proof</strong>: Suppose $n$ is a sum of all even numbers, $\\sum_{i=1}^k a_i$.  By definition, we can write each of these numbers $a_i=2\\,b_i$, where $b_i$ is another integer.  Then the sum becomes $$\\sum_{i=1}^k a_i = \\sum_{i=1}^k 2\\,b_i = 2\\sum_{i=1}^k b_i$$  Since adding a finite number of integers is still an integer, this is two times and integer, which is by definition even.  So $n$ could only be even.  Thus there are no partitions of an odd number where all parts are odd, so $p(n\\,|\\,\\text{all parts even})$ is zero if $n$ is odd. This completes the proof.</p>"
   ]
  },
  {
   "cell_type": "markdown",
   "metadata": {},
   "source": [
    "So our conjecture is now a theorem\n",
    "\n",
    "<p><strong>Theorem:</strong> If $n$ is an odd number then the number of partitions of $n$ with all even parts is $0$. That is, $p(n\\text{ odd}\\,|\\,\\text{all even parts})=0$.</p>"
   ]
  },
  {
   "cell_type": "code",
   "execution_count": null,
   "metadata": {},
   "outputs": [],
   "source": []
  },
  {
   "cell_type": "markdown",
   "metadata": {},
   "source": [
    "### Exploring Conjecture 2 <a class=\"anchor\" id=\"exploring-conjecture-2\"></a>\n",
    "\n",
    "- $p(n\\,|\\,\\text{all parts even}) = p(n\\,|\\,\\text{even number of each part})$.\n"
   ]
  },
  {
   "cell_type": "markdown",
   "metadata": {},
   "source": [
    "Start with simple cases. As you read the through my implementation, a good exercise to test whether you understand my code is to add documentation. Either in markdown or comment. "
   ]
  },
  {
   "cell_type": "code",
   "execution_count": null,
   "metadata": {},
   "outputs": [],
   "source": [
    "partitions_of_6_with_even_parts = Partitions(6, parts_in=[2,4,6]).list(); partitions_of_6_with_even_parts"
   ]
  },
  {
   "cell_type": "code",
   "execution_count": null,
   "metadata": {},
   "outputs": [],
   "source": [
    "even_number_of_each_part = lambda partition : all([is_even(partition.count(part)) for part in partition])"
   ]
  },
  {
   "cell_type": "code",
   "execution_count": null,
   "metadata": {},
   "outputs": [],
   "source": [
    "[partition for partition in Partitions(6).list() if even_number_of_each_part(list(partition))]"
   ]
  },
  {
   "cell_type": "code",
   "execution_count": null,
   "metadata": {},
   "outputs": [],
   "source": [
    "partitions_of_n_with_even_parts = lambda n : Partitions(n, parts_in=[2,4..n]).list()"
   ]
  },
  {
   "cell_type": "code",
   "execution_count": null,
   "metadata": {},
   "outputs": [],
   "source": [
    "partitions_of_n_with_even_parts(6)"
   ]
  },
  {
   "cell_type": "code",
   "execution_count": null,
   "metadata": {},
   "outputs": [],
   "source": [
    "number_of_partitions_of_n_with_even_parts = lambda n : Partitions(n, parts_in=[2,4..n]).cardinality()"
   ]
  },
  {
   "cell_type": "code",
   "execution_count": null,
   "metadata": {},
   "outputs": [],
   "source": [
    "number_of_partitions_of_n_with_even_parts(6)"
   ]
  },
  {
   "cell_type": "code",
   "execution_count": null,
   "metadata": {},
   "outputs": [],
   "source": [
    "partitions_of_n_with_even_number_of_each_part = lambda n : [partition for partition in Partitions(n).list() if even_number_of_each_part(list(partition))]"
   ]
  },
  {
   "cell_type": "code",
   "execution_count": null,
   "metadata": {},
   "outputs": [],
   "source": [
    "partitions_of_n_with_even_number_of_each_part(6)"
   ]
  },
  {
   "cell_type": "code",
   "execution_count": null,
   "metadata": {},
   "outputs": [],
   "source": [
    "number_of_partitions_of_n_with_even_number_of_each_part = lambda n : len([partition for partition in Partitions(n).list() if even_number_of_each_part(list(partition))])"
   ]
  },
  {
   "cell_type": "code",
   "execution_count": null,
   "metadata": {},
   "outputs": [],
   "source": [
    "number_of_partitions_of_n_with_even_number_of_each_part(6)"
   ]
  },
  {
   "cell_type": "code",
   "execution_count": null,
   "metadata": {},
   "outputs": [],
   "source": [
    "[(number_of_partitions_of_n_with_even_parts(n), number_of_partitions_of_n_with_even_number_of_each_part(n)) for n in [0..10]]"
   ]
  },
  {
   "cell_type": "code",
   "execution_count": null,
   "metadata": {},
   "outputs": [],
   "source": [
    "all([number_of_partitions_of_n_with_even_parts(int_num) == number_of_partitions_of_n_with_even_number_of_each_part(int_num) for int_num in [0..30]])"
   ]
  },
  {
   "cell_type": "markdown",
   "metadata": {},
   "source": [
    "**Theorem**\n",
    "\n",
    "For all $n\\in\\mathbb{Z}_{\\ge0}$, $p(n\\,|\\,\\text{all parts even}) = p(n\\,|\\,\\text{even number of each part})$.\n",
    "\n",
    "Proof (Bijective Proof):\n",
    "\n",
    "Observe that, an even part can be split into two halves. The inverse of this operation is merging two equal parts into one part twice as large."
   ]
  },
  {
   "cell_type": "code",
   "execution_count": null,
   "metadata": {},
   "outputs": [],
   "source": []
  },
  {
   "cell_type": "code",
   "execution_count": null,
   "metadata": {},
   "outputs": [],
   "source": []
  },
  {
   "cell_type": "markdown",
   "metadata": {},
   "source": [
    "Right now, try working on your own or in groups to prove the statement above for $p(2n\\,|\\, \\text{all parts even}) = p(n)$. You can follow a similar approach to what I did for proving $p(\\text{odd} \\,|\\, \\text{all parts even}) = 0$."
   ]
  },
  {
   "cell_type": "markdown",
   "metadata": {},
   "source": [
    "### Exploring Conjecture 3 <a class=\"anchor\" id=\"exploring-conjecture-3\"></a>\n",
    "\n",
    "- $p(2n\\,|\\, \\text{all parts even})=p(n)$."
   ]
  },
  {
   "cell_type": "markdown",
   "metadata": {},
   "source": []
  },
  {
   "cell_type": "code",
   "execution_count": null,
   "metadata": {},
   "outputs": [],
   "source": []
  },
  {
   "cell_type": "markdown",
   "metadata": {},
   "source": [
    "## Sage Interact Quickstart <a class=\"anchor\" id=\"sage-interact-quickstart\"></a>\n",
    "\n",
    "This part of this [Sage](http://www.sagemath.org/) worksheet is adapted from one developed for the MAA PREP Workshop \"Sage: Using Open-Source Mathematics Software with Undergraduates\" (funding provided by NSF DUE 0817071). Invaluable resources are the Sage wiki [http://wiki.sagemath.org/interact](http://wiki.sagemath.org/interact). See also\n",
    "\n",
    "- [interacts in the Jupyter notebook](https://doc.sagemath.org/html/en/reference/repl/sage/repl/ipython_kernel/interact.html)\n",
    "- [UTMOST Sage Cell Repository](http://utmost-sage-cell.org/interacts) (a collection of contributed interacts)."
   ]
  },
  {
   "cell_type": "markdown",
   "metadata": {},
   "source": [
    "### Start with just one command <a class=\"anchor\" id=\"start-with-just-one-command\"></a>\n",
    "\n",
    "How would one create an interactive cell? First, let's focus on a new thing to do! Perhaps we just want a graph plotter that has some options.\n",
    "\n",
    "So let's start by getting the commands for what you want the output to look like. Here we just want a simple plot."
   ]
  },
  {
   "cell_type": "code",
   "execution_count": 85,
   "metadata": {},
   "outputs": [],
   "source": [
    "sage.plot.graphics.Graphics.SHOW_OPTIONS['figsize'] = 3 # This is just to set all my graph objects to a particular size"
   ]
  },
  {
   "cell_type": "code",
   "execution_count": 86,
   "metadata": {},
   "outputs": [
    {
     "data": {
      "image/png": "[encoded data removed]",
      "text/plain": [
       "Graphics object consisting of 1 graphics primitive"
      ]
     },
     "execution_count": 86,
     "metadata": {},
     "output_type": "execute_result"
    }
   ],
   "source": [
    "plot(x^2,(x,-3,3))"
   ]
  },
  {
   "cell_type": "markdown",
   "metadata": {},
   "source": [
    "<p>Then you abstract out the parts you want to change.  We'll be letting the user change the function, so let's make that a variable $f$.</p>"
   ]
  },
  {
   "cell_type": "code",
   "execution_count": 29,
   "metadata": {},
   "outputs": [
    {
     "data": {
      "text/plain": []
     },
     "execution_count": 29,
     "metadata": {},
     "output_type": "execute_result"
    }
   ],
   "source": [
    "f=x^3\n",
    "plot(f,(x,-3,3))"
   ]
  },
  {
   "cell_type": "markdown",
   "metadata": {},
   "source": [
    "This was important because it allowed you to step back and think about what you would really be doing.\n",
    "\n",
    "Now for the technical part. We make this a `def` function. The `show` or `print` is needed since the output is not automatically printed from within a function. Note also that we give the variable a default value of `x^2`. This is what $f$ is if the user does not specify a value for $f$.\n"
   ]
  },
  {
   "cell_type": "code",
   "execution_count": 87,
   "metadata": {},
   "outputs": [],
   "source": [
    "def myplot(f=x^2):\n",
    "    show(plot(f,(x,-3,3)))"
   ]
  },
  {
   "cell_type": "markdown",
   "metadata": {},
   "source": [
    "<p>Let's test the def function myplot by just calling it.</p>"
   ]
  },
  {
   "cell_type": "code",
   "execution_count": 88,
   "metadata": {},
   "outputs": [
    {
     "data": {
      "image/png": "[encoded data removed]",
      "text/plain": [
       "Graphics object consisting of 1 graphics primitive"
      ]
     },
     "metadata": {},
     "output_type": "display_data"
    }
   ],
   "source": [
    "myplot()"
   ]
  },
  {
   "cell_type": "markdown",
   "metadata": {},
   "source": [
    "If we call it with a different value for $f$, we should get a different plot."
   ]
  },
  {
   "cell_type": "code",
   "execution_count": 89,
   "metadata": {},
   "outputs": [
    {
     "data": {
      "image/png": "[encoded data removed]",
      "text/plain": [
       "Graphics object consisting of 1 graphics primitive"
      ]
     },
     "metadata": {},
     "output_type": "display_data"
    }
   ],
   "source": [
    "myplot(x^3)"
   ]
  },
  {
   "cell_type": "markdown",
   "metadata": {},
   "source": [
    "So far, we've only defined a new function, so this was technically review.  To make a control to enter the function, we just preface the function with `@interact`."
   ]
  },
  {
   "cell_type": "code",
   "execution_count": 90,
   "metadata": {},
   "outputs": [
    {
     "data": {
      "application/vnd.jupyter.widget-view+json": {
       "model_id": "b08e9e197bdc41cf93e14a2647e51d2a",
       "version_major": 2,
       "version_minor": 0
      },
      "text/plain": [
       "Interactive function <function myplot at 0x7f5562731c60> with 1 widget\n",
       "  f: EvalText(value='x^2', description='f')"
      ]
     },
     "metadata": {},
     "output_type": "display_data"
    }
   ],
   "source": [
    "@interact\n",
    "def myplot(f=x^2):\n",
    "    show(plot(f,(x,-3,3)))"
   ]
  },
  {
   "cell_type": "markdown",
   "metadata": {},
   "source": [
    "Technically, what the `@interact` does is wrap the function, so the above is equivalent to:\n",
    "\n",
    "```python\n",
    "def myplot(...): ...\n",
    "myplot = interact(myplot)\n"
   ]
  },
  {
   "cell_type": "code",
   "execution_count": 55,
   "metadata": {},
   "outputs": [
    {
     "data": {
      "text/plain": []
     },
     "execution_count": 55,
     "metadata": {},
     "output_type": "execute_result"
    }
   ],
   "source": []
  },
  {
   "cell_type": "markdown",
   "metadata": {},
   "source": [
    "Note that we can still call our function, even when we've used `@interact`. This is often useful in debugging it."
   ]
  },
  {
   "cell_type": "code",
   "execution_count": 91,
   "metadata": {},
   "outputs": [
    {
     "data": {
      "image/png": "[encoded data removed]",
      "text/plain": [
       "Graphics object consisting of 1 graphics primitive"
      ]
     },
     "metadata": {},
     "output_type": "display_data"
    }
   ],
   "source": [
    "myplot(x^4)"
   ]
  },
  {
   "cell_type": "markdown",
   "metadata": {},
   "source": [
    "### Adding Complexity <a class=\"anchor\" id=\"adding-complexity\"></a>\n",
    "\n",
    "We can go ahead and replace other parts of the expression with variables. Note that `_` is the function name now. That is a just convention for throw-away names that we don’t care about.\n"
   ]
  },
  {
   "cell_type": "code",
   "execution_count": 92,
   "metadata": {},
   "outputs": [
    {
     "data": {
      "application/vnd.jupyter.widget-view+json": {
       "model_id": "7a3e602888d045e485996deea2cdef2e",
       "version_major": 2,
       "version_minor": 0
      },
      "text/plain": [
       "Interactive function <function _ at 0x7f5562231d00> with 3 widgets\n",
       "  f: EvalText(value='x^2', description='f')\n",
       "  a: IntSlider(value=-3, description='a', max=3, min=-9)\n",
       "  b: IntSlider(value=3, description='b', max=9, min=-3)"
      ]
     },
     "metadata": {},
     "output_type": "display_data"
    }
   ],
   "source": [
    "@interact\n",
    "def _(f = x^2, a = -3, b = 3):\n",
    "    \n",
    "    show(plot(f, (x, a, b)))"
   ]
  },
  {
   "cell_type": "code",
   "execution_count": 60,
   "metadata": {},
   "outputs": [
    {
     "data": {
      "text/plain": []
     },
     "execution_count": 60,
     "metadata": {},
     "output_type": "execute_result"
    }
   ],
   "source": []
  },
  {
   "cell_type": "markdown",
   "metadata": {},
   "source": [
    "If we pass `('label', default_value)` in for a control, then the control gets the label when printed. Here, we've put in some text for all three of them. \n",
    "\n",
    "Remember that the text must be in quotes! Otherwise, Sage will think that you are referring (for example) to some variable called `lower`, which it will think you forgot to define."
   ]
  },
  {
   "cell_type": "code",
   "execution_count": 93,
   "metadata": {},
   "outputs": [
    {
     "data": {
      "application/vnd.jupyter.widget-view+json": {
       "model_id": "1d887cdaf012416bb920fe3728542f2c",
       "version_major": 2,
       "version_minor": 0
      },
      "text/plain": [
       "Interactive function <function _ at 0x7f5562231bc0> with 3 widgets\n",
       "  f: EvalText(value='x^2', description='$f$')\n",
       "  a: IntSlider(value=-3, description='lower', max=3, min=-9)\n",
       "  b: IntSlider(value=3, description='upper', max=9, min=-3)"
      ]
     },
     "metadata": {},
     "output_type": "display_data"
    }
   ],
   "source": [
    "@interact\n",
    "def _(f=('$f$',x^2),a=('lower',-3),b=('upper',3)):\n",
    "    show(plot(f,(x,a,b)))"
   ]
  },
  {
   "cell_type": "markdown",
   "metadata": {},
   "source": [
    "We can specify the type of control explicitly, along with options. See below for more detail on the possibilities."
   ]
  },
  {
   "cell_type": "code",
   "execution_count": 94,
   "metadata": {},
   "outputs": [
    {
     "data": {
      "application/vnd.jupyter.widget-view+json": {
       "model_id": "8520b030ce914f349d0fdf75b14ec3a7",
       "version_major": 2,
       "version_minor": 0
      },
      "text/plain": [
       "Interactive function <function _ at 0x7f5561f78180> with 1 widget\n",
       "  f: EvalText(value='x^2', description='$f$', layout=Layout(max_width='21em'))"
      ]
     },
     "metadata": {},
     "output_type": "display_data"
    }
   ],
   "source": [
    "@interact\n",
    "def _(f=input_box(x^2,width=20, label=\"$f$\")):\n",
    "    show(plot(f,(x,-3,3)))"
   ]
  },
  {
   "cell_type": "markdown",
   "metadata": {},
   "source": [
    "Here's another type of control: a color picker."
   ]
  },
  {
   "cell_type": "code",
   "execution_count": 95,
   "metadata": {},
   "outputs": [
    {
     "data": {
      "application/vnd.jupyter.widget-view+json": {
       "model_id": "baf51e22e16b40df96692d7ef6970eb4",
       "version_major": 2,
       "version_minor": 0
      },
      "text/plain": [
       "Interactive function <function _ at 0x7f5561fb37e0> with 2 widgets\n",
       "  f: EvalText(value='x^2', description='f', layout=Layout(max_width='21em'))\n",
       "  color: SageColorPicker(value='#0000ff', description='color')"
      ]
     },
     "metadata": {},
     "output_type": "display_data"
    }
   ],
   "source": [
    "@interact\n",
    "def _(f=input_box(x^2,width=20), color=color_selector(widget='colorpicker')):\n",
    "    show(plot(f,(x,-3,3), color=color))"
   ]
  },
  {
   "cell_type": "markdown",
   "metadata": {},
   "source": [
    "We have to use the annoying syntax `color_selector(widget='colorpicker')` because the default is currently broken in at least some browsers."
   ]
  },
  {
   "cell_type": "code",
   "execution_count": 38,
   "metadata": {},
   "outputs": [
    {
     "data": {
      "text/plain": []
     },
     "execution_count": 38,
     "metadata": {},
     "output_type": "execute_result"
    }
   ],
   "source": []
  },
  {
   "cell_type": "code",
   "execution_count": 39,
   "metadata": {},
   "outputs": [
    {
     "data": {
      "text/plain": []
     },
     "execution_count": 39,
     "metadata": {},
     "output_type": "execute_result"
    }
   ],
   "source": []
  },
  {
   "cell_type": "markdown",
   "metadata": {},
   "source": [
    "Here we demonstrate a bunch of options. Notice the new controls:\n",
    "\n",
    "- **Range slider**, which passes in *two* values: `zoom[0]` and `zoom[1]`.\n",
    "- **True/False**, which gets converted to checkboxes.\n"
   ]
  },
  {
   "cell_type": "code",
   "execution_count": 19,
   "metadata": {},
   "outputs": [
    {
     "data": {
      "text/plain": []
     },
     "execution_count": 19,
     "metadata": {},
     "output_type": "execute_result"
    }
   ],
   "source": [
    "@interact\n",
    "def _(f=input_box(x^2,width=20), \n",
    "color=color_selector(widget='colorpicker', label=\"\"),\n",
    "axes=True,\n",
    "fill=True,\n",
    "zoom=range_slider(-3,3,default=(-3,3))):\n",
    "    show(plot(f,(x,zoom[0], zoom[1]), color=color, axes=axes,fill=fill))"
   ]
  },
  {
   "cell_type": "markdown",
   "metadata": {},
   "source": [
    "That was a bit ugly because all of the controls were stacked on top of each other.  We can lay out the controls in a grid in the top, bottom, left, or right using the 'layout' parameter."
   ]
  },
  {
   "cell_type": "code",
   "execution_count": 96,
   "metadata": {},
   "outputs": [
    {
     "data": {
      "application/vnd.jupyter.widget-view+json": {
       "model_id": "4ce9f00659874efa9d346e5b7df60d84",
       "version_major": 2,
       "version_minor": 0
      },
      "text/plain": [
       "Interactive function <function _ at 0x7f55620b8540> with 5 widgets\n",
       "  f: EvalText(value='x^2', description='f', layout=Layout(max_width='21em'))\n",
       "  color: SageColorPicker(value='#0000ff', description='color')\n",
       "  axes: Checkbox(value=True, description='axes')\n",
       "  fill: Checkbox(value=True, description='fill')\n",
       "  zoom: TransformIntRangeSlider(value=(-3, 3), description='zoom', max=3, min=-3)"
      ]
     },
     "metadata": {},
     "output_type": "display_data"
    }
   ],
   "source": [
    "@interact(layout=dict(top=[['f', 'color']],\n",
    "left=[['axes'],['fill']],\n",
    "bottom=[['zoom']]))\n",
    "def _(f=input_box(x^2,width=20),\n",
    "color=color_selector(widget='colorpicker', label=\"\"),\n",
    "axes=True,\n",
    "fill=True,\n",
    "zoom=range_slider(-3,3, default=(-3,3))):\n",
    "    show(plot(f,(x,zoom[0], zoom[1]), color=color, axes=axes,fill=fill))"
   ]
  },
  {
   "cell_type": "markdown",
   "metadata": {},
   "source": [
    "Now I will demonstrate a lot of different control types. Feel free to ignore me and start making your own interacts!"
   ]
  },
  {
   "cell_type": "markdown",
   "metadata": {},
   "source": [
    "### Control Types <a class=\"anchor\" id=\"control-types\"></a>\n",
    "\n",
    "Sage has:\n",
    "\n",
    "- **Boxes**\n",
    "- **Sliders**\n",
    "- **Range sliders**\n",
    "- **Checkboxes**\n",
    "- **Selectors** (dropdown lists or buttons)\n",
    "- **Grid of boxes**\n",
    "- **Color selectors**\n",
    "- **Plain text**\n",
    "\n",
    "We illustrate some more of these below. Let's take a look at the documentation for `interact`."
   ]
  },
  {
   "cell_type": "code",
   "execution_count": 98,
   "metadata": {},
   "outputs": [
    {
     "data": {
      "text/plain": [
       "\u001b[0;31mSignature:\u001b[0m      \u001b[0minteract\u001b[0m\u001b[0;34m(\u001b[0m\u001b[0m_InteractFactory__interact_f\u001b[0m\u001b[0;34m=\u001b[0m\u001b[0;32mNone\u001b[0m\u001b[0;34m,\u001b[0m \u001b[0;34m**\u001b[0m\u001b[0mkwargs\u001b[0m\u001b[0;34m)\u001b[0m\u001b[0;34m\u001b[0m\u001b[0;34m\u001b[0m\u001b[0m\n",
       "\u001b[0;31mType:\u001b[0m           _InteractFactory\n",
       "\u001b[0;31mString form:\u001b[0m    <ipywidgets.widgets.interaction._InteractFactory object at 0x7f557d92b810>\n",
       "\u001b[0;31mFile:\u001b[0m           ~/Downloads/sage-10.4/local/var/lib/sage/venv-python3.11/lib/python3.11/site-packages/ipywidgets/widgets/interaction.py\n",
       "\u001b[0;31mDocstring:\u001b[0m     \n",
       "   Factory for instances of \"interactive\".\n",
       "\n",
       "   This class is needed to support options like:\n",
       "\n",
       "      >>> @interact.options(manual=True)\n",
       "      ... def greeting(text=\"World\"):\n",
       "      ...     print(\"Hello {}\".format(text))\n",
       "\n",
       "   cls : class\n",
       "      The subclass of \"interactive\" to construct.\n",
       "\n",
       "   options : dict\n",
       "      A dict of options used to construct the interactive function. By\n",
       "      default, this is returned by \"cls.default_options()\".\n",
       "\n",
       "   kwargs : dict\n",
       "      A dict of >>**<<kwargs to use for widgets.\n",
       "\u001b[0;31mCall docstring:\u001b[0m\n",
       "   Make the given function interactive by adding and displaying the\n",
       "   corresponding \"interactive\" widget.\n",
       "\n",
       "   Expects the first argument to be a function. Parameters to this\n",
       "   function are widget abbreviations passed in as keyword arguments\n",
       "   (\"**kwargs\"). Can be used as a decorator (see examples).\n",
       "\n",
       "   f : __interact_f with interactive widget attached to it.\n",
       "\n",
       "   __interact_f : function\n",
       "      The function to which the interactive widgets are tied. The\n",
       "      **kwargs should match the function signature. Passed to\n",
       "      \"interactive()\"\n",
       "\n",
       "   >>**<<kwargs : various, optional\n",
       "      An interactive widget is created for each keyword argument that\n",
       "      is a valid widget abbreviation. Passed to \"interactive()\"\n",
       "\n",
       "   Render an interactive text field that shows the greeting with the\n",
       "   passed in text:\n",
       "\n",
       "      # 1. Using interact as a function\n",
       "      def greeting(text=\"World\"):\n",
       "          print(\"Hello {}\".format(text))\n",
       "      interact(greeting, text=\"Jupyter Widgets\")\n",
       "\n",
       "      # 2. Using interact as a decorator\n",
       "      @interact\n",
       "      def greeting(text=\"World\"):\n",
       "          print(\"Hello {}\".format(text))\n",
       "\n",
       "      # 3. Using interact as a decorator with named parameters\n",
       "      @interact(text=\"Jupyter Widgets\")\n",
       "      def greeting(text=\"World\"):\n",
       "          print(\"Hello {}\".format(text))\n",
       "\n",
       "   Render an interactive slider widget and prints square of number:\n",
       "\n",
       "      # 1. Using interact as a function\n",
       "      def square(num=1):\n",
       "          print(\"{} squared is {}\".format(num, num*num))\n",
       "      interact(square, num=5)\n",
       "\n",
       "      # 2. Using interact as a decorator\n",
       "      @interact\n",
       "      def square(num=2):\n",
       "          print(\"{} squared is {}\".format(num, num*num))\n",
       "\n",
       "      # 3. Using interact as a decorator with named parameters\n",
       "      @interact(num=5)\n",
       "      def square(num=2):\n",
       "          print(\"{} squared is {}\".format(num, num*num))"
      ]
     },
     "metadata": {},
     "output_type": "display_data"
    }
   ],
   "source": [
    "interact?"
   ]
  },
  {
   "cell_type": "markdown",
   "metadata": {},
   "source": [
    "There are many shortcuts and default arguments for doing interacts which are very useful.  I will not even attempt to cover them now, but read the documentation and try the examples to get a feel for what is possible, and how much - or little - code is needed to achieve it."
   ]
  },
  {
   "cell_type": "code",
   "execution_count": 99,
   "metadata": {},
   "outputs": [
    {
     "data": {
      "application/vnd.jupyter.widget-view+json": {
       "model_id": "90f0f3c7f3d84ecb920dc509f87cbe8d",
       "version_major": 2,
       "version_minor": 0
      },
      "text/plain": [
       "Interactive function <function _ at 0x7f556164cea0> with 1 widget\n",
       "  frame: Checkbox(value=True, description='Use frame')"
      ]
     },
     "metadata": {},
     "output_type": "display_data"
    }
   ],
   "source": [
    "@interact\n",
    "def _(frame=checkbox(True, label='Use frame')):\n",
    "    show(plot(sin(x), (x,-5,5)), frame=frame)"
   ]
  },
  {
   "cell_type": "code",
   "execution_count": 100,
   "metadata": {},
   "outputs": [
    {
     "data": {
      "application/vnd.jupyter.widget-view+json": {
       "model_id": "ac1dc197a85f474d9afb74bb3e90f07d",
       "version_major": 2,
       "version_minor": 0
      },
      "text/plain": [
       "Interactive function <function _ at 0x7f556125ede0> with 1 widget\n",
       "  cmap: Dropdown(description='cmap', options=('magma', 'inferno', 'plasma', 'viridis', 'cividis', 'twilight', 'twilight_shifted', 'turbo', 'Blues', 'BrBG', 'BuGn', 'BuPu', 'CMRmap', 'GnBu', 'Greens', 'Greys', 'OrRd', 'Oranges', 'PRGn', 'PiYG', 'PuBu', 'PuBuGn', 'PuOr', 'PuRd', 'Purples', 'RdBu', 'RdGy', 'RdPu', 'RdYlBu', 'RdYlGn', 'Reds', 'Spectral', 'Wistia', 'YlGn', 'YlGnBu', 'YlOrBr', 'YlOrRd', 'afmhot', 'autumn', 'binary', 'bone', 'brg', 'bwr', 'cool', 'coolwarm', 'copper', 'cubehelix', 'flag', 'gist_earth', 'gist_gray', 'gist_heat', 'gist_ncar', 'gist_rainbow', 'gist_stern', 'gist_yarg', 'gnuplot', 'gnuplot2', 'gray', 'hot', 'hsv', 'jet', 'nipy_spectral', 'ocean', 'pink', 'prism', 'rainbow', 'seismic', 'spring', 'summer', 'terrain', 'winter', 'Accent', 'Dark2', 'Paired', 'Pastel1', 'Pastel2', 'Set1', 'Set2', 'Set3', 'tab10', 'tab20', 'tab20b', 'tab20c', 'grey', 'gist_grey', 'gist_yerg', 'Grays', 'magma_r', 'inferno_r', 'plasma_r', 'viridis_r', 'cividis_r', 'twilight_r', 'twilight_shifted_r', 'turbo_r', 'Blues_r', 'BrBG_r', 'BuGn_r', 'BuPu_r', 'CMRmap_r', 'GnBu_r', 'Greens_r', 'Greys_r', 'OrRd_r', 'Oranges_r', 'PRGn_r', 'PiYG_r', 'PuBu_r', 'PuBuGn_r', 'PuOr_r', 'PuRd_r', 'Purples_r', 'RdBu_r', 'RdGy_r', 'RdPu_r', 'RdYlBu_r', 'RdYlGn_r', 'Reds_r', 'Spectral_r', 'Wistia_r', 'YlGn_r', 'YlGnBu_r', 'YlOrBr_r', 'YlOrRd_r', 'afmhot_r', 'autumn_r', 'binary_r', 'bone_r', 'brg_r', 'bwr_r', 'cool_r', 'coolwarm_r', 'copper_r', 'cubehelix_r', 'flag_r', 'gist_earth_r', 'gist_gray_r', 'gist_heat_r', 'gist_ncar_r', 'gist_rainbow_r', 'gist_stern_r', 'gist_yarg_r', 'gnuplot_r', 'gnuplot2_r', 'gray_r', 'hot_r', 'hsv_r', 'jet_r', 'nipy_spectral_r', 'ocean_r', 'pink_r', 'prism_r', 'rainbow_r', 'seismic_r', 'spring_r', 'summer_r', 'terrain_r', 'winter_r', 'Accent_r', 'Dark2_r', 'Paired_r', 'Pastel1_r', 'Pastel2_r', 'Set1_r', 'Set2_r', 'Set3_r', 'tab10_r', 'tab20_r', 'tab20b_r', 'tab20c_r'), value='magma')"
      ]
     },
     "metadata": {},
     "output_type": "display_data"
    }
   ],
   "source": [
    "var('x,y')\n",
    "colormaps=sage.plot.colors.colormaps.keys()\n",
    "@interact\n",
    "def _(cmap=selector(colormaps)):\n",
    "    contour_plot(x^2-y^2,(x,-2,2),(y,-2,2),cmap=cmap).show()"
   ]
  },
  {
   "cell_type": "code",
   "execution_count": 97,
   "metadata": {},
   "outputs": [
    {
     "data": {
      "application/vnd.jupyter.widget-view+json": {
       "model_id": "9f41002e53b845fa9c94442b515e9fd1",
       "version_major": 2,
       "version_minor": 0
      },
      "text/plain": [
       "Interactive function <function _ at 0x7f55622337e0> with 2 widgets\n",
       "  cmap: ToggleButtons(description='cmap', options=('RdBu', 'jet', 'gray', 'gray_r'), value='RdBu')\n",
       "  type: Dropdown(description='type', options=('density', 'contour'), value='density')"
      ]
     },
     "metadata": {},
     "output_type": "display_data"
    }
   ],
   "source": [
    "var('x,y')\n",
    "colormaps=sage.plot.colors.colormaps.keys()\n",
    "@interact\n",
    "def _(cmap=selector(['RdBu', 'jet', 'gray','gray_r'],buttons=True),\n",
    "type=['density','contour']):\n",
    "    if type=='contour':\n",
    "        contour_plot(x^2-y^2,(x,-2,2),(y,-2,2),cmap=cmap, aspect_ratio=1).show()\n",
    "    else:\n",
    "        density_plot(x^2-y^2,(x,-2,2),(y,-2,2),cmap=cmap, frame=True,axes=False,aspect_ratio=1).show()"
   ]
  },
  {
   "cell_type": "code",
   "execution_count": 66,
   "metadata": {},
   "outputs": [
    {
     "data": {
      "text/plain": []
     },
     "execution_count": 66,
     "metadata": {},
     "output_type": "execute_result"
    }
   ],
   "source": []
  },
  {
   "cell_type": "markdown",
   "metadata": {},
   "source": [
    "By default, ranges are sliders that divide the range into $50$ steps (I think that's the right number...)"
   ]
  },
  {
   "cell_type": "code",
   "execution_count": 102,
   "metadata": {},
   "outputs": [
    {
     "data": {
      "application/vnd.jupyter.widget-view+json": {
       "model_id": "32fab697333a4a8fa70f29da405e8d3e",
       "version_major": 2,
       "version_minor": 0
      },
      "text/plain": [
       "Interactive function <function _ at 0x7f55612fde40> with 1 widget\n",
       "  n: IntSlider(value=10, description='n', max=20, min=1)"
      ]
     },
     "metadata": {},
     "output_type": "display_data"
    }
   ],
   "source": [
    "@interact\n",
    "def _(n=(1,20)):\n",
    "    print(factorial(n))"
   ]
  },
  {
   "cell_type": "markdown",
   "metadata": {},
   "source": [
    "You can set the step size to get, for example, just integer values."
   ]
  },
  {
   "cell_type": "code",
   "execution_count": 103,
   "metadata": {},
   "outputs": [
    {
     "data": {
      "application/vnd.jupyter.widget-view+json": {
       "model_id": "a6d8e99f900f40c38bf98d5fa251fbf9",
       "version_major": 2,
       "version_minor": 0
      },
      "text/plain": [
       "Interactive function <function _ at 0x7f55611998a0> with 1 widget\n",
       "  n: TransformIntSlider(value=1, description='n', max=20, min=1)"
      ]
     },
     "metadata": {},
     "output_type": "display_data"
    }
   ],
   "source": [
    "@interact\n",
    "def _(n=slider(1,20,step_size=1)):\n",
    "    print(factorial(n))"
   ]
  },
  {
   "cell_type": "markdown",
   "metadata": {},
   "source": [
    "Or you can explicitly specify the slider values."
   ]
  },
  {
   "cell_type": "code",
   "execution_count": 105,
   "metadata": {},
   "outputs": [
    {
     "data": {
      "application/vnd.jupyter.widget-view+json": {
       "model_id": "9e7fa38cf9b64e0ca0f4bbb6038f2864",
       "version_major": 2,
       "version_minor": 0
      },
      "text/plain": [
       "Interactive function <function _ at 0x7f55610c54e0> with 1 widget\n",
       "  n: SelectionSlider(description='n', options=(1, 2, 3, 4, 5, 6, 7, 8, 9, 10, 11, 12, 13, 14, 15, 16, 17, 18, 19, 20), value=1)"
      ]
     },
     "metadata": {},
     "output_type": "display_data"
    }
   ],
   "source": [
    "@interact\n",
    "def _(n=slider([1..20])):\n",
    "    print(factorial(n))"
   ]
  },
  {
   "cell_type": "markdown",
   "metadata": {},
   "source": [
    "And the slider values don't even have to be numbers!"
   ]
  },
  {
   "cell_type": "code",
   "execution_count": 107,
   "metadata": {},
   "outputs": [
    {
     "data": {
      "application/vnd.jupyter.widget-view+json": {
       "model_id": "9648735a513b4cdea5fe24dd3d416d71",
       "version_major": 2,
       "version_minor": 0
      },
      "text/plain": [
       "Interactive function <function _ at 0x7f55610c5760> with 1 widget\n",
       "  fun: SelectionSlider(description='function', options=(sin, cos, tan, sec, csc, cot), value=sin)"
      ]
     },
     "metadata": {},
     "output_type": "display_data"
    }
   ],
   "source": [
    "@interact\n",
    "def _(fun=('function', slider([sin,cos,tan,sec,csc,cot]))):\n",
    "    print(fun(4.39293))"
   ]
  },
  {
   "cell_type": "code",
   "execution_count": 73,
   "metadata": {},
   "outputs": [
    {
     "data": {
      "text/plain": []
     },
     "execution_count": 73,
     "metadata": {},
     "output_type": "execute_result"
    }
   ],
   "source": []
  },
  {
   "cell_type": "markdown",
   "metadata": {},
   "source": [
    "Matrices are automatically converted to a grid of input boxes."
   ]
  },
  {
   "cell_type": "code",
   "execution_count": 1,
   "metadata": {},
   "outputs": [
    {
     "data": {
      "application/vnd.jupyter.widget-view+json": {
       "model_id": "23334ef0a209495eadc600089409e645",
       "version_major": 2,
       "version_minor": 0
      },
      "text/plain": [
       "Interactive function <function _ at 0x7f4a2e329940> with 1 widget\n",
       "  mat: Grid(value=['matrix', [1 0]\n",
       "[0 1]], children=(Label(value='matrix'), VBox(children=(EvalText(value='1', layout=Layout(max_width='5em')), EvalText(value='0', layout=Layout(max_width='5em')))), VBox(children=(EvalText(value='0', layout=Layout(max_width='5em')), EvalText(value='1', layout=Layout(max_width='5em'))))))"
      ]
     },
     "metadata": {},
     "output_type": "display_data"
    }
   ],
   "source": [
    "@interact\n",
    "def _(mat=('matrix', identity_matrix(2))):\n",
    "    print(mat.eigenvalues())"
   ]
  },
  {
   "cell_type": "markdown",
   "metadata": {},
   "source": [
    "<p>Here's how to get vectors from a grid of boxes.</p>"
   ]
  },
  {
   "cell_type": "code",
   "execution_count": 2,
   "metadata": {},
   "outputs": [
    {
     "data": {
      "application/vnd.jupyter.widget-view+json": {
       "model_id": "336922c1da6a4e728c8878e5dae8a0be",
       "version_major": 2,
       "version_minor": 0
      },
      "text/plain": [
       "Interactive function <function _ at 0x7f4a2d450ea0> with 1 widget\n",
       "  v: Grid(value=['vector', Grid(value=[...], children=(Label(value='vector'), VBox(children=(EvalText(value='1', layout=Layout(max_width='5em')),)), VBox(children=(EvalText(value='2', layout=Layout(max_width='5em')),)), VBox(children=(EvalText(value='3', layout=Layout(max_width='5em')),)), VBox(children=(EvalText(value='6', layout=Layout(max_width='5em')),))))], children=(Label(value='vector'), VBox(children=(EvalText(value='1', layout=Layout(max_width='5em')),)), VBox(children=(EvalText(value='2', layout=Layout(max_width='5em')),)), VBox(children=(EvalText(value='3', layout=Layout(max_width='5em')),)), VBox(children=(EvalText(value='6', layout=Layout(max_width='5em')),))))"
      ]
     },
     "metadata": {},
     "output_type": "display_data"
    }
   ],
   "source": [
    "@interact\n",
    "def _(v=('vector', input_grid(1, 4, default=[[1,2,3,6]], to_value=lambda x: vector(flatten(x))))):\n",
    "    print(v.norm())"
   ]
  },
  {
   "cell_type": "markdown",
   "metadata": {},
   "source": [
    "As a final tip, sometimes we don't want any updates until we specifically say so.  This is especially useful when there are a lot of things to change and it would be annoying to have the interact constantly update, such as when changing a matrix.  We can use the auto_update=False option for that."
   ]
  },
  {
   "cell_type": "code",
   "execution_count": 77,
   "metadata": {},
   "outputs": [
    {
     "data": {
      "text/plain": []
     },
     "execution_count": 77,
     "metadata": {},
     "output_type": "execute_result"
    }
   ],
   "source": [
    "@interact\n",
    "def _(m=('matrix', identity_matrix(2)), auto_update=False):\n",
    "    print(m.eigenvalues())"
   ]
  },
  {
   "cell_type": "markdown",
   "metadata": {},
   "source": [
    "Soon we will start asking you to try to make your *own* such interacts as part of your [third homework assignment](\"https://evansdoe.github.io/aims-za/ems/2024-25/projects\")."
   ]
  },
  {
   "cell_type": "markdown",
   "metadata": {},
   "source": []
  },
  {
   "cell_type": "code",
   "execution_count": null,
   "metadata": {},
   "outputs": [],
   "source": []
  },
  {
   "cell_type": "code",
   "execution_count": null,
   "metadata": {},
   "outputs": [],
   "source": []
  }
 ],
 "metadata": {
  "kernelspec": {
   "display_name": "SageMath 10.4",
   "language": "sage",
   "name": "sagemath"
  },
  "language": "python",
  "language_info": {
   "codemirror_mode": {
    "name": "ipython",
    "version": 3
   },
   "file_extension": ".py",
   "mimetype": "text/x-python",
   "name": "python",
   "nbconvert_exporter": "python",
   "pygments_lexer": "ipython3",
   "version": "3.11.2"
  },
  "varInspector": {
   "cols": {
    "lenName": 16,
    "lenType": 16,
    "lenVar": 40
   },
   "kernels_config": {
    "python": {
     "delete_cmd_postfix": "",
     "delete_cmd_prefix": "del ",
     "library": "var_list.py",
     "varRefreshCmd": "print(var_dic_list())"
    },
    "r": {
     "delete_cmd_postfix": ") ",
     "delete_cmd_prefix": "rm(",
     "library": "var_list.r",
     "varRefreshCmd": "cat(var_dic_list()) "
    }
   },
   "types_to_exclude": [
    "module",
    "function",
    "builtin_function_or_method",
    "instance",
    "_Feature"
   ],
   "window_display": false
  }
 },
 "nbformat": 4,
 "nbformat_minor": 4
}
