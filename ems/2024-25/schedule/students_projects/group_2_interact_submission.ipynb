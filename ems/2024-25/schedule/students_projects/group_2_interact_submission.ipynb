{
 "cells": [
  {
   "cell_type": "markdown",
   "id": "95fda3ec-51f0-4a41-b8be-653b08f6eaff",
   "metadata": {},
   "source": [
    "# $\\underline{ \\text{Topic}}$: Interactive Visualization of a User Network Based on JSONPlaceholder."
   ]
  },
  {
   "cell_type": "markdown",
   "id": "0b21f288-f57d-4b23-9a48-c373fed32793",
   "metadata": {},
   "source": [
    "## GROUP 2 MEMBERS \n",
    "\n",
    "1. BIO TOUGOU BANI\n",
    "2. NKANYANI MIXO\n",
    "3. ABUBAKAR TOYEEB OLAMILEKAN\n",
    "4. RANDRIAMANAMPISOA ALPHONSE\n",
    "   "
   ]
  },
  {
   "cell_type": "code",
   "execution_count": null,
   "id": "8415e24d-8dc4-43f8-84e8-64e1c2193c6d",
   "metadata": {},
   "outputs": [],
   "source": []
  },
  {
   "cell_type": "markdown",
   "id": "1ced4bc2-3401-4f37-b1a2-97112e6381f3",
   "metadata": {},
   "source": [
    "# Introduction\n",
    "\n",
    "Graph theory is a branch of mathematics that focuses on the study of relationships between objects, represented as nodes (vertices) and the connections between them, called edges. Social networks are a perfect example of this, where people (users) are nodes, and their relationships, like friendships or followers, are the edges. This project aims to explore how graph theory and its associated matrices, such as the adjacency matrix and Laplacian matrix, can help us better understand the structure and dynamics of social networks (Bollobás, 1998).\n",
    "\n",
    "\n",
    "## Real-World Applications\n",
    "Social networks are integral to modern life, from platforms like Facebook and Twitter to professional networks like LinkedIn. Graph theory helps us:\n",
    "- Identify **influencers**: Who has the most connections and influence in a network?\n",
    "- Detect **communities**: Groups of users who interact closely.\n",
    "- Predict **trends**: How information, like news or viral content, spreads through the network.\n",
    "- Improve **recommendation systems**: Suggesting new friends, followers, or content based on shared connections.\n",
    "\n",
    "\n",
    "# Background\n",
    "\n",
    "Graph theory was introduced by Leonhard Euler in 1736 with his work on the famous \"Seven Bridges of Königsberg\" problem (Diestel, 2017). Over time, it has become a key tool in understanding complex systems in fields like communication, biology, and artificial intelligence. In the context of social networks, graph theory allows us to model and analyze connections, uncover patterns, and predict behaviors (Easley & Kleinberg, 2010).\n",
    "\n",
    "## Aims\n",
    "\n",
    "This project focuses on studying the mathematical properties of social networks using SageMath. We will:\n",
    "1. **Model Social Networks**: Represent users as nodes and their relationships as edges.\n",
    "2. **Analyze Graph Properties**:\n",
    "   - Use the **adjacency matrix** to understand direct connections between users.\n",
    "   - Use the **Laplacian matrix** to study community structure and identify influencers or isolated groups.\n",
    "3. **Visualize Networks**: Create interactive and customizable graphs to better understand the relationships between users.\n",
    "\n",
    "## Goal of Implementation\n",
    "The goal of this code is to fetch user data from the JSONPlaceholder API and create a network graph based on the user IDs. It builds a graph with the main user as the central node and connects it to other users via edges. Using `@interact from ipywidgets`, the code allows dynamic visualization of the graph, where users can adjust parameters like the number of vertices, edges, vertex size, and edge thickness. It also computes and displays the adjacency matrix and Laplacian matrix of the graph. Finally, the graph is visualized interactively with customizable styling options for the nodes and edges."
   ]
  },
  {
   "cell_type": "code",
   "execution_count": 26,
   "id": "2725e4aa",
   "metadata": {},
   "outputs": [],
   "source": [
    "# pip install tweepy networkx matplotlib"
   ]
  },
  {
   "cell_type": "markdown",
   "id": "d9959cde",
   "metadata": {},
   "source": [
    "**Set Up Twitter API Access**\n",
    "\n",
    "We must create a Twitter Developer account and generate API keys and access tokens from Twitter Developer Portal. Once you have the keys, you can use Tweepy to access the Twitter API."
   ]
  },
  {
   "cell_type": "code",
   "execution_count": 27,
   "id": "688ffb0a",
   "metadata": {},
   "outputs": [],
   "source": [
    "import requests\n",
    "\n",
    "# Define the URL of the JSONPlaceholder API to fetch users\n",
    "url = \"https://jsonplaceholder.typicode.com/users\""
   ]
  },
  {
   "cell_type": "markdown",
   "id": "3a2a466c",
   "metadata": {},
   "source": [
    "**Fetch Followers**\n",
    "\n",
    "We can fetch the followers of a specific Twitter. We'll fetch the followers and their relationships to build the social network."
   ]
  },
  {
   "cell_type": "code",
   "execution_count": 28,
   "id": "aa76edc3-85f2-4c19-9bce-e5f83816db58",
   "metadata": {},
   "outputs": [
    {
     "name": "stdout",
     "output_type": "stream",
     "text": [
      "The friends of Mr. Json are: ['Friend_1', 'Friend_2', 'Friend_3', 'Friend_4', 'Friend_5', 'Friend_6', 'Friend_7', 'Friend_8', 'Friend_9', 'Friend_10']\n"
     ]
    }
   ],
   "source": [
    "import requests\n",
    "import networkx as nx\n",
    "from matplotlib import pyplot as plt\n",
    "from ipywidgets import interact\n",
    "\n",
    "# Function to fetch users from the JSONPlaceholder API\n",
    "def get_users():\n",
    "    names = []\n",
    "    # Send a GET request to the API\n",
    "    response = requests.get(\"https://jsonplaceholder.typicode.com/users\")  # Add a valid URL here\n",
    "    \n",
    "    # Check if the request was successful (status code 200)\n",
    "    if response.status_code == 200:\n",
    "        # Extract the JSON data from the response\n",
    "        users_data = response.json()\n",
    "        \n",
    "        # Extract random names (or any other information you need)\n",
    "        for user in users_data:\n",
    "            # Replace user['id'] with a random name\n",
    "            names.append(f\"Friend_{user['id']}\")  # You can later replace this with actual names\n",
    "   \n",
    "    return names\n",
    "\n",
    "# Call the function and print the list of random names\n",
    "user_names = get_users()\n",
    "print(\"The friends of Mr. Json are:\", user_names)\n"
   ]
  },
  {
   "cell_type": "markdown",
   "id": "12e2e036",
   "metadata": {},
   "source": [
    "**Interactive Analysis with Laplacian and Adjacency Matrices**\n",
    "\n",
    "Now that you have the social network graph, we can compute and display the adjacency and Laplacian matrices."
   ]
  },
  {
   "cell_type": "code",
   "execution_count": 30,
   "id": "a44c6e98-c7f4-48e0-a44e-d493d7fe47ef",
   "metadata": {},
   "outputs": [
    {
     "data": {
      "application/vnd.jupyter.widget-view+json": {
       "model_id": "b36dc380df894bfa9e21a76acad77dbd",
       "version_major": 2,
       "version_minor": 0
      },
      "text/plain": [
       "interactive(children=(IntSlider(value=6, description='num_vertices', max=11, min=1), IntSlider(value=25, description='num_edges', max=50), IntSlider(value=1100, description='vertex_size', max=2000, min=200, step=100), IntSlider(value=5, description='edge_thickness', max=10, min=1), Dropdown(description='vertex_color', options=('blue', 'red', 'green', 'yellow', 'pink', 'purple'), value='blue'), Dropdown(description='edge_color', options=('black', 'gray', 'orange', 'blue', 'red'), value='black'), Output()), _dom_classes=('widget-interact',))"
      ]
     },
     "metadata": {},
     "output_type": "display_data"
    }
   ],
   "source": [
    "# Function to create the interactive graph\n",
    "@interact\n",
    "def interactive_graph_with_matrices(\n",
    "    num_vertices=(1, 11, 1),  # Number of vertices: from 1 to 11\n",
    "    num_edges=(0, 50, 1),     # Number of edges: from 0 to 50\n",
    "    vertex_size=(200, 2000, 100),  # Vertex size\n",
    "    edge_thickness=(1, 10, 1),     # Edge thickness\n",
    "    vertex_color=[\"blue\", \"red\", \"green\", \"yellow\", \"pink\", \"purple\"],  # Vertex colors\n",
    "    edge_color=[\"black\", \"gray\", \"orange\", \"blue\", \"red\"],              # Edge colors\n",
    "):\n",
    "    # Update the graph with the chosen number of vertices and edges\n",
    "    G = nx.gnm_random_graph(num_vertices, num_edges)\n",
    "    \n",
    "    # Custom vertex labels\n",
    "    vertex_labels = {i: f\"JSON\" if i == 0 else f\"Friend_{i}\" for i in range(num_vertices)}\n",
    "    # vertex_labels = {i: f\"friend_{i}\" for i in range(num_vertices)}\n",
    "\n",
    "    # Adjacency matrix\n",
    "    adj_matrix = nx.adjacency_matrix(G).todense()\n",
    "    \n",
    "    # Laplacian matrix\n",
    "    laplacian_matrix = nx.laplacian_matrix(G).todense()\n",
    "    \n",
    "    # Check if the graph is connected\n",
    "    is_connected = nx.is_connected(G)\n",
    "    \n",
    "    # Display graph properties\n",
    "    print(\"\\n=== Graph Properties ===\")\n",
    "    print(f\"Number of vertices: {num_vertices}\")\n",
    "    print(f\"Number of edges: {num_edges}\")\n",
    "    print(f\"Degree of vertices: {dict(G.degree())}\")\n",
    "    print(f\"Number of connected components: {nx.number_connected_components(G)}\")\n",
    "    print(f\"Is the graph connected? {is_connected}\")  # Output connectivity status\n",
    "    \n",
    "    # Display adjacency matrix\n",
    "    print(\"\\n=== Adjacency Matrix ===\")\n",
    "    print(adj_matrix)\n",
    "    \n",
    "    # Display Laplacian matrix\n",
    "    print(\"\\n=== Laplacian Matrix ===\")\n",
    "    print(laplacian_matrix)\n",
    "    \n",
    "    # Draw the graph with custom vertex labels\n",
    "    nx.draw(G, with_labels=True, labels=vertex_labels, node_size=vertex_size, node_color=vertex_color, edge_color=edge_color, width=edge_thickness)\n",
    "    plt.show()\n"
   ]
  },
  {
   "cell_type": "markdown",
   "id": "3cf7c240",
   "metadata": {},
   "source": [
    "#### Observations in the Connectivity\n",
    "\n",
    "- If the graph is connected, the number of connected components will always be **1**, and the output of `Is the graph connected?` will be **True**.\n",
    "- If the graph is disconnected, the number of connected components will be greater than **1**, and the output of `Is the graph connected?` will be **False**.\n",
    "\n",
    "#### Observations in the Adjacency Matrix:\n",
    "- A graph with **few edges** will have many **0** values in the adjacency matrix, indicating fewer connections between vertices.\n",
    "- A **strongly connected graph** will have more **1** values in the adjacency matrix, indicating more connections between vertices.\n",
    "\n",
    "This means that the adjacency matrix reflects the density of connections in the graph:\n",
    "- **Sparse graphs** will have a larger proportion of **0** values.\n",
    "- **Dense graphs** will have more **1** values, indicating that most vertices are connected to each other.\n"
   ]
  },
  {
   "cell_type": "markdown",
   "id": "d3ddae3e-ee43-4b2d-a656-92b646b077bf",
   "metadata": {},
   "source": [
    "## Conclusion\n",
    "By combining graph theory with computational tools like SageMath, this project will provide insights into the structure and behavior of social networks. These insights can help improve the design of social platforms, enhance communication, and even identify and mitigate harmful behaviors online, such as the spread of misinformation or cyberbullying.\n"
   ]
  },
  {
   "cell_type": "markdown",
   "id": "7cc0c879-525f-4fa2-9878-908731f62082",
   "metadata": {},
   "source": [
    "## Future recommendation\n",
    "\n",
    "In the future, we recommend exploring more ways to analyze social networks, such as finding key users, understanding how communities form, and studying how information spreads over time. Using real-world data from platforms like Facebook or Twitter can make the results more practical. Machine learning techniques, like Graph Neural Networks, can help predict user behavior or suggest new connections. It’s also important to consider privacy and ethical issues, like protecting user data and avoiding misuse. Lastly, creating better visualization tools and working with experts from other fields, like sociology or psychology, can help make this research more useful and easy to understand for everyone."
   ]
  },
  {
   "cell_type": "markdown",
   "id": "40e138da",
   "metadata": {},
   "source": [
    "## For those interested, we direct you to the following links:\n",
    "\n",
    "- [Graph Theory - Wikipedia](https://en.wikipedia.org/wiki/Graph_theory)\n",
    "- [Introduction to Graph Theory - Wiley Online Library](https://www.wiley.com/en-us/Introduction+to+Graph+Theory%2C+2nd+Edition-p-9780470847946)\n",
    "- [Laplacian Matrix on Wikipedia](https://en.wikipedia.org/wiki/Laplacian_matrix)\n",
    "- [Connected Components in Graphs - GeeksforGeeks](https://www.geeksforgeeks.org/connected-components-in-undirected-graph/)\n",
    "- Bollobás, B. *Modern Graph Theory*. Springer, 1998.\n",
    "- Diestel, R. *Graph Theory*. Springer, 5th Edition, 2017.\n",
    "- Easley, D., & Kleinberg, J. *Networks, Crowds, and Markets: Reasoning About a Highly Connected World*.\n"
   ]
  },
  {
   "cell_type": "markdown",
   "id": "5ed8fbec",
   "metadata": {},
   "source": [
    "$$\\Huge  \\mathbb{T}\\mathbb{H}\\mathbb{A}\\mathbb{N}\\mathbb{K}\\quad\\mathbb{Y}\\mathbb{O}\\mathbb{U}\\quad \\mathbb{F}\\mathbb{O}\\mathbb{R}\\quad \\mathbb{Y}\\mathbb{O}\\mathbb{U}\\mathbb{R}\\quad \\mathbb{A}\\mathbb{T}\\mathbb{T}\\mathbb{E}\\mathbb{N}\\mathbb{T}\\mathbb{I}\\mathbb{O}\\mathbb{N}\\; !  $$"
   ]
  }
 ],
 "metadata": {
  "kernelspec": {
   "display_name": "SageMath 10.4",
   "language": "sage",
   "name": "sagemath"
  },
  "language_info": {
   "codemirror_mode": {
    "name": "ipython",
    "version": 3
   },
   "file_extension": ".py",
   "mimetype": "text/x-python",
   "name": "python",
   "nbconvert_exporter": "python",
   "pygments_lexer": "ipython3",
   "version": "3.11.2"
  }
 },
 "nbformat": 4,
 "nbformat_minor": 5
}
