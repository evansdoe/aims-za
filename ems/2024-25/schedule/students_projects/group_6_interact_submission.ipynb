{
 "cells": [
  {
   "cell_type": "markdown",
   "id": "eeb5f240-f1bf-4034-8917-0e062ce0fde6",
   "metadata": {},
   "source": [
    "### SOLVING SECOND ORDER NON HOMOGENEOUS ODE'S WITH SAGE'S INTERACT FEATURE "
   ]
  },
  {
   "cell_type": "code",
   "execution_count": 1,
   "id": "cfb124bd-5e51-47ed-86d0-579021818d15",
   "metadata": {},
   "outputs": [
    {
     "data": {
      "application/vnd.jupyter.widget-view+json": {
       "model_id": "0e37c8866fc543f7a706cc5306f8a748",
       "version_major": 2,
       "version_minor": 0
      },
      "text/plain": [
       "Interactive function <function solve_ode at 0x7f6a7379c540> with 13 widgets\n",
       "  a: IntSlider(value=0, description='a', max=10, min=-10)\n",
       "  b: IntSlider(value=0, description='b', max=10, min=-10)\n",
       "  c: IntSlider(value=0, description='c', max=10, min=-10)\n",
       "  f: Text(value='x^2', description='f')\n",
       "  x0: IntSlider(value=0, description='x0', max=2, min=-2)\n",
       "  y0: IntSlider(value=0, description='y0', max=2, min=-2)\n",
       "  dy0: IntSlider(value=0, description='dy0', max=2, min=-2)\n",
       "  axes: Checkbox(value=True, description='axes')\n",
       "  fill: Checkbox(value=True, description='fill')\n",
       "  xmin: IntSlider(value=-10, description='xmin', max=10, min=-30)\n",
       "  xmax: IntSlider(value=10, description='xmax', max=30, min=-10)\n",
       "  zoom: TransformIntRangeSlider(value=(-5, 5), description='zoom', max=5, min=-5)\n",
       "  color: Dropdown(description='color', options=('blue', 'red', 'yellow', 'green', 'magenta', 'cyan', 'violet', 'orange', 'pink', 'brown', 'black'), value='blue')"
      ]
     },
     "metadata": {},
     "output_type": "display_data"
    }
   ],
   "source": [
    "COLORS = [\n",
    "    \"blue\",\n",
    "    \"red\",\n",
    "    \"yellow\",\n",
    "    \"green\",\n",
    "    \"magenta\",\n",
    "    \"cyan\",\n",
    "    \"violet\",\n",
    "    \"orange\",\n",
    "    \"pink\",\n",
    "    \"brown\",\n",
    "    \"black\"\n",
    "]\n",
    "\n",
    "\n",
    "@interact\n",
    "def solve_ode(\n",
    "    a=(-10,10),\n",
    "    b=(-10,10),\n",
    "    c=(-10,10), \n",
    "    f=\"x^2\", \n",
    "    x0=(-2,2),\n",
    "    y0=(-2,2), \n",
    "    dy0=(-2,2),\n",
    "    axes=True,\n",
    "    fill=True,\n",
    "    xmin=-10, \n",
    "    xmax=10,\n",
    "    zoom=range_slider(-5,5,default=(-5,5)),\n",
    "    color=selector(COLORS)\n",
    "):\n",
    "    \n",
    "    \n",
    "    x = var('x')\n",
    "    y = function('y')(x)\n",
    "   \n",
    "    try:\n",
    "        forcing_function = sage_eval(f, locals={'x': x})\n",
    "    except Exception as e:\n",
    "        print(f\"Error in forcing function: {e}\")\n",
    "        return\n",
    "   \n",
    "    ode = a * diff(y, x, 2) + b * diff(y, x,1) + c * y == forcing_function\n",
    "   \n",
    "    try:\n",
    "        sol = desolve(ode, y, ics=[x0, y0, dy0])\n",
    "        show('y(x) = ' + latex(sol))\n",
    "        p = plot(sol, (x, xmin, xmax),color=color, fill=fill, axes=axes, legend_label=\"Numerical Solution\")\n",
    "        show(p)\n",
    "    except Exception as e:\n",
    "            print(f\"Error in solving the ODE: {e}\")"
   ]
  },
  {
   "cell_type": "markdown",
   "id": "d0e8ea51-ea99-4c8c-81ec-887280ee3a46",
   "metadata": {},
   "source": [
    "# Group Members\n",
    "1. Ruth Naayi Odankey Abbey\n",
    "2. Kahsay Godifey Wubneh\n",
    "3. Anjoreoluwa Elizabeth Boluwajoko\n",
    "4. Clinton Paye Quee\n",
    "\n",
    "# Explanation\n",
    "Our goal in this presentation is to expose the powerful nature of the @interact decorator in SageMath.\n",
    "This program solves any second-order linear non-homogeneous differential equation, display the solution, and plots the graph of the equation after approximating the solution using numerical method.\n",
    "But before we dive in, what exactly is the @interact feature of Sage?\n",
    "\n",
    "The @interact feature of sage, as the name dictates, allows user to interact directly with the output of the program, changing some parameters to suit their preference.\n",
    "Since SageMath is primarily used for various types of mathematical experimentation, we could expect the @interact decorator to display graphics of various kinds in mathematics. \n",
    "One reason why this feature is so powerful is because it aids in visualization and computation of solutions to complex math problems on a wide range of topics ranging from Linear Algebra, Calculus, Geometry, Measure Theory, Machine Learning, Crytography and the list goes on.\n",
    "\n",
    "What is our program communicating?\n",
    "\n",
    "One way to analyze the behavior of a dynamical system is to describe the system by using differential equations - an equation that gives the rate of change of a process with respect to time. This is particularly important when we have a system that changes continuously over time. In order to understand and completely describe the processes taking place in a continuous dynamical system at a particular time, we need values called initial conditions or boundary conditions.\n",
    "\n",
    "Second order non-homogeneous linear differential equations arise in a wide range of dynamical systems where a dependent variable's behavior is influenced by external forces or inputs. The solution to the equations describing these systems have both a natural (homogeneous) response and a forced (non-homogeneous) response.\n",
    "This is what is known as the superposition principle.\n",
    "\n",
    "\n",
    "Code Explanation!\n",
    "1. Define the variable.\n",
    "2. Define the forcing function or the non-homogeneous part of the differential equation.\n",
    "3. Handle any error the user may make in inputing the forcing function.\n",
    "4. Evaluate the external input that drives the system.\n",
    "3. Define the second order linear non-homogeneous differential equation.\n",
    "4. Solve the differential equation numerically given some initial conditions.\n",
    "5. Plot the solution.\n",
    "\n",
    "We used the try and except block to handle errors made by the user. For example, if the user enters an invalid forcing function, the program handles the error by pointing out where the error was made instead of the entire program crashing.\n"
   ]
  },
  {
   "cell_type": "code",
   "execution_count": null,
   "id": "3007405c-2e1a-46ac-832c-aa0325b3d4f8",
   "metadata": {},
   "outputs": [],
   "source": []
  }
 ],
 "metadata": {
  "kernelspec": {
   "display_name": "SageMath 10.4",
   "language": "sage",
   "name": "sagemath"
  },
  "language_info": {
   "codemirror_mode": {
    "name": "ipython",
    "version": 3
   },
   "file_extension": ".py",
   "mimetype": "text/x-python",
   "name": "python",
   "nbconvert_exporter": "python",
   "pygments_lexer": "ipython3",
   "version": "3.11.2"
  }
 },
 "nbformat": 4,
 "nbformat_minor": 5
}
